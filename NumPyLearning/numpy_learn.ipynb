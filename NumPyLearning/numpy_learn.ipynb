{
 "cells": [
  {
   "metadata": {},
   "cell_type": "raw",
   "source": [
    "NumPy is the core library for scientific computing in Python. Foundational Python libraries such as pandas, SciPy, and Matplotlib are built on top of NumPy's API.\n",
    "So are machine learning libraries such as Tensor Flow and skicit-learn which use NumPy arrays as inputs."
   ],
   "id": "28d3e550e0a88671"
  },
  {
   "metadata": {
    "ExecuteTime": {
     "end_time": "2024-11-26T06:42:40.703247Z",
     "start_time": "2024-11-26T06:42:39.499408Z"
    }
   },
   "cell_type": "code",
   "source": [
    "import numpy as np\n",
    "from matplotlib import pyplot as plt"
   ],
   "id": "d4845a2432b9993b",
   "outputs": [],
   "execution_count": 5
  },
  {
   "metadata": {
    "ExecuteTime": {
     "end_time": "2024-11-07T05:18:06.290807Z",
     "start_time": "2024-11-07T05:18:06.276803Z"
    }
   },
   "cell_type": "code",
   "source": [
    "# Create 1D arrays from lists \n",
    "python_list = [3,2,5,8,4,9,7,6,1]\n",
    "array = np.array(python_list)\n",
    "print(array)"
   ],
   "id": "2bee77e996c84ae7",
   "outputs": [
    {
     "name": "stdout",
     "output_type": "stream",
     "text": [
      "[3 2 5 8 4 9 7 6 1]\n"
     ]
    }
   ],
   "execution_count": 4
  },
  {
   "metadata": {
    "ExecuteTime": {
     "end_time": "2024-11-07T05:19:31.388408Z",
     "start_time": "2024-11-07T05:19:31.373111Z"
    }
   },
   "cell_type": "code",
   "source": [
    "# Create a 2D array from a list of lists.\n",
    "python_list_of_lists = [[3, 2, 5],\n",
    "                        [9, 7, 1],\n",
    "                        [4, 3, 6]]\n",
    "np.array(python_list_of_lists)"
   ],
   "id": "19d4880dbe3aa2e9",
   "outputs": [
    {
     "data": {
      "text/plain": [
       "array([[3, 2, 5],\n",
       "       [9, 7, 1],\n",
       "       [4, 3, 6]])"
      ]
     },
     "execution_count": 5,
     "metadata": {},
     "output_type": "execute_result"
    }
   ],
   "execution_count": 5
  },
  {
   "metadata": {},
   "cell_type": "markdown",
   "source": [
    "Why use arrays rather than lists? While Python lists can include many different data types, all the elements in a NumPy array must be the same data type. <p> \n",
    "This makes NumPy very efficient: there's no need for NumPy to check the data type of each element in an array since they must all be the same. <p>\n",
    "Having only a single data type also means that a NumPy array takes up less space in memory than the same information if stored as a Python list."
   ],
   "id": "afaf011d7e11830e"
  },
  {
   "metadata": {},
   "cell_type": "code",
   "outputs": [],
   "execution_count": null,
   "source": [
    "# can contains many different data types\n",
    "python_list = [\"beep\", False, 56, .945, [3, 2, 5]]\n",
    "# can contain only a single data type\n",
    "numpy_boolean_array = [[True,False],[True,True],[False,False]]\n",
    "numpy_float_array = [1.9, 5.4, 8.8, 3.6, 3.2]"
   ],
   "id": "c259c8b05de3379b"
  },
  {
   "metadata": {
    "ExecuteTime": {
     "end_time": "2024-11-07T05:26:02.205208Z",
     "start_time": "2024-11-07T05:26:02.196686Z"
    }
   },
   "cell_type": "code",
   "source": [
    "# Creating arrays from scratch\n",
    "np.zeros(10)"
   ],
   "id": "ee4feda168eaa9ec",
   "outputs": [
    {
     "data": {
      "text/plain": [
       "array([0., 0., 0., 0., 0., 0., 0., 0., 0., 0.])"
      ]
     },
     "execution_count": 9,
     "metadata": {},
     "output_type": "execute_result"
    }
   ],
   "execution_count": 9
  },
  {
   "metadata": {
    "ExecuteTime": {
     "end_time": "2024-11-07T05:26:48.277115Z",
     "start_time": "2024-11-07T05:26:48.268352Z"
    }
   },
   "cell_type": "code",
   "source": "np.zeros((2,3))",
   "id": "24f0795c185867c8",
   "outputs": [
    {
     "data": {
      "text/plain": [
       "array([[0., 0., 0.],\n",
       "       [0., 0., 0.]])"
      ]
     },
     "execution_count": 12,
     "metadata": {},
     "output_type": "execute_result"
    }
   ],
   "execution_count": 12
  },
  {
   "metadata": {
    "ExecuteTime": {
     "end_time": "2024-11-07T05:26:09.083536Z",
     "start_time": "2024-11-07T05:26:09.068521Z"
    }
   },
   "cell_type": "code",
   "source": "np.random.random(10)",
   "id": "13fe3aee5fa04b64",
   "outputs": [
    {
     "data": {
      "text/plain": [
       "array([0.59333976, 0.60682236, 0.48076311, 0.56309166, 0.36786468,\n",
       "       0.35614209, 0.71376993, 0.40513497, 0.27876005, 0.71510545])"
      ]
     },
     "execution_count": 10,
     "metadata": {},
     "output_type": "execute_result"
    }
   ],
   "execution_count": 10
  },
  {
   "metadata": {
    "ExecuteTime": {
     "end_time": "2024-11-07T05:27:11.912750Z",
     "start_time": "2024-11-07T05:27:11.905325Z"
    }
   },
   "cell_type": "code",
   "source": "np.random.random((2,3))",
   "id": "3038a0e190ded70e",
   "outputs": [
    {
     "data": {
      "text/plain": [
       "array([[0.05467155, 0.24831095, 0.6161036 ],\n",
       "       [0.90825711, 0.8445121 , 0.96498842]])"
      ]
     },
     "execution_count": 13,
     "metadata": {},
     "output_type": "execute_result"
    }
   ],
   "execution_count": 13
  },
  {
   "metadata": {
    "ExecuteTime": {
     "end_time": "2024-11-07T05:26:26.224244Z",
     "start_time": "2024-11-07T05:26:26.217127Z"
    }
   },
   "cell_type": "code",
   "source": "np.arange(10)",
   "id": "b1501108b4675dc6",
   "outputs": [
    {
     "data": {
      "text/plain": [
       "array([0, 1, 2, 3, 4, 5, 6, 7, 8, 9])"
      ]
     },
     "execution_count": 11,
     "metadata": {},
     "output_type": "execute_result"
    }
   ],
   "execution_count": 11
  },
  {
   "metadata": {
    "ExecuteTime": {
     "end_time": "2024-11-07T05:27:31.396191Z",
     "start_time": "2024-11-07T05:27:31.388180Z"
    }
   },
   "cell_type": "code",
   "source": "np.arange(-3,5)",
   "id": "402725362c7e99cb",
   "outputs": [
    {
     "data": {
      "text/plain": [
       "array([-3, -2, -1,  0,  1,  2,  3,  4])"
      ]
     },
     "execution_count": 15,
     "metadata": {},
     "output_type": "execute_result"
    }
   ],
   "execution_count": 15
  },
  {
   "metadata": {
    "ExecuteTime": {
     "end_time": "2024-11-07T05:27:55.886386Z",
     "start_time": "2024-11-07T05:27:55.879521Z"
    }
   },
   "cell_type": "code",
   "source": "np.arange(-3,4,3)",
   "id": "9506d4b45ad086b",
   "outputs": [
    {
     "data": {
      "text/plain": [
       "array([-3,  0,  3])"
      ]
     },
     "execution_count": 16,
     "metadata": {},
     "output_type": "execute_result"
    }
   ],
   "execution_count": 16
  },
  {
   "metadata": {
    "ExecuteTime": {
     "end_time": "2024-11-07T05:28:45.299619Z",
     "start_time": "2024-11-07T05:28:45.158048Z"
    }
   },
   "cell_type": "code",
   "source": [
    "plt.scatter(np.arange(0,7),\n",
    "            np.arange(-3,4))\n",
    "plt.show()"
   ],
   "id": "c93eb68095264fbf",
   "outputs": [
    {
     "data": {
      "text/plain": [
       "<Figure size 640x480 with 1 Axes>"
      ],
      "image/png": "[encoded data removed]"
     },
     "metadata": {},
     "output_type": "display_data"
    }
   ],
   "execution_count": 20
  },
  {
   "metadata": {},
   "cell_type": "raw",
   "source": "One of NumPy's key strengths: the ability to handle data of any dimension.",
   "id": "29d0c1648b7bc521"
  },
  {
   "metadata": {
    "ExecuteTime": {
     "end_time": "2024-11-07T05:39:46.841017Z",
     "start_time": "2024-11-07T05:39:46.809562Z"
    }
   },
   "cell_type": "code",
   "source": [
    "array_1_2D = np.array([[1,2],[5,7]])\n",
    "array_2_2D = np.array([[8,9],[5,7]])\n",
    "array_3_2D = np.array([[1,2],[5,7]])\n",
    "array_3D = np.array([array_1_2D,array_2_2D,array_3_2D])\n",
    "array_3D # a list of lists\n",
    "# Think of a 4D array as a 2D arrays filled with 3D arrays"
   ],
   "id": "a7ca83edb9beb664",
   "outputs": [
    {
     "data": {
      "text/plain": [
       "array([[[1, 2],\n",
       "        [5, 7]],\n",
       "\n",
       "       [[8, 9],\n",
       "        [5, 7]],\n",
       "\n",
       "       [[1, 2],\n",
       "        [5, 7]]])"
      ]
     },
     "execution_count": 23,
     "metadata": {},
     "output_type": "execute_result"
    }
   ],
   "execution_count": 23
  },
  {
   "metadata": {},
   "cell_type": "code",
   "outputs": [],
   "execution_count": null,
   "source": [
    "# In Math, 1D array is a vector\n",
    "# 2D array is matrix\n",
    "# 3D array is a tensor"
   ],
   "id": "b7e3a3a9e06a9e31"
  },
  {
   "metadata": {
    "ExecuteTime": {
     "end_time": "2024-11-07T05:51:57.111858Z",
     "start_time": "2024-11-07T05:51:57.107326Z"
    }
   },
   "cell_type": "code",
   "source": [
    "# Array attribute\n",
    "test = np.zeros((3,3,4))\n",
    "test.shape\n",
    "# Rows are the first dimension\n",
    "# Columns are second dimension"
   ],
   "id": "ee2cf4ea8947e32f",
   "outputs": [
    {
     "data": {
      "text/plain": [
       "(3, 3, 4)"
      ]
     },
     "execution_count": 38,
     "metadata": {},
     "output_type": "execute_result"
    }
   ],
   "execution_count": 38
  },
  {
   "metadata": {
    "ExecuteTime": {
     "end_time": "2024-11-07T05:52:28.044959Z",
     "start_time": "2024-11-07T05:52:28.040431Z"
    }
   },
   "cell_type": "code",
   "source": [
    "flatten =  test.flatten() # it takes all array elements and puts them in just one dimension inside a 1D array\n",
    "print(flatten.shape)"
   ],
   "id": "52050867b2ffe9bd",
   "outputs": [
    {
     "name": "stdout",
     "output_type": "stream",
     "text": [
      "(36,)\n"
     ]
    }
   ],
   "execution_count": 41
  },
  {
   "metadata": {
    "ExecuteTime": {
     "end_time": "2024-11-07T05:46:35.699648Z",
     "start_time": "2024-11-07T05:46:35.692686Z"
    }
   },
   "cell_type": "code",
   "source": [
    "test = np.array([[1,2],[3,4],[5,6]])\n",
    "print(test)\n",
    "print(test.reshape(2,3)) # reshape don't transpose, it will flatten then reshape"
   ],
   "id": "8e81c539c3d395ef",
   "outputs": [
    {
     "name": "stdout",
     "output_type": "stream",
     "text": [
      "[[1 2]\n",
      " [3 4]\n",
      " [5 6]]\n",
      "[[1 2 3]\n",
      " [4 5 6]]\n"
     ]
    }
   ],
   "execution_count": 35
  },
  {
   "metadata": {},
   "cell_type": "markdown",
   "source": [
    "### NumPy data types\n",
    "##### Sample Python data types: int. float \n",
    "##### Sample NumPy data types: np.int64, np.int32, np.float64, np.float32"
   ],
   "id": "dd5c54cef79b70a7"
  },
  {
   "metadata": {
    "ExecuteTime": {
     "end_time": "2024-11-07T05:57:09.408378Z",
     "start_time": "2024-11-07T05:57:09.387638Z"
    }
   },
   "cell_type": "code",
   "source": [
    "# We can find the data type of elements in an array with .dtype\n",
    "np.array([1.32]).dtype"
   ],
   "id": "ec19a2b611ef16e7",
   "outputs": [
    {
     "data": {
      "text/plain": [
       "dtype('float64')"
      ]
     },
     "execution_count": 43,
     "metadata": {},
     "output_type": "execute_result"
    }
   ],
   "execution_count": 43
  },
  {
   "metadata": {
    "ExecuteTime": {
     "end_time": "2024-11-07T05:58:20.849976Z",
     "start_time": "2024-11-07T05:58:20.830981Z"
    }
   },
   "cell_type": "code",
   "source": [
    "# Use dtype as an argument\n",
    "float32_array = np.array([1.32], dtype=np.float32)\n",
    "float32_array.dtype"
   ],
   "id": "10ed94765b9c7db0",
   "outputs": [
    {
     "data": {
      "text/plain": [
       "dtype('float32')"
      ]
     },
     "execution_count": 44,
     "metadata": {},
     "output_type": "execute_result"
    }
   ],
   "execution_count": 44
  },
  {
   "metadata": {},
   "cell_type": "markdown",
   "source": "### Type Conversion",
   "id": "5f674f3f408b9bfe"
  },
  {
   "metadata": {
    "ExecuteTime": {
     "end_time": "2024-11-07T05:59:18.819620Z",
     "start_time": "2024-11-07T05:59:18.804008Z"
    }
   },
   "cell_type": "code",
   "source": [
    "boolean_array = np.array([[True, False],[False, False]], dtype=np.bool_)\n",
    "boolean_array.dtype"
   ],
   "id": "b665fb4beb1c777",
   "outputs": [
    {
     "data": {
      "text/plain": [
       "dtype('bool')"
      ]
     },
     "execution_count": 46,
     "metadata": {},
     "output_type": "execute_result"
    }
   ],
   "execution_count": 46
  },
  {
   "metadata": {
    "ExecuteTime": {
     "end_time": "2024-11-07T05:59:31.457745Z",
     "start_time": "2024-11-07T05:59:31.437969Z"
    }
   },
   "cell_type": "code",
   "source": "boolean_array.astype(np.int32) # use .astype() to convert",
   "id": "c8751564a44c5b0c",
   "outputs": [
    {
     "data": {
      "text/plain": [
       "array([[1, 0],\n",
       "       [0, 0]], dtype=int32)"
      ]
     },
     "execution_count": 47,
     "metadata": {},
     "output_type": "execute_result"
    }
   ],
   "execution_count": 47
  },
  {
   "metadata": {
    "ExecuteTime": {
     "end_time": "2024-11-07T06:02:09.306847Z",
     "start_time": "2024-11-07T06:02:09.295866Z"
    }
   },
   "cell_type": "code",
   "source": [
    "# What happens if we try to make an array out of a Python list several data types?\n",
    "np.array([True, \"Boop\", 43, 43.34])\n",
    "# This call type coercion - all the data changes to one data type, in this case, a string."
   ],
   "id": "3bbc0b0fcc650cc7",
   "outputs": [
    {
     "data": {
      "text/plain": [
       "array(['True', 'Boop', '43', '43.34'], dtype='<U32')"
      ]
     },
     "execution_count": 48,
     "metadata": {},
     "output_type": "execute_result"
    }
   ],
   "execution_count": 48
  },
  {
   "metadata": {},
   "cell_type": "code",
   "outputs": [],
   "execution_count": null,
   "source": [
    "# Type coercion hierarchy\n",
    "# - Adding a float to an array of integers will change all integers into float\n",
    "# - Adding an integer to an array of booleans will change all booleans in to integers"
   ],
   "id": "9e61d36d4b48a8ce"
  },
  {
   "metadata": {},
   "cell_type": "markdown",
   "source": "# Selecting and Updating Data",
   "id": "a447ffdbd3b1804"
  },
  {
   "metadata": {
    "ExecuteTime": {
     "end_time": "2024-11-07T06:09:30.610673Z",
     "start_time": "2024-11-07T06:09:30.562524Z"
    }
   },
   "cell_type": "code",
   "source": [
    "array = np.array([2,4,6,8,10])\n",
    "array[3]\n",
    "# numpy indexing is zero_based."
   ],
   "id": "f4d19d79afb0575e",
   "outputs": [
    {
     "data": {
      "text/plain": [
       "np.int64(8)"
      ]
     },
     "execution_count": 49,
     "metadata": {},
     "output_type": "execute_result"
    }
   ],
   "execution_count": 49
  },
  {
   "metadata": {
    "ExecuteTime": {
     "end_time": "2024-11-07T06:10:25.742355Z",
     "start_time": "2024-11-07T06:10:25.737582Z"
    }
   },
   "cell_type": "code",
   "source": [
    "array = np.array([[1,2,3],[2,3,4],[5,6,7]])\n",
    "array[2,2]"
   ],
   "id": "5ef177969e1f56c5",
   "outputs": [
    {
     "data": {
      "text/plain": [
       "np.int64(7)"
      ]
     },
     "execution_count": 52,
     "metadata": {},
     "output_type": "execute_result"
    }
   ],
   "execution_count": 52
  },
  {
   "metadata": {
    "ExecuteTime": {
     "end_time": "2024-11-07T06:10:49.959775Z",
     "start_time": "2024-11-07T06:10:49.946883Z"
    }
   },
   "cell_type": "code",
   "source": "array[0] #rows",
   "id": "cb907f9307fe93a5",
   "outputs": [
    {
     "data": {
      "text/plain": [
       "array([1, 2, 3])"
      ]
     },
     "execution_count": 53,
     "metadata": {},
     "output_type": "execute_result"
    }
   ],
   "execution_count": 53
  },
  {
   "metadata": {
    "ExecuteTime": {
     "end_time": "2024-11-07T06:10:59.312833Z",
     "start_time": "2024-11-07T06:10:59.306254Z"
    }
   },
   "cell_type": "code",
   "source": "array[:,1] # columns",
   "id": "bcf3901a381967eb",
   "outputs": [
    {
     "data": {
      "text/plain": [
       "array([2, 3, 6])"
      ]
     },
     "execution_count": 54,
     "metadata": {},
     "output_type": "execute_result"
    }
   ],
   "execution_count": 54
  },
  {
   "metadata": {},
   "cell_type": "code",
   "outputs": [],
   "execution_count": null,
   "source": [
    "# slicing 2D arrays\n",
    "sudoku_game_1[3:6, 3:6]  #center 3x3 square"
   ],
   "id": "5c5587cb9ca373c8"
  },
  {
   "metadata": {},
   "cell_type": "code",
   "outputs": [],
   "execution_count": null,
   "source": [
    "# slicing with steps\n",
    "sudoku_game[3:6:2, 3:6:2] # 2 is the step"
   ],
   "id": "e8650b48162ebbbc"
  },
  {
   "metadata": {},
   "cell_type": "code",
   "outputs": [],
   "execution_count": null,
   "source": [
    "# .sort() method sorts an array along a given axis.\n",
    "np.sort(sudoku_game) # sort by rows\n",
    "np.sort(sudoku_game, axis = 0) # sort by columns"
   ],
   "id": "2a7e16afde06e4f2"
  },
  {
   "metadata": {},
   "cell_type": "markdown",
   "source": [
    "## Filtering arrays\n",
    "#### 1. Masks and fancy indexing\n",
    "#### 2. np.where()"
   ],
   "id": "16427da0ba6e0fc2"
  },
  {
   "metadata": {
    "ExecuteTime": {
     "end_time": "2024-11-07T06:25:10.172191Z",
     "start_time": "2024-11-07T06:25:09.988496Z"
    }
   },
   "cell_type": "code",
   "source": [
    "# Fancy indexing with masks\n",
    "one_to_ten = np.arange(1,11)\n",
    "print(one_to_ten)\n",
    "mask = one_to_ten % 2 == 0 \n",
    "print(mask)\n",
    "one_to_ten[mask]\n",
    "# it's useful when we are only interested in the elements that meet a condition."
   ],
   "id": "26ee163d8b0b89e3",
   "outputs": [
    {
     "name": "stdout",
     "output_type": "stream",
     "text": [
      "[ 1  2  3  4  5  6  7  8  9 10]\n",
      "[False  True False  True False  True False  True False  True]\n"
     ]
    },
    {
     "data": {
      "text/plain": [
       "array([ 2,  4,  6,  8, 10])"
      ]
     },
     "execution_count": 55,
     "metadata": {},
     "output_type": "execute_result"
    }
   ],
   "execution_count": 55
  },
  {
   "metadata": {
    "ExecuteTime": {
     "end_time": "2024-11-07T06:29:25.913172Z",
     "start_time": "2024-11-07T06:29:25.889040Z"
    }
   },
   "cell_type": "code",
   "source": [
    "# 2D fancy indexing\n",
    "classroom_ids_and_sizes = np.array([[1, 22], [2, 21], [3, 27], [4, 26]])\n",
    "\n",
    "# create a mask which checks which values in the second column are even\n",
    "mask = classroom_ids_and_sizes[:, 1] % 2 == 0\n",
    "print(mask)\n",
    "# index the first column using that mask so that we return class\n",
    "classroom_ids_and_sizes[:,0][mask]"
   ],
   "id": "1ce15878b34e19b8",
   "outputs": [
    {
     "name": "stdout",
     "output_type": "stream",
     "text": [
      "[[ 1 22]\n",
      " [ 2 21]\n",
      " [ 3 27]\n",
      " [ 4 26]]\n",
      "[ True False False  True]\n"
     ]
    },
    {
     "data": {
      "text/plain": [
       "array([1, 4])"
      ]
     },
     "execution_count": 60,
     "metadata": {},
     "output_type": "execute_result"
    }
   ],
   "execution_count": 60
  },
  {
   "metadata": {},
   "cell_type": "raw",
   "source": [
    "Fancy indexing vs np.where()\n",
    "- Return array of elements              - returns array of indices\n",
    "                                        - Can create an array based on whether elements do or don't meet condition."
   ],
   "id": "18b8bd01872df4c2"
  },
  {
   "metadata": {
    "ExecuteTime": {
     "end_time": "2024-11-07T06:31:51.650159Z",
     "start_time": "2024-11-07T06:31:51.642459Z"
    }
   },
   "cell_type": "code",
   "source": [
    "# Filtering with np.where()\n",
    "np.where(classroom_ids_and_sizes[:, 1] % 2 == 0)"
   ],
   "id": "d75b2bc31702746",
   "outputs": [
    {
     "data": {
      "text/plain": [
       "(array([0, 3]),)"
      ]
     },
     "execution_count": 61,
     "metadata": {},
     "output_type": "execute_result"
    }
   ],
   "execution_count": 61
  },
  {
   "metadata": {},
   "cell_type": "code",
   "outputs": [],
   "execution_count": null,
   "source": [
    "# np.where() return a tuple of indices along with each dimension\n",
    "row_ind, column_ind = np.where(sudoku_game == 0)\n",
    "np.where(sudoku_game == 0, \"\", sudoku_game)"
   ],
   "id": "c0a31cbaf8421891"
  },
  {
   "metadata": {},
   "cell_type": "markdown",
   "source": [
    "## Adding and removing data\n",
    "##### In NumPy, concatenation refers to adding data to an array along any existing axis, such as adding columns to a 2D array. We concatenate using .concatenate() function.\n",
    "<img src=\"img.png\" width = \"400\" height = \"300\">\n",
    "<p>\n",
    "<img src=\"img_1.png\" width = \"400\" height = \"300\">\n",
    "\n"
   ],
   "id": "66fbb8eb6178a360"
  },
  {
   "metadata": {
    "ExecuteTime": {
     "end_time": "2024-11-07T06:50:33.603726Z",
     "start_time": "2024-11-07T06:50:33.559818Z"
    }
   },
   "cell_type": "code",
   "source": [
    "classroom_ids_and_sizes = np.array([[1, 22], [2, 21], [3, 27], [4, 26]])\n",
    "print(classroom_ids_and_sizes)"
   ],
   "id": "f93335f51a46569e",
   "outputs": [
    {
     "name": "stdout",
     "output_type": "stream",
     "text": [
      "[[ 1 22]\n",
      " [ 2 21]\n",
      " [ 3 27]\n",
      " [ 4 26]]\n"
     ]
    }
   ],
   "execution_count": 62
  },
  {
   "metadata": {
    "ExecuteTime": {
     "end_time": "2024-11-07T06:52:33.697739Z",
     "start_time": "2024-11-07T06:52:33.689833Z"
    }
   },
   "cell_type": "code",
   "source": [
    "new_classrooms = np.array([[5,30],[6,17]])\n",
    "classroom_ids_and_sizes = np.concatenate((classroom_ids_and_sizes,new_classrooms))\n",
    "print(classroom_ids_and_sizes)\n",
    "# concatenate() need an tuple to concatenate, and we do it along the first axis - adding new rows."
   ],
   "id": "5f46080ad85043c6",
   "outputs": [
    {
     "name": "stdout",
     "output_type": "stream",
     "text": [
      "[[ 1 22]\n",
      " [ 2 21]\n",
      " [ 3 27]\n",
      " [ 4 26]\n",
      " [ 5 30]\n",
      " [ 6 17]]\n"
     ]
    }
   ],
   "execution_count": 65
  },
  {
   "metadata": {
    "ExecuteTime": {
     "end_time": "2024-11-26T07:00:26.121798Z",
     "start_time": "2024-11-26T07:00:26.113787Z"
    }
   },
   "cell_type": "code",
   "source": [
    "# Concatenating columns\n",
    "classroom_ids_and_sizes = np.array([[1,22],[2,21],[3,27],[4,26]])\n",
    "grade_levels_and_teachers = np.array([[1,\"James\"], [1, \"George\"], [3, \"Amy\"], [3, \"Meehir\"]])\n",
    "final =  np.concatenate((classroom_ids_and_sizes, grade_levels_and_teachers), axis=1)\n",
    "print(final)# columns axis"
   ],
   "id": "efee8985c99d26c0",
   "outputs": [
    {
     "name": "stdout",
     "output_type": "stream",
     "text": [
      "[['1' '22' '1' 'James']\n",
      " ['2' '21' '1' 'George']\n",
      " ['3' '27' '3' 'Amy']\n",
      " ['4' '26' '3' 'Meehir']]\n"
     ]
    }
   ],
   "execution_count": 13
  },
  {
   "metadata": {
    "ExecuteTime": {
     "end_time": "2024-11-26T07:00:27.479875Z",
     "start_time": "2024-11-26T07:00:27.473251Z"
    }
   },
   "cell_type": "code",
   "source": [
    "# Shape compatibility: ValueError: all the input array dimensions for the concatenation axis must match exactly.\n",
    "# Dimension compatibility: all the input arrays must have the same number of dimensions\n",
    "\n",
    "# Creating compatibility\n",
    "array_1D = np.array([1,2,3])\n",
    "column_array_2D = array_1D.reshape((3,1))\n",
    "print(column_array_2D)"
   ],
   "id": "1b4c22a048f8f3e4",
   "outputs": [
    {
     "name": "stdout",
     "output_type": "stream",
     "text": [
      "[[1]\n",
      " [2]\n",
      " [3]]\n"
     ]
    }
   ],
   "execution_count": 14
  },
  {
   "metadata": {
    "ExecuteTime": {
     "end_time": "2024-11-26T07:00:29.251836Z",
     "start_time": "2024-11-26T07:00:29.246955Z"
    }
   },
   "cell_type": "code",
   "source": [
    "print(final)\n",
    "print(np.delete(final, 1, axis =0)) # index = 1, axis = 0 mean delete rows"
   ],
   "id": "aa249debfe8717ed",
   "outputs": [
    {
     "name": "stdout",
     "output_type": "stream",
     "text": [
      "[['1' '22' '1' 'James']\n",
      " ['2' '21' '1' 'George']\n",
      " ['3' '27' '3' 'Amy']\n",
      " ['4' '26' '3' 'Meehir']]\n",
      "[['1' '22' '1' 'James']\n",
      " ['3' '27' '3' 'Amy']\n",
      " ['4' '26' '3' 'Meehir']]\n"
     ]
    }
   ],
   "execution_count": 15
  },
  {
   "metadata": {
    "ExecuteTime": {
     "end_time": "2024-11-26T07:00:30.412031Z",
     "start_time": "2024-11-26T07:00:30.401677Z"
    }
   },
   "cell_type": "code",
   "source": "np.delete(final, 1) # without axis - delete the indicated index or indices along a flattened version of the array.",
   "id": "5ffdc981e9869f3c",
   "outputs": [
    {
     "data": {
      "text/plain": [
       "array(['1', '1', 'James', '2', '21', '1', 'George', '3', '27', '3', 'Amy',\n",
       "       '4', '26', '3', 'Meehir'], dtype='<U21')"
      ]
     },
     "execution_count": 16,
     "metadata": {},
     "output_type": "execute_result"
    }
   ],
   "execution_count": 16
  },
  {
   "metadata": {
    "ExecuteTime": {
     "end_time": "2024-11-26T07:05:16.241648Z",
     "start_time": "2024-11-26T07:05:16.232618Z"
    }
   },
   "cell_type": "code",
   "source": [
    "a = np.arange(12).reshape((3,2,2))\n",
    "b = a + 2\n",
    "print(a.strides)\n",
    "print(b.strides)\n",
    "c = np.concatenate((a,b), axis=2)\n",
    "print(c)\n",
    "d = np.concatenate((a,b), axis = 1)\n",
    "print(d)"
   ],
   "id": "20688dd9c315bee2",
   "outputs": [
    {
     "name": "stdout",
     "output_type": "stream",
     "text": [
      "(32, 16, 8)\n",
      "(32, 16, 8)\n",
      "[[[ 0  1  2  3]\n",
      "  [ 2  3  4  5]]\n",
      "\n",
      " [[ 4  5  6  7]\n",
      "  [ 6  7  8  9]]\n",
      "\n",
      " [[ 8  9 10 11]\n",
      "  [10 11 12 13]]]\n",
      "[[[ 0  1]\n",
      "  [ 2  3]\n",
      "  [ 2  3]\n",
      "  [ 4  5]]\n",
      "\n",
      " [[ 4  5]\n",
      "  [ 6  7]\n",
      "  [ 6  7]\n",
      "  [ 8  9]]\n",
      "\n",
      " [[ 8  9]\n",
      "  [10 11]\n",
      "  [10 11]\n",
      "  [12 13]]]\n"
     ]
    }
   ],
   "execution_count": 24
  },
  {
   "metadata": {
    "ExecuteTime": {
     "end_time": "2024-11-26T07:03:07.253939Z",
     "start_time": "2024-11-26T07:03:07.219815Z"
    }
   },
   "cell_type": "code",
   "source": [
    "# np.repeat()\n",
    "arr = np.arange(3)\n",
    "print(arr)\n",
    "a = arr.repeat(3)\n",
    "print(a)\n",
    "b = arr.repeat([2,3,4])\n",
    "print(b)"
   ],
   "id": "7a6d05ea8e5a5a2d",
   "outputs": [
    {
     "name": "stdout",
     "output_type": "stream",
     "text": [
      "[0 1 2]\n",
      "[0 0 0 1 1 1 2 2 2]\n",
      "[0 0 1 1 1 2 2 2 2]\n"
     ]
    }
   ],
   "execution_count": 21
  },
  {
   "metadata": {
    "ExecuteTime": {
     "end_time": "2024-11-26T07:03:56.946183Z",
     "start_time": "2024-11-26T07:03:56.939655Z"
    }
   },
   "cell_type": "code",
   "source": "help(np.repeat)",
   "id": "2d732a73edbb8f5f",
   "outputs": [
    {
     "name": "stdout",
     "output_type": "stream",
     "text": [
      "Help on _ArrayFunctionDispatcher in module numpy:\n",
      "\n",
      "repeat(a, repeats, axis=None)\n",
      "    Repeat each element of an array after themselves\n",
      "\n",
      "    Parameters\n",
      "    ----------\n",
      "    a : array_like\n",
      "        Input array.\n",
      "    repeats : int or array of ints\n",
      "        The number of repetitions for each element.  `repeats` is broadcasted\n",
      "        to fit the shape of the given axis.\n",
      "    axis : int, optional\n",
      "        The axis along which to repeat values.  By default, use the\n",
      "        flattened input array, and return a flat output array.\n",
      "\n",
      "    Returns\n",
      "    -------\n",
      "    repeated_array : ndarray\n",
      "        Output array which has the same shape as `a`, except along\n",
      "        the given axis.\n",
      "\n",
      "    See Also\n",
      "    --------\n",
      "    tile : Tile an array.\n",
      "    unique : Find the unique elements of an array.\n",
      "\n",
      "    Examples\n",
      "    --------\n",
      "    >>> import numpy as np\n",
      "    >>> np.repeat(3, 4)\n",
      "    array([3, 3, 3, 3])\n",
      "    >>> x = np.array([[1,2],[3,4]])\n",
      "    >>> np.repeat(x, 2)\n",
      "    array([1, 1, 2, 2, 3, 3, 4, 4])\n",
      "    >>> np.repeat(x, 3, axis=1)\n",
      "    array([[1, 1, 1, 2, 2, 2],\n",
      "           [3, 3, 3, 4, 4, 4]])\n",
      "    >>> np.repeat(x, [1, 2], axis=0)\n",
      "    array([[1, 2],\n",
      "           [3, 4],\n",
      "           [3, 4]])\n",
      "\n"
     ]
    }
   ],
   "execution_count": 22
  },
  {
   "metadata": {},
   "cell_type": "markdown",
   "source": "# Summarizing Data",
   "id": "3ab08624876b374c"
  },
  {
   "metadata": {
    "ExecuteTime": {
     "end_time": "2024-11-26T07:04:30.750127Z",
     "start_time": "2024-11-26T07:04:30.727886Z"
    }
   },
   "cell_type": "code",
   "source": [
    "# Aggregating methods\n",
    "np.sum()\n",
    "np.min()\n",
    "np.max()\n",
    "np.mean()\n",
    "np.cumsum()"
   ],
   "id": "84ba192202de3176",
   "outputs": [
    {
     "ename": "TypeError",
     "evalue": "sum() missing 1 required positional argument: 'a'",
     "output_type": "error",
     "traceback": [
      "\u001B[1;31m---------------------------------------------------------------------------\u001B[0m",
      "\u001B[1;31mTypeError\u001B[0m                                 Traceback (most recent call last)",
      "Cell \u001B[1;32mIn[23], line 2\u001B[0m\n\u001B[0;32m      1\u001B[0m \u001B[38;5;66;03m# Aggregating methods\u001B[39;00m\n\u001B[1;32m----> 2\u001B[0m \u001B[43mnp\u001B[49m\u001B[38;5;241;43m.\u001B[39;49m\u001B[43msum\u001B[49m\u001B[43m(\u001B[49m\u001B[43m)\u001B[49m\n\u001B[0;32m      3\u001B[0m np\u001B[38;5;241m.\u001B[39mmin()\n\u001B[0;32m      4\u001B[0m np\u001B[38;5;241m.\u001B[39mmax()\n",
      "\u001B[1;31mTypeError\u001B[0m: sum() missing 1 required positional argument: 'a'"
     ]
    }
   ],
   "execution_count": 23
  },
  {
   "metadata": {
    "ExecuteTime": {
     "end_time": "2024-11-07T07:34:13.734901Z",
     "start_time": "2024-11-07T07:34:13.702631Z"
    }
   },
   "cell_type": "code",
   "source": [
    "security_breaches = np.array([[0, 5, 1],\n",
    "                           [0, 2, 0],\n",
    "                           [1, 1, 2],\n",
    "                           [2, 2, 1],\n",
    "                           [0, 0, 0]])\n",
    "print(security_breaches.sum())\n",
    "print(security_breaches.sum(axis = 0))\n",
    "print(security_breaches.sum(axis = 1))\n",
    "# the same for other min() , max() , mean() \n",
    "# There is an optional keepdims keyword argument. If keepdims is True, then the dimensions that are collapsed when aggregating are left in the output array and set to one.\n",
    "print(security_breaches.sum(axis = 1))\n",
    "print(security_breaches.sum(axis = 1, keepdims = True))"
   ],
   "id": "edca1aff22443c79",
   "outputs": [
    {
     "name": "stdout",
     "output_type": "stream",
     "text": [
      "17\n",
      "[ 3 10  4]\n",
      "[6 2 4 5 0]\n",
      "[6 2 4 5 0]\n",
      "[[6]\n",
      " [2]\n",
      " [4]\n",
      " [5]\n",
      " [0]]\n"
     ]
    }
   ],
   "execution_count": 79
  },
  {
   "metadata": {
    "ExecuteTime": {
     "end_time": "2024-11-07T07:35:15.808524Z",
     "start_time": "2024-11-07T07:35:15.802190Z"
    }
   },
   "cell_type": "code",
   "source": "print(security_breaches.cumsum(axis = 0))",
   "id": "8ea5f2243c3ab810",
   "outputs": [
    {
     "name": "stdout",
     "output_type": "stream",
     "text": [
      "[[ 0  5  1]\n",
      " [ 0  7  1]\n",
      " [ 1  8  3]\n",
      " [ 3 10  4]\n",
      " [ 3 10  4]]\n"
     ]
    }
   ],
   "execution_count": 82
  },
  {
   "metadata": {
    "ExecuteTime": {
     "end_time": "2024-11-07T07:43:21.998800Z",
     "start_time": "2024-11-07T07:43:21.349802Z"
    }
   },
   "cell_type": "code",
   "source": [
    "cum_sums_by_client = security_breaches.cumsum(axis = 0)\n",
    "plt.plot(np.arange(1,6), cum_sums_by_client[:,0], label = 'Client 1')\n",
    "plt.plot(np.arange(1,6), cum_sums_by_client.mean(axis = 1), label = 'Average')\n",
    "plt.legend()\n",
    "plt.show()"
   ],
   "id": "4540a482540661ab",
   "outputs": [
    {
     "data": {
      "text/plain": [
       "<Figure size 640x480 with 1 Axes>"
      ],
      "image/png": "[encoded data removed]"
     },
     "metadata": {},
     "output_type": "display_data"
    }
   ],
   "execution_count": 83
  },
  {
   "metadata": {},
   "cell_type": "markdown",
   "source": "# Vectorized operations",
   "id": "395938a7ff34af0c"
  },
  {
   "metadata": {
    "ExecuteTime": {
     "end_time": "2024-11-07T07:59:59.646451Z",
     "start_time": "2024-11-07T07:59:59.641287Z"
    }
   },
   "cell_type": "code",
   "source": [
    "array_a = np.array([[1, 2, 3],[4, 5, 6]])\n",
    "array_b = np.array([[0, 1, 0], [1, 0, 1]])\n",
    "print(array_a)\n",
    "print(array_b)\n",
    "print(array_a + array_b)\n",
    "print(array_a * array_b)"
   ],
   "id": "71894caf89808c27",
   "outputs": [
    {
     "name": "stdout",
     "output_type": "stream",
     "text": [
      "[[1 2 3]\n",
      " [4 5 6]]\n",
      "[[0 1 0]\n",
      " [1 0 1]]\n",
      "[[1 3 3]\n",
      " [5 5 7]]\n",
      "[[0 2 0]\n",
      " [4 0 6]]\n"
     ]
    }
   ],
   "execution_count": 93
  },
  {
   "metadata": {
    "ExecuteTime": {
     "end_time": "2024-11-07T08:00:25.799803Z",
     "start_time": "2024-11-07T08:00:25.787610Z"
    }
   },
   "cell_type": "code",
   "source": "array_a > 2",
   "id": "5ab8af366381b2e",
   "outputs": [
    {
     "data": {
      "text/plain": [
       "array([[False, False,  True],\n",
       "       [ True,  True,  True]])"
      ]
     },
     "execution_count": 94,
     "metadata": {},
     "output_type": "execute_result"
    }
   ],
   "execution_count": 94
  },
  {
   "metadata": {
    "ExecuteTime": {
     "end_time": "2024-11-07T08:04:00.968714Z",
     "start_time": "2024-11-07T08:04:00.964372Z"
    }
   },
   "cell_type": "code",
   "source": [
    "array = np.array([\"NumPy\",\"is\",\"awesome\"])\n",
    "len(array)"
   ],
   "id": "612b85a3552224e5",
   "outputs": [
    {
     "data": {
      "text/plain": [
       "3"
      ]
     },
     "execution_count": 103,
     "metadata": {},
     "output_type": "execute_result"
    }
   ],
   "execution_count": 103
  },
  {
   "metadata": {
    "ExecuteTime": {
     "end_time": "2024-11-07T08:04:05.490428Z",
     "start_time": "2024-11-07T08:04:05.486295Z"
    }
   },
   "cell_type": "code",
   "source": [
    "vectorize_len = np.vectorize(len)\n",
    "print(vectorize_len(array))"
   ],
   "id": "db2002b2e397302a",
   "outputs": [
    {
     "name": "stdout",
     "output_type": "stream",
     "text": [
      "[5 2 7]\n"
     ]
    }
   ],
   "execution_count": 105
  },
  {
   "metadata": {},
   "cell_type": "markdown",
   "source": [
    "## Broadcasting\n",
    "#### Broadcasting takes vectorized operations to the next levels.\n",
    "##### Compatibility rules\n",
    "- NumPy compares sets of array dimensions from right to left <p>\n",
    "- Two dimensions are compatible when...\n",
    "    - One of them has a length of one or\n",
    "    - They are of equal lengths\n",
    "- All dimension sets must be compatible.  \n",
    "##### Broadcastable shapes:\n",
    "- (10, 5) and (10, 1)\n",
    "- (10, 5) and (5,)\n",
    "##### Shapes which are not broadcastable:\n",
    "- (10, 5) and (5, 10)\n",
    "- (10, 5) and (10, )"
   ],
   "id": "b01c45f6275e9a0e"
  },
  {
   "metadata": {
    "ExecuteTime": {
     "end_time": "2024-11-07T08:21:32.820067Z",
     "start_time": "2024-11-07T08:21:32.762069Z"
    }
   },
   "cell_type": "code",
   "source": [
    "array = np.arange(10).reshape((2,5))\n",
    "array + np.array([5, 7, 7, 6, 3])"
   ],
   "id": "791edeacc1f5b7ba",
   "outputs": [
    {
     "data": {
      "text/plain": [
       "array([[ 5,  8,  9,  9,  7],\n",
       "       [10, 13, 14, 14, 12]])"
      ]
     },
     "execution_count": 106,
     "metadata": {},
     "output_type": "execute_result"
    }
   ],
   "execution_count": 106
  },
  {
   "metadata": {
    "ExecuteTime": {
     "end_time": "2024-11-07T08:23:11.573274Z",
     "start_time": "2024-11-07T08:23:11.563997Z"
    }
   },
   "cell_type": "code",
   "source": [
    "array = np.arange(10).reshape((2,5))\n",
    "array + np.array([0,1]).reshape((2,1))"
   ],
   "id": "e8a33291bda8de8e",
   "outputs": [
    {
     "data": {
      "text/plain": [
       "array([[ 0,  1,  2,  3,  4],\n",
       "       [ 6,  7,  8,  9, 10]])"
      ]
     },
     "execution_count": 107,
     "metadata": {},
     "output_type": "execute_result"
    }
   ],
   "execution_count": 107
  },
  {
   "metadata": {},
   "cell_type": "markdown",
   "source": "# Saving and loading arrays",
   "id": "e18fb62c6bd15cd7"
  },
  {
   "metadata": {
    "ExecuteTime": {
     "end_time": "2024-11-07T08:33:00.725861Z",
     "start_time": "2024-11-07T08:32:59.605638Z"
    }
   },
   "cell_type": "code",
   "source": [
    "rgb = np.array([[[255, 0 ,0], [255, 0 , 0], [255, 0, 0]],\n",
    "                [[0, 255, 0], [0 , 255, 0], [0, 255, 0]],\n",
    "                [[0, 0, 255], [0, 0, 255], [0, 0, 255]]])\n",
    "plt.imshow(rgb)\n",
    "plt.show()"
   ],
   "id": "fd0694ea97712a5d",
   "outputs": [
    {
     "data": {
      "text/plain": [
       "<Figure size 640x480 with 1 Axes>"
      ],
      "image/png": "[encoded data removed]"
     },
     "metadata": {},
     "output_type": "display_data"
    }
   ],
   "execution_count": 108
  },
  {
   "metadata": {
    "ExecuteTime": {
     "end_time": "2024-11-07T08:41:32.886256Z",
     "start_time": "2024-11-07T08:41:31.605401Z"
    }
   },
   "cell_type": "code",
   "source": [
    "rgb = np.array([[[50, 0 ,0], [50, 50 , 0], [50, 50, 50]],\n",
    "                [[255, 0, 255], [0 , 255, 0], [0, 255, 255]],\n",
    "                [[0, 0, 0], [0, 255, 255], [0, 0, 255]]])\n",
    "plt.imshow(rgb)\n",
    "plt.show()"
   ],
   "id": "966e69e473c9ee2d",
   "outputs": [
    {
     "data": {
      "text/plain": [
       "<Figure size 640x480 with 1 Axes>"
      ],
      "image/png": "[encoded data removed]"
     },
     "metadata": {},
     "output_type": "display_data"
    }
   ],
   "execution_count": 114
  },
  {
   "metadata": {},
   "cell_type": "code",
   "outputs": [],
   "execution_count": null,
   "source": [
    "# Let's load an RGB array and plot it to see what it contains. NumPy arrays can be saved in many formats, including dot-csv, dot-txt, and pickle files.\n",
    "# In terms of speed and storage efficiency, NumPy's own dot-npy file type is the best.\n",
    "\n",
    "with open(\"logo.npy\", \"rb\") as f:\n",
    "    logo_rgb_array = np.load(f)\n",
    "plt.imshow(logo_rgb_array)\n",
    "plt.show()\n",
    "\n",
    "# Examining RGB data\n",
    "red_array = logo_rgb_array[:, :, 0]\n",
    "blue_array = logo_rgb_array[:, :, 1]\n",
    "green_array = logo_rgb_array[:, :, 2]\n",
    "\n",
    "dark_logo_array = np.where(logo_rgb_array == 255, 50, logo_rgb_array)\n",
    "\n",
    "# Saving arrays as .npy files\n",
    "with open(\"dark_logo.npy\", \"wb\") as f:\n",
    "    np.save(f, dark_logo_array)\n",
    "    \n",
    "# If we need help()...\n",
    "help(np.unique)"
   ],
   "id": "e9796a94ffde033"
  },
  {
   "metadata": {},
   "cell_type": "markdown",
   "source": [
    "## Array acrobatics\n",
    "#### Data augmentation is the process of adding additional data by performing small manipulations on data that is already available. For example, let's say we've got a dataset of a thousand images we are using to train a model classifying whether the items are recyclable or not. We could augment this data by flipping each image and using both the flipped and original images to train the model. This helps the model learn that image orientation isn't relevant to its classification as recyclable or not."
   ],
   "id": "2db8c6270c6ffb7b"
  },
  {
   "metadata": {},
   "cell_type": "code",
   "outputs": [],
   "execution_count": null,
   "source": [
    "# Flipping an array\n",
    "\n",
    "flipped_logo = np.flip(logo_rgb_array)\n",
    "plt.imshow(flipped_logo)\n",
    "plt.show()\n",
    "\n",
    "# Flipping along an axis\n",
    "flipped_rows_logo = np.flip(logo_rgb_array, axis = 0)\n",
    "plt.imshow(flipped_rows_logo)\n",
    "plt.show()\n",
    "\n",
    "# Flipping along an axis\n",
    "flipped_colors_logo = np.flip(logo_rgb_array, axis =2)\n",
    "plt.imshow(flipped_colors_logo)\n",
    "plt.show()\n",
    "\n",
    "# Flipping multiple axes\n",
    "flipped_except_colors_logo = np.flip(logo_rgb_array, axis = (0,1))\n",
    "plt.imshow(flipped_except_colors_logo)\n",
    "plt.show()\n",
    "\n",
    "# Mirror the image\n",
    "mirrored_logo = np.flip(logo_rgb_array, axis = 1)"
   ],
   "id": "8f15d4b8af7453e4"
  },
  {
   "metadata": {
    "ExecuteTime": {
     "end_time": "2024-11-07T08:58:15.832063Z",
     "start_time": "2024-11-07T08:58:15.824527Z"
    }
   },
   "cell_type": "code",
   "source": [
    "# Transposing an array\n",
    "array = np.array([[1.1, 1.2, 1.3],\n",
    "                  [2.1, 2.2, 2.3],\n",
    "                  [3.1, 3.2, 3.3],\n",
    "                  [4.1, 4.2, 4.3]])\n",
    "print(np.flip(array))\n",
    "print(np.transpose(array))"
   ],
   "id": "eb710f98fba7f595",
   "outputs": [
    {
     "name": "stdout",
     "output_type": "stream",
     "text": [
      "[[4.3 4.2 4.1]\n",
      " [3.3 3.2 3.1]\n",
      " [2.3 2.2 2.1]\n",
      " [1.3 1.2 1.1]]\n",
      "[[1.1 2.1 3.1 4.1]\n",
      " [1.2 2.2 3.2 4.2]\n",
      " [1.3 2.3 3.3 4.3]]\n"
     ]
    }
   ],
   "execution_count": 117
  },
  {
   "metadata": {},
   "cell_type": "code",
   "outputs": [],
   "execution_count": null,
   "source": [
    "# Setting transposed axis order\n",
    "# mirrors the image and rotates 90 to the left.\n",
    "transposed_logo = np.transpose(logo_rgb_array, axes = (1, 0, 2))\n",
    "plt.imshow(transposed_logo)\n",
    "plt.show()"
   ],
   "id": "614c6f9d79252b49"
  },
  {
   "metadata": {},
   "cell_type": "markdown",
   "source": [
    "## Stacking and splitting\n",
    "#### A key part of reshaping is adding and removing dimensions while keeping the underlying data intact."
   ],
   "id": "2314bbc04487a1a0"
  },
  {
   "metadata": {
    "ExecuteTime": {
     "end_time": "2024-11-07T09:17:39.020183Z",
     "start_time": "2024-11-07T09:17:39.013828Z"
    }
   },
   "cell_type": "code",
   "source": [
    "# Splitting arrays\n",
    "# we use .split(), a function accepts three arguments: the array to split, the number of equally sized arrays desired after the split, and the axis to split along. Here we split the RGB array into three arrays along the third axis, at index two, to isolate the red, green, and blue values.\n",
    "# Since .split() allows multiple assignment, it also saves us some code. When we split an array, the resulting arrays have the same number of dimensions as the original array. Notice that our red_array is still 3D.\n",
    "red_array, green_array, blue_array = np.split(rgb, 3, axis = 2)\n",
    "print(red_array)\n",
    "print(red_array.shape)\n"
   ],
   "id": "445e08d988028568",
   "outputs": [
    {
     "name": "stdout",
     "output_type": "stream",
     "text": [
      "[[[ 50]\n",
      "  [ 50]\n",
      "  [ 50]]\n",
      "\n",
      " [[255]\n",
      "  [  0]\n",
      "  [  0]]\n",
      "\n",
      " [[  0]\n",
      "  [  0]\n",
      "  [  0]]]\n",
      "(3, 3, 1)\n"
     ]
    }
   ],
   "execution_count": 120
  },
  {
   "metadata": {
    "ExecuteTime": {
     "end_time": "2024-11-07T09:17:54.261591Z",
     "start_time": "2024-11-07T09:17:54.228533Z"
    }
   },
   "cell_type": "code",
   "source": [
    "# Trailing dimensions\n",
    "# If the resulting array has a dimension with a length of onne as red_array did, we might remove this dimesionn using .reshape().\n",
    "red_array_2D = red_array.reshape((3,3))\n",
    "print(red_array_2D)"
   ],
   "id": "73e91a2cb813a901",
   "outputs": [
    {
     "data": {
      "text/plain": [
       "array([[ 50,  50,  50],\n",
       "       [255,   0,   0],\n",
       "       [  0,   0,   0]])"
      ]
     },
     "execution_count": 121,
     "metadata": {},
     "output_type": "execute_result"
    }
   ],
   "execution_count": 121
  },
  {
   "metadata": {
    "ExecuteTime": {
     "end_time": "2024-11-07T09:21:40.666795Z",
     "start_time": "2024-11-07T09:21:40.427613Z"
    }
   },
   "cell_type": "code",
   "source": [
    "# Array division rules\n",
    "red_array, green_array, blue_array = np.split(rgb, 5, axis = 2)\n",
    "# Raise: ValueError: array split does not result inn an equal division"
   ],
   "id": "d32d168b3593f18",
   "outputs": [
    {
     "ename": "ValueError",
     "evalue": "array split does not result in an equal division",
     "output_type": "error",
     "traceback": [
      "\u001B[1;31m---------------------------------------------------------------------------\u001B[0m",
      "\u001B[1;31mValueError\u001B[0m                                Traceback (most recent call last)",
      "Cell \u001B[1;32mIn[122], line 2\u001B[0m\n\u001B[0;32m      1\u001B[0m \u001B[38;5;66;03m# Array division rules\u001B[39;00m\n\u001B[1;32m----> 2\u001B[0m red_array, green_array, blue_array \u001B[38;5;241m=\u001B[39m \u001B[43mnp\u001B[49m\u001B[38;5;241;43m.\u001B[39;49m\u001B[43msplit\u001B[49m\u001B[43m(\u001B[49m\u001B[43mrgb\u001B[49m\u001B[43m,\u001B[49m\u001B[43m \u001B[49m\u001B[38;5;241;43m5\u001B[39;49m\u001B[43m,\u001B[49m\u001B[43m \u001B[49m\u001B[43maxis\u001B[49m\u001B[43m \u001B[49m\u001B[38;5;241;43m=\u001B[39;49m\u001B[43m \u001B[49m\u001B[38;5;241;43m2\u001B[39;49m\u001B[43m)\u001B[49m\n\u001B[0;32m      3\u001B[0m \u001B[38;5;66;03m# Raise: ValueError: array\u001B[39;00m\n",
      "File \u001B[1;32m~\\PycharmProjects\\PracticeOOP\\.venv\\Lib\\site-packages\\numpy\\lib\\_shape_base_impl.py:889\u001B[0m, in \u001B[0;36msplit\u001B[1;34m(ary, indices_or_sections, axis)\u001B[0m\n\u001B[0;32m    887\u001B[0m     N \u001B[38;5;241m=\u001B[39m ary\u001B[38;5;241m.\u001B[39mshape[axis]\n\u001B[0;32m    888\u001B[0m     \u001B[38;5;28;01mif\u001B[39;00m N \u001B[38;5;241m%\u001B[39m sections:\n\u001B[1;32m--> 889\u001B[0m         \u001B[38;5;28;01mraise\u001B[39;00m \u001B[38;5;167;01mValueError\u001B[39;00m(\n\u001B[0;32m    890\u001B[0m             \u001B[38;5;124m'\u001B[39m\u001B[38;5;124marray split does not result in an equal division\u001B[39m\u001B[38;5;124m'\u001B[39m) \u001B[38;5;28;01mfrom\u001B[39;00m \u001B[38;5;28;01mNone\u001B[39;00m\n\u001B[0;32m    891\u001B[0m \u001B[38;5;28;01mreturn\u001B[39;00m array_split(ary, indices_or_sections, axis)\n",
      "\u001B[1;31mValueError\u001B[0m: array split does not result in an equal division"
     ]
    }
   ],
   "execution_count": 122
  },
  {
   "metadata": {},
   "cell_type": "markdown",
   "source": "## Stacking arrays",
   "id": "418626a936494f4f"
  },
  {
   "metadata": {
    "ExecuteTime": {
     "end_time": "2024-11-07T09:23:37.059490Z",
     "start_time": "2024-11-07T09:23:36.726360Z"
    }
   },
   "cell_type": "code",
   "source": [
    "red_array, green_array, blue_array = np.split(rgb, 3, axis = 2)\n",
    "plt.imshow(red_array)\n",
    "plt.show()"
   ],
   "id": "af22052be8786c02",
   "outputs": [
    {
     "data": {
      "text/plain": [
       "<Figure size 640x480 with 1 Axes>"
      ],
      "image/png": "[encoded data removed]"
     },
     "metadata": {},
     "output_type": "display_data"
    }
   ],
   "execution_count": 123
  },
  {
   "metadata": {},
   "cell_type": "code",
   "source": [
    "# Stacking 2D arrays\n",
    "red_array = np.zeros((1001, 1001)).astype(np.int32)\n",
    "green_array = green_array.reshape((1001, 1001))\n",
    "blue_array = blue_array.reshape((1001, 1001))\n",
    "stacked_rgb = np.stack([red_array, green_array, blue_array], axis = 2)\n",
    "plt.imshow(stacked_rgb)\n",
    "plt.show()"
   ],
   "id": "8e9fd6d27539a50",
   "outputs": [],
   "execution_count": null
  },
  {
   "metadata": {},
   "cell_type": "markdown",
   "source": "### `np.swapaxes()`",
   "id": "1ca4a3ea4fbeb29a"
  },
  {
   "metadata": {
    "ExecuteTime": {
     "end_time": "2024-11-26T06:42:46.278309Z",
     "start_time": "2024-11-26T06:42:46.273315Z"
    }
   },
   "cell_type": "code",
   "source": [
    "# function interchange two axes of an array\n",
    "help(np.swapaxes)"
   ],
   "id": "6eab1b27a1abc289",
   "outputs": [
    {
     "name": "stdout",
     "output_type": "stream",
     "text": [
      "Help on _ArrayFunctionDispatcher in module numpy:\n",
      "\n",
      "swapaxes(a, axis1, axis2)\n",
      "    Interchange two axes of an array.\n",
      "\n",
      "    Parameters\n",
      "    ----------\n",
      "    a : array_like\n",
      "        Input array.\n",
      "    axis1 : int\n",
      "        First axis.\n",
      "    axis2 : int\n",
      "        Second axis.\n",
      "\n",
      "    Returns\n",
      "    -------\n",
      "    a_swapped : ndarray\n",
      "        For NumPy >= 1.10.0, if `a` is an ndarray, then a view of `a` is\n",
      "        returned; otherwise a new array is created. For earlier NumPy\n",
      "        versions a view of `a` is returned only if the order of the\n",
      "        axes is changed, otherwise the input array is returned.\n",
      "\n",
      "    Examples\n",
      "    --------\n",
      "    >>> import numpy as np\n",
      "    >>> x = np.array([[1,2,3]])\n",
      "    >>> np.swapaxes(x,0,1)\n",
      "    array([[1],\n",
      "           [2],\n",
      "           [3]])\n",
      "\n",
      "    >>> x = np.array([[[0,1],[2,3]],[[4,5],[6,7]]])\n",
      "    >>> x\n",
      "    array([[[0, 1],\n",
      "            [2, 3]],\n",
      "           [[4, 5],\n",
      "            [6, 7]]])\n",
      "\n",
      "    >>> np.swapaxes(x,0,2)\n",
      "    array([[[0, 4],\n",
      "            [2, 6]],\n",
      "           [[1, 5],\n",
      "            [3, 7]]])\n",
      "\n"
     ]
    }
   ],
   "execution_count": 6
  },
  {
   "metadata": {
    "ExecuteTime": {
     "end_time": "2024-11-26T06:44:29.394609Z",
     "start_time": "2024-11-26T06:44:29.389098Z"
    }
   },
   "cell_type": "code",
   "source": [
    "a = np.arange(9).reshape(3,3)\n",
    "print(a.T)\n",
    "print(a.swapaxes(0,1))"
   ],
   "id": "6e0f8b9f99f351e5",
   "outputs": [
    {
     "name": "stdout",
     "output_type": "stream",
     "text": [
      "[[0 3 6]\n",
      " [1 4 7]\n",
      " [2 5 8]]\n",
      "[[0 3 6]\n",
      " [1 4 7]\n",
      " [2 5 8]]\n"
     ]
    }
   ],
   "execution_count": 7
  },
  {
   "metadata": {
    "ExecuteTime": {
     "end_time": "2024-11-26T06:45:47.607023Z",
     "start_time": "2024-11-26T06:45:47.602202Z"
    }
   },
   "cell_type": "code",
   "source": "help(np.ndarray.strides)",
   "id": "bac4357d5478deb1",
   "outputs": [
    {
     "name": "stdout",
     "output_type": "stream",
     "text": [
      "Help on getset descriptor numpy.ndarray.strides:\n",
      "\n",
      "strides\n",
      "    Tuple of bytes to step in each dimension when traversing an array.\n",
      "\n",
      "    The byte offset of element ``(i[0], i[1], ..., i[n])`` in an array `a`\n",
      "    is::\n",
      "\n",
      "        offset = sum(np.array(i) * a.strides)\n",
      "\n",
      "    A more detailed explanation of strides can be found in\n",
      "    :ref:`arrays.ndarray`.\n",
      "\n",
      "    .. warning::\n",
      "\n",
      "        Setting ``arr.strides`` is discouraged and may be deprecated in the\n",
      "        future.  `numpy.lib.stride_tricks.as_strided` should be preferred\n",
      "        to create a new view of the same data in a safer way.\n",
      "\n",
      "    Notes\n",
      "    -----\n",
      "    Imagine an array of 32-bit integers (each 4 bytes)::\n",
      "\n",
      "      x = np.array([[0, 1, 2, 3, 4],\n",
      "                    [5, 6, 7, 8, 9]], dtype=np.int32)\n",
      "\n",
      "    This array is stored in memory as 40 bytes, one after the other\n",
      "    (known as a contiguous block of memory).  The strides of an array tell\n",
      "    us how many bytes we have to skip in memory to move to the next position\n",
      "    along a certain axis.  For example, we have to skip 4 bytes (1 value) to\n",
      "    move to the next column, but 20 bytes (5 values) to get to the same\n",
      "    position in the next row.  As such, the strides for the array `x` will be\n",
      "    ``(20, 4)``.\n",
      "\n",
      "    See Also\n",
      "    --------\n",
      "    numpy.lib.stride_tricks.as_strided\n",
      "\n",
      "    Examples\n",
      "    --------\n",
      "    >>> import numpy as np\n",
      "    >>> y = np.reshape(np.arange(2*3*4), (2,3,4))\n",
      "    >>> y\n",
      "    array([[[ 0,  1,  2,  3],\n",
      "            [ 4,  5,  6,  7],\n",
      "            [ 8,  9, 10, 11]],\n",
      "           [[12, 13, 14, 15],\n",
      "            [16, 17, 18, 19],\n",
      "            [20, 21, 22, 23]]])\n",
      "    >>> y.strides\n",
      "    (48, 16, 4)\n",
      "    >>> y[1,1,1]\n",
      "    17\n",
      "    >>> offset=sum(y.strides * np.array((1,1,1)))\n",
      "    >>> offset/y.itemsize\n",
      "    17\n",
      "\n",
      "    >>> x = np.reshape(np.arange(5*6*7*8), (5,6,7,8)).transpose(2,3,1,0)\n",
      "    >>> x.strides\n",
      "    (32, 4, 224, 1344)\n",
      "    >>> i = np.array([3,5,2,2])\n",
      "    >>> offset = sum(i * x.strides)\n",
      "    >>> x[3,5,2,2]\n",
      "    813\n",
      "    >>> offset / x.itemsize\n",
      "    813\n",
      "\n"
     ]
    }
   ],
   "execution_count": 9
  },
  {
   "metadata": {
    "ExecuteTime": {
     "end_time": "2024-11-26T06:48:09.419744Z",
     "start_time": "2024-11-26T06:48:09.414233Z"
    }
   },
   "cell_type": "code",
   "source": [
    "a = np.arange(12).reshape((3,2,2))\n",
    "print(a.swapaxes(1,2))"
   ],
   "id": "48da4b244d0c3723",
   "outputs": [
    {
     "name": "stdout",
     "output_type": "stream",
     "text": [
      "[[[ 0  2]\n",
      "  [ 1  3]]\n",
      "\n",
      " [[ 4  6]\n",
      "  [ 5  7]]\n",
      "\n",
      " [[ 8 10]\n",
      "  [ 9 11]]]\n"
     ]
    }
   ],
   "execution_count": 10
  },
  {
   "metadata": {},
   "cell_type": "code",
   "outputs": [],
   "execution_count": null,
   "source": "",
   "id": "a1ecb8ce10a52888"
  }
 ],
 "metadata": {
  "kernelspec": {
   "display_name": "Python 3",
   "language": "python",
   "name": "python3"
  },
  "language_info": {
   "codemirror_mode": {
    "name": "ipython",
    "version": 2
   },
   "file_extension": ".py",
   "mimetype": "text/x-python",
   "name": "python",
   "nbconvert_exporter": "python",
   "pygments_lexer": "ipython2",
   "version": "2.7.6"
  }
 },
 "nbformat": 4,
 "nbformat_minor": 5
}
