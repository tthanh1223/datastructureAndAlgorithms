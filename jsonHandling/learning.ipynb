{
 "cells": [
  {
   "metadata": {},
   "cell_type": "raw",
   "source": "Convert Python dictionary into JSON",
   "id": "f0bd9ffe6cae1829"
  },
  {
   "metadata": {
    "ExecuteTime": {
     "end_time": "2024-10-29T06:19:07.946660Z",
     "start_time": "2024-10-29T06:19:07.931544Z"
    }
   },
   "cell_type": "code",
   "source": [
    "import json\n",
    "food_ratings = {\"organic dog food\": 2, \"human food\": 10}\n",
    "json.dumps(food_ratings)"
   ],
   "id": "234e8b930324b391",
   "outputs": [
    {
     "data": {
      "text/plain": [
       "'{\"organic dog food\": 2, \"human food\": 10}'"
      ]
     },
     "execution_count": 1,
     "metadata": {},
     "output_type": "execute_result"
    }
   ],
   "execution_count": 1
  },
  {
   "metadata": {},
   "cell_type": "raw",
   "source": "After importing the json module, you can use .dumps() to convert a Python dictionary to a JSON-formatted _string_, which represents a JSON object.",
   "id": "a4aa8fad80070154"
  },
  {
   "metadata": {},
   "cell_type": "markdown",
   "source": "__Note__: When you convert a dictionary to JSON, the dictionary keys will always be strings in JSON.",
   "id": "163b60e8d39f5543"
  },
  {
   "metadata": {
    "ExecuteTime": {
     "end_time": "2024-10-29T06:19:22.333539Z",
     "start_time": "2024-10-29T06:19:22.323182Z"
    }
   },
   "cell_type": "code",
   "source": [
    "dog_id = 1\n",
    "dog_name = \"Frieda\"\n",
    "dog_registry = {dog_id: {\"name\": dog_name}}\n",
    "json.dumps(dog_registry)"
   ],
   "id": "9fdd9160bf7e3992",
   "outputs": [
    {
     "data": {
      "text/plain": [
       "'{\"1\": {\"name\": \"Frieda\"}}'"
      ]
     },
     "execution_count": 2,
     "metadata": {},
     "output_type": "execute_result"
    }
   ],
   "execution_count": 2
  },
  {
   "metadata": {},
   "cell_type": "raw",
   "source": [
    "json.load() takes a file object and returns the json object\n",
    "json.loads() method can be used to parse a valid JSON string and convert it into a Python Dictionary"
   ],
   "id": "cf73392eb0de3980"
  },
  {
   "metadata": {},
   "cell_type": "markdown",
   "source": "By setting the __skipkeys__ to True (default: False) we automatically skip the keys that are not of basic type.",
   "id": "f0db34ba31514451"
  },
  {
   "metadata": {
    "ExecuteTime": {
     "end_time": "2024-10-29T06:21:52.912591Z",
     "start_time": "2024-10-29T06:21:52.889170Z"
    }
   },
   "cell_type": "code",
   "source": [
    "import json\n",
    "dictionary = {(1,2,3): 'Welcome',\n",
    "              2:'to', 3: 'Geeks', 4:'for', 5: 'Geeks'}\n",
    "json.dumps(dictionary, skipkeys=True)"
   ],
   "id": "434e3e4d1501dcde",
   "outputs": [
    {
     "data": {
      "text/plain": [
       "'{\"2\": \"to\", \"3\": \"Geeks\", \"4\": \"for\", \"5\": \"Geeks\"}'"
      ]
     },
     "execution_count": 5,
     "metadata": {},
     "output_type": "execute_result"
    }
   ],
   "execution_count": 5
  },
  {
   "metadata": {},
   "cell_type": "raw",
   "source": [
    "The indent parameter allows us to format the JSON array elements and object members in a more organized manner.\n",
    "▪ A positive integer indent represents the number of spaces per level that should be used to indent the content.\n",
    "▪ An indent level of 0 or negative will only insert newlines\n",
    "▪ None (the default) selects the most compact representation."
   ],
   "id": "fd6b726a14a0305"
  },
  {
   "metadata": {
    "ExecuteTime": {
     "end_time": "2024-10-29T06:24:08.327046Z",
     "start_time": "2024-10-29T06:24:08.310895Z"
    }
   },
   "cell_type": "code",
   "source": [
    "import json\n",
    "content = {'name': \"Vo Thai Thanh\",\n",
    "           'info': {\n",
    "            'age':18}\n",
    "            }\n",
    "json_string = json.dumps(content, indent = 5)\n",
    "print(json_string)"
   ],
   "id": "58a7a4a4b59d68f1",
   "outputs": [
    {
     "name": "stdout",
     "output_type": "stream",
     "text": [
      "{\n",
      "     \"name\": \"Vo Thai Thanh\",\n",
      "     \"info\": {\n",
      "          \"age\": 18\n",
      "     }\n",
      "}\n"
     ]
    }
   ],
   "execution_count": 7
  },
  {
   "metadata": {},
   "cell_type": "code",
   "outputs": [],
   "execution_count": null,
   "source": "",
   "id": "eb2881a9a9cd9649"
  }
 ],
 "metadata": {
  "kernelspec": {
   "display_name": "Python 3",
   "language": "python",
   "name": "python3"
  },
  "language_info": {
   "codemirror_mode": {
    "name": "ipython",
    "version": 2
   },
   "file_extension": ".py",
   "mimetype": "text/x-python",
   "name": "python",
   "nbconvert_exporter": "python",
   "pygments_lexer": "ipython2",
   "version": "2.7.6"
  }
 },
 "nbformat": 4,
 "nbformat_minor": 5
}
