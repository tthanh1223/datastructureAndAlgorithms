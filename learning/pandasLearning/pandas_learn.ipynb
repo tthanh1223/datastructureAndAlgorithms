{
 "cells": [
  {
   "cell_type": "raw",
   "id": "7f512d462dcb09f7",
   "metadata": {},
   "source": [
    "pandas is built on Numpy and Matplotlib"
   ]
  },
  {
   "cell_type": "code",
   "execution_count": 1,
   "id": "initial_id",
   "metadata": {
    "ExecuteTime": {
     "end_time": "2024-11-07T04:57:54.647286Z",
     "start_time": "2024-11-07T04:57:53.983338Z"
    }
   },
   "outputs": [
    {
     "name": "stdout",
     "output_type": "stream",
     "text": [
      "      Name       Breed  Color  Height(cm)  Weight(kg) Date of Birth\n",
      "0    Bella    Labrador  Brown          56          24    2013-07-01\n",
      "1  Charlie      Poodle  Black          43          24    2016-09-16\n",
      "2   Cooper    Schnauze   Gray          49          17    2011-12-11\n",
      "3     Lucy   Chow Chow  Brown          46          24    2014-08-25\n",
      "4      Max    Labrador  Black          59          29    2017-01-20\n",
      "5   Bernie  St.Bernard  White          77          74    2018-02-27\n"
     ]
    }
   ],
   "source": [
    "import pandas as pd\n",
    "dogs = pd.read_csv('dogs.csv')\n",
    "print(dogs)"
   ]
  },
  {
   "cell_type": "code",
   "execution_count": 43,
   "id": "25c6e7c612c20e34",
   "metadata": {
    "ExecuteTime": {
     "end_time": "2024-11-04T05:10:52.625257Z",
     "start_time": "2024-11-04T05:10:52.613706Z"
    }
   },
   "outputs": [
    {
     "name": "stdout",
     "output_type": "stream",
     "text": [
      "      Name      Breed  Color  Height(cm)  Weight(kg) Date of Birth\n",
      "0    Bella   Labrador  Brown          56          24    2013-07-01\n",
      "1  Charlie     Poodle  Black          43          24    2016-09-16\n",
      "2   Cooper   Schnauze   Gray          49          17    2011-12-11\n",
      "3     Lucy  Chow Chow  Brown          46          24    2014-08-25\n",
      "4      Max   Labrador  Black          59          29    2017-01-20\n"
     ]
    }
   ],
   "source": [
    "import pandas as pd\n",
    "dogs = pd.read_csv('dogs.csv')\n",
    "print(dogs.head()) # for a few first rows for better understanding "
   ]
  },
  {
   "cell_type": "code",
   "execution_count": 44,
   "id": "46bdef2db4249d0d",
   "metadata": {
    "ExecuteTime": {
     "end_time": "2024-11-04T05:10:52.691955Z",
     "start_time": "2024-11-04T05:10:52.669574Z"
    }
   },
   "outputs": [
    {
     "name": "stdout",
     "output_type": "stream",
     "text": [
      "<class 'pandas.core.frame.DataFrame'>\n",
      "RangeIndex: 6 entries, 0 to 5\n",
      "Data columns (total 6 columns):\n",
      " #   Column         Non-Null Count  Dtype \n",
      "---  ------         --------------  ----- \n",
      " 0   Name           6 non-null      object\n",
      " 1   Breed          6 non-null      object\n",
      " 2   Color          6 non-null      object\n",
      " 3   Height(cm)     6 non-null      int64 \n",
      " 4   Weight(kg)     6 non-null      int64 \n",
      " 5   Date of Birth  6 non-null      object\n",
      "dtypes: int64(2), object(4)\n",
      "memory usage: 420.0+ bytes\n",
      "None\n"
     ]
    }
   ],
   "source": [
    "import pandas as pd\n",
    "dogs = pd.read_csv('dogs.csv')\n",
    "print(dogs.info())  # display the names of columns, the data types they contain and whether they have any missing values"
   ]
  },
  {
   "cell_type": "code",
   "execution_count": 45,
   "id": "b0149352bdb05498",
   "metadata": {
    "ExecuteTime": {
     "end_time": "2024-11-04T05:10:52.742355Z",
     "start_time": "2024-11-04T05:10:52.734693Z"
    }
   },
   "outputs": [
    {
     "name": "stdout",
     "output_type": "stream",
     "text": [
      "(6, 6)\n"
     ]
    }
   ],
   "source": [
    "import pandas as pd\n",
    "dogs = pd.read_csv('dogs.csv')\n",
    "print(dogs.shape)  # an attribute contains a tuple that holds the number of rows followed by the number of columns."
   ]
  },
  {
   "cell_type": "code",
   "execution_count": 46,
   "id": "64d1fc4a3fa6df3b",
   "metadata": {
    "ExecuteTime": {
     "end_time": "2024-11-04T05:10:52.792668Z",
     "start_time": "2024-11-04T05:10:52.766285Z"
    }
   },
   "outputs": [
    {
     "name": "stdout",
     "output_type": "stream",
     "text": [
      "       Height(cm)  Weight(kg)\n",
      "count    6.000000     6.00000\n",
      "mean    55.000000    32.00000\n",
      "std     12.345039    20.92845\n",
      "min     43.000000    17.00000\n",
      "25%     46.750000    24.00000\n",
      "50%     52.500000    24.00000\n",
      "75%     58.250000    27.75000\n",
      "max     77.000000    74.00000\n"
     ]
    }
   ],
   "source": [
    "import pandas as pd\n",
    "dogs = pd.read_csv('dogs.csv')\n",
    "print(dogs.describe()) # computes some summary statistics for numerical columns like mean and median. \"count\" is the number of non-missing values in each column.\n",
    "# `describe()` is good for a quick overview of numeric variables."
   ]
  },
  {
   "cell_type": "code",
   "execution_count": 47,
   "id": "c24532bdeef4e399",
   "metadata": {
    "ExecuteTime": {
     "end_time": "2024-11-04T05:10:52.833Z",
     "start_time": "2024-11-04T05:10:52.815681Z"
    }
   },
   "outputs": [
    {
     "name": "stdout",
     "output_type": "stream",
     "text": [
      "[['Bella' 'Labrador' 'Brown' 56 24 '2013-07-01']\n",
      " ['Charlie' 'Poodle' 'Black' 43 24 '2016-09-16']\n",
      " ['Cooper' 'Schnauze' 'Gray' 49 17 '2011-12-11']\n",
      " ['Lucy' 'Chow Chow' 'Brown' 46 24 '2014-08-25']\n",
      " ['Max' 'Labrador' 'Black' 59 29 '2017-01-20']\n",
      " ['Bernie' 'St.Bernard' 'White' 77 74 '2018-02-27']]\n"
     ]
    }
   ],
   "source": [
    "import pandas as pd\n",
    "import numpy as np\n",
    "dogs = pd.read_csv('dogs.csv')\n",
    "print(np.array(dogs.values))  # contains the data values in a 2-dimensional Numpy array."
   ]
  },
  {
   "cell_type": "code",
   "execution_count": 48,
   "id": "102aed73effe399",
   "metadata": {
    "ExecuteTime": {
     "end_time": "2024-11-04T05:10:52.880741Z",
     "start_time": "2024-11-04T05:10:52.859134Z"
    }
   },
   "outputs": [
    {
     "name": "stdout",
     "output_type": "stream",
     "text": [
      "Index(['Name', 'Breed', 'Color', 'Height(cm)', 'Weight(kg)', 'Date of Birth'], dtype='object')\n",
      "<class 'str'> Name\n",
      "<class 'str'> Breed\n",
      "<class 'str'> Color\n",
      "<class 'str'> Height(cm)\n",
      "<class 'str'> Weight(kg)\n",
      "<class 'str'> Date of Birth\n",
      "RangeIndex(start=0, stop=6, step=1)\n"
     ]
    }
   ],
   "source": [
    "import pandas as pd\n",
    "dogs = pd.read_csv('dogs.csv')\n",
    "print(dogs.columns) # contains column names\n",
    "for i in dogs.columns:\n",
    "    print(type(i),end=\" \")\n",
    "    print(i)\n",
    "print(dogs.index) #contains row numbers or row names."
   ]
  },
  {
   "cell_type": "code",
   "execution_count": 49,
   "id": "51824e2e1291f9f5",
   "metadata": {
    "ExecuteTime": {
     "end_time": "2024-11-04T05:10:53.047964Z",
     "start_time": "2024-11-04T05:10:52.973579Z"
    }
   },
   "outputs": [
    {
     "data": {
      "text/html": [
       "<div>\n",
       "<style scoped>\n",
       "    .dataframe tbody tr th:only-of-type {\n",
       "        vertical-align: middle;\n",
       "    }\n",
       "\n",
       "    .dataframe tbody tr th {\n",
       "        vertical-align: top;\n",
       "    }\n",
       "\n",
       "    .dataframe thead th {\n",
       "        text-align: right;\n",
       "    }\n",
       "</style>\n",
       "<table border=\"1\" class=\"dataframe\">\n",
       "  <thead>\n",
       "    <tr style=\"text-align: right;\">\n",
       "      <th></th>\n",
       "      <th>Name</th>\n",
       "      <th>Breed</th>\n",
       "      <th>Color</th>\n",
       "      <th>Height(cm)</th>\n",
       "      <th>Weight(kg)</th>\n",
       "      <th>Date of Birth</th>\n",
       "    </tr>\n",
       "  </thead>\n",
       "  <tbody>\n",
       "    <tr>\n",
       "      <th>2</th>\n",
       "      <td>Cooper</td>\n",
       "      <td>Schnauze</td>\n",
       "      <td>Gray</td>\n",
       "      <td>49</td>\n",
       "      <td>17</td>\n",
       "      <td>2011-12-11</td>\n",
       "    </tr>\n",
       "    <tr>\n",
       "      <th>0</th>\n",
       "      <td>Bella</td>\n",
       "      <td>Labrador</td>\n",
       "      <td>Brown</td>\n",
       "      <td>56</td>\n",
       "      <td>24</td>\n",
       "      <td>2013-07-01</td>\n",
       "    </tr>\n",
       "    <tr>\n",
       "      <th>1</th>\n",
       "      <td>Charlie</td>\n",
       "      <td>Poodle</td>\n",
       "      <td>Black</td>\n",
       "      <td>43</td>\n",
       "      <td>24</td>\n",
       "      <td>2016-09-16</td>\n",
       "    </tr>\n",
       "    <tr>\n",
       "      <th>3</th>\n",
       "      <td>Lucy</td>\n",
       "      <td>Chow Chow</td>\n",
       "      <td>Brown</td>\n",
       "      <td>46</td>\n",
       "      <td>24</td>\n",
       "      <td>2014-08-25</td>\n",
       "    </tr>\n",
       "    <tr>\n",
       "      <th>4</th>\n",
       "      <td>Max</td>\n",
       "      <td>Labrador</td>\n",
       "      <td>Black</td>\n",
       "      <td>59</td>\n",
       "      <td>29</td>\n",
       "      <td>2017-01-20</td>\n",
       "    </tr>\n",
       "    <tr>\n",
       "      <th>5</th>\n",
       "      <td>Bernie</td>\n",
       "      <td>St.Bernard</td>\n",
       "      <td>White</td>\n",
       "      <td>77</td>\n",
       "      <td>74</td>\n",
       "      <td>2018-02-27</td>\n",
       "    </tr>\n",
       "  </tbody>\n",
       "</table>\n",
       "</div>"
      ],
      "text/plain": [
       "      Name       Breed  Color  Height(cm)  Weight(kg) Date of Birth\n",
       "2   Cooper    Schnauze   Gray          49          17    2011-12-11\n",
       "0    Bella    Labrador  Brown          56          24    2013-07-01\n",
       "1  Charlie      Poodle  Black          43          24    2016-09-16\n",
       "3     Lucy   Chow Chow  Brown          46          24    2014-08-25\n",
       "4      Max    Labrador  Black          59          29    2017-01-20\n",
       "5   Bernie  St.Bernard  White          77          74    2018-02-27"
      ]
     },
     "execution_count": 49,
     "metadata": {},
     "output_type": "execute_result"
    }
   ],
   "source": [
    "import pandas as pd\n",
    "dogs = pd.read_csv('dogs.csv')\n",
    "dogs.sort_values(\"Weight(kg)\") # change the order ò the rows by sorting with sort_values()"
   ]
  },
  {
   "cell_type": "code",
   "execution_count": 50,
   "id": "a60c174a34fa030c",
   "metadata": {
    "ExecuteTime": {
     "end_time": "2024-11-04T05:10:53.190104Z",
     "start_time": "2024-11-04T05:10:53.170054Z"
    }
   },
   "outputs": [
    {
     "data": {
      "text/html": [
       "<div>\n",
       "<style scoped>\n",
       "    .dataframe tbody tr th:only-of-type {\n",
       "        vertical-align: middle;\n",
       "    }\n",
       "\n",
       "    .dataframe tbody tr th {\n",
       "        vertical-align: top;\n",
       "    }\n",
       "\n",
       "    .dataframe thead th {\n",
       "        text-align: right;\n",
       "    }\n",
       "</style>\n",
       "<table border=\"1\" class=\"dataframe\">\n",
       "  <thead>\n",
       "    <tr style=\"text-align: right;\">\n",
       "      <th></th>\n",
       "      <th>Name</th>\n",
       "      <th>Breed</th>\n",
       "      <th>Color</th>\n",
       "      <th>Height(cm)</th>\n",
       "      <th>Weight(kg)</th>\n",
       "      <th>Date of Birth</th>\n",
       "    </tr>\n",
       "  </thead>\n",
       "  <tbody>\n",
       "    <tr>\n",
       "      <th>5</th>\n",
       "      <td>Bernie</td>\n",
       "      <td>St.Bernard</td>\n",
       "      <td>White</td>\n",
       "      <td>77</td>\n",
       "      <td>74</td>\n",
       "      <td>2018-02-27</td>\n",
       "    </tr>\n",
       "    <tr>\n",
       "      <th>4</th>\n",
       "      <td>Max</td>\n",
       "      <td>Labrador</td>\n",
       "      <td>Black</td>\n",
       "      <td>59</td>\n",
       "      <td>29</td>\n",
       "      <td>2017-01-20</td>\n",
       "    </tr>\n",
       "    <tr>\n",
       "      <th>1</th>\n",
       "      <td>Charlie</td>\n",
       "      <td>Poodle</td>\n",
       "      <td>Black</td>\n",
       "      <td>43</td>\n",
       "      <td>24</td>\n",
       "      <td>2016-09-16</td>\n",
       "    </tr>\n",
       "    <tr>\n",
       "      <th>0</th>\n",
       "      <td>Bella</td>\n",
       "      <td>Labrador</td>\n",
       "      <td>Brown</td>\n",
       "      <td>56</td>\n",
       "      <td>24</td>\n",
       "      <td>2013-07-01</td>\n",
       "    </tr>\n",
       "    <tr>\n",
       "      <th>3</th>\n",
       "      <td>Lucy</td>\n",
       "      <td>Chow Chow</td>\n",
       "      <td>Brown</td>\n",
       "      <td>46</td>\n",
       "      <td>24</td>\n",
       "      <td>2014-08-25</td>\n",
       "    </tr>\n",
       "    <tr>\n",
       "      <th>2</th>\n",
       "      <td>Cooper</td>\n",
       "      <td>Schnauze</td>\n",
       "      <td>Gray</td>\n",
       "      <td>49</td>\n",
       "      <td>17</td>\n",
       "      <td>2011-12-11</td>\n",
       "    </tr>\n",
       "  </tbody>\n",
       "</table>\n",
       "</div>"
      ],
      "text/plain": [
       "      Name       Breed  Color  Height(cm)  Weight(kg) Date of Birth\n",
       "5   Bernie  St.Bernard  White          77          74    2018-02-27\n",
       "4      Max    Labrador  Black          59          29    2017-01-20\n",
       "1  Charlie      Poodle  Black          43          24    2016-09-16\n",
       "0    Bella    Labrador  Brown          56          24    2013-07-01\n",
       "3     Lucy   Chow Chow  Brown          46          24    2014-08-25\n",
       "2   Cooper    Schnauze   Gray          49          17    2011-12-11"
      ]
     },
     "execution_count": 50,
     "metadata": {},
     "output_type": "execute_result"
    }
   ],
   "source": [
    "import pandas as pd\n",
    "dogs = pd.read_csv('dogs.csv')\n",
    "dogs.sort_values(\"Weight(kg)\", ascending=False) # set ascending = False to reverse the order"
   ]
  },
  {
   "cell_type": "code",
   "execution_count": 51,
   "id": "49b664de8d85b555",
   "metadata": {
    "ExecuteTime": {
     "end_time": "2024-11-04T05:10:53.337509Z",
     "start_time": "2024-11-04T05:10:53.320052Z"
    }
   },
   "outputs": [
    {
     "data": {
      "text/html": [
       "<div>\n",
       "<style scoped>\n",
       "    .dataframe tbody tr th:only-of-type {\n",
       "        vertical-align: middle;\n",
       "    }\n",
       "\n",
       "    .dataframe tbody tr th {\n",
       "        vertical-align: top;\n",
       "    }\n",
       "\n",
       "    .dataframe thead th {\n",
       "        text-align: right;\n",
       "    }\n",
       "</style>\n",
       "<table border=\"1\" class=\"dataframe\">\n",
       "  <thead>\n",
       "    <tr style=\"text-align: right;\">\n",
       "      <th></th>\n",
       "      <th>Name</th>\n",
       "      <th>Breed</th>\n",
       "      <th>Color</th>\n",
       "      <th>Height(cm)</th>\n",
       "      <th>Weight(kg)</th>\n",
       "      <th>Date of Birth</th>\n",
       "    </tr>\n",
       "  </thead>\n",
       "  <tbody>\n",
       "    <tr>\n",
       "      <th>2</th>\n",
       "      <td>Cooper</td>\n",
       "      <td>Schnauze</td>\n",
       "      <td>Gray</td>\n",
       "      <td>49</td>\n",
       "      <td>17</td>\n",
       "      <td>2011-12-11</td>\n",
       "    </tr>\n",
       "    <tr>\n",
       "      <th>1</th>\n",
       "      <td>Charlie</td>\n",
       "      <td>Poodle</td>\n",
       "      <td>Black</td>\n",
       "      <td>43</td>\n",
       "      <td>24</td>\n",
       "      <td>2016-09-16</td>\n",
       "    </tr>\n",
       "    <tr>\n",
       "      <th>3</th>\n",
       "      <td>Lucy</td>\n",
       "      <td>Chow Chow</td>\n",
       "      <td>Brown</td>\n",
       "      <td>46</td>\n",
       "      <td>24</td>\n",
       "      <td>2014-08-25</td>\n",
       "    </tr>\n",
       "    <tr>\n",
       "      <th>0</th>\n",
       "      <td>Bella</td>\n",
       "      <td>Labrador</td>\n",
       "      <td>Brown</td>\n",
       "      <td>56</td>\n",
       "      <td>24</td>\n",
       "      <td>2013-07-01</td>\n",
       "    </tr>\n",
       "    <tr>\n",
       "      <th>4</th>\n",
       "      <td>Max</td>\n",
       "      <td>Labrador</td>\n",
       "      <td>Black</td>\n",
       "      <td>59</td>\n",
       "      <td>29</td>\n",
       "      <td>2017-01-20</td>\n",
       "    </tr>\n",
       "    <tr>\n",
       "      <th>5</th>\n",
       "      <td>Bernie</td>\n",
       "      <td>St.Bernard</td>\n",
       "      <td>White</td>\n",
       "      <td>77</td>\n",
       "      <td>74</td>\n",
       "      <td>2018-02-27</td>\n",
       "    </tr>\n",
       "  </tbody>\n",
       "</table>\n",
       "</div>"
      ],
      "text/plain": [
       "      Name       Breed  Color  Height(cm)  Weight(kg) Date of Birth\n",
       "2   Cooper    Schnauze   Gray          49          17    2011-12-11\n",
       "1  Charlie      Poodle  Black          43          24    2016-09-16\n",
       "3     Lucy   Chow Chow  Brown          46          24    2014-08-25\n",
       "0    Bella    Labrador  Brown          56          24    2013-07-01\n",
       "4      Max    Labrador  Black          59          29    2017-01-20\n",
       "5   Bernie  St.Bernard  White          77          74    2018-02-27"
      ]
     },
     "execution_count": 51,
     "metadata": {},
     "output_type": "execute_result"
    }
   ],
   "source": [
    "import pandas as pd\n",
    "dogs = pd.read_csv('dogs.csv')\n",
    "dogs.sort_values([\"Weight(kg)\",\"Height(cm)\"]) # We can sort by multiple variables by passing a list of column names to the function. We sort first by weight, then by height."
   ]
  },
  {
   "cell_type": "code",
   "execution_count": 53,
   "id": "fcad369251cae590",
   "metadata": {
    "ExecuteTime": {
     "end_time": "2024-11-04T05:11:25.909505Z",
     "start_time": "2024-11-04T05:11:25.895739Z"
    }
   },
   "outputs": [
    {
     "data": {
      "text/html": [
       "<div>\n",
       "<style scoped>\n",
       "    .dataframe tbody tr th:only-of-type {\n",
       "        vertical-align: middle;\n",
       "    }\n",
       "\n",
       "    .dataframe tbody tr th {\n",
       "        vertical-align: top;\n",
       "    }\n",
       "\n",
       "    .dataframe thead th {\n",
       "        text-align: right;\n",
       "    }\n",
       "</style>\n",
       "<table border=\"1\" class=\"dataframe\">\n",
       "  <thead>\n",
       "    <tr style=\"text-align: right;\">\n",
       "      <th></th>\n",
       "      <th>Name</th>\n",
       "      <th>Breed</th>\n",
       "      <th>Color</th>\n",
       "      <th>Height(cm)</th>\n",
       "      <th>Weight(kg)</th>\n",
       "      <th>Date of Birth</th>\n",
       "    </tr>\n",
       "  </thead>\n",
       "  <tbody>\n",
       "    <tr>\n",
       "      <th>2</th>\n",
       "      <td>Cooper</td>\n",
       "      <td>Schnauze</td>\n",
       "      <td>Gray</td>\n",
       "      <td>49</td>\n",
       "      <td>17</td>\n",
       "      <td>2011-12-11</td>\n",
       "    </tr>\n",
       "    <tr>\n",
       "      <th>0</th>\n",
       "      <td>Bella</td>\n",
       "      <td>Labrador</td>\n",
       "      <td>Brown</td>\n",
       "      <td>56</td>\n",
       "      <td>24</td>\n",
       "      <td>2013-07-01</td>\n",
       "    </tr>\n",
       "    <tr>\n",
       "      <th>3</th>\n",
       "      <td>Lucy</td>\n",
       "      <td>Chow Chow</td>\n",
       "      <td>Brown</td>\n",
       "      <td>46</td>\n",
       "      <td>24</td>\n",
       "      <td>2014-08-25</td>\n",
       "    </tr>\n",
       "    <tr>\n",
       "      <th>1</th>\n",
       "      <td>Charlie</td>\n",
       "      <td>Poodle</td>\n",
       "      <td>Black</td>\n",
       "      <td>43</td>\n",
       "      <td>24</td>\n",
       "      <td>2016-09-16</td>\n",
       "    </tr>\n",
       "    <tr>\n",
       "      <th>4</th>\n",
       "      <td>Max</td>\n",
       "      <td>Labrador</td>\n",
       "      <td>Black</td>\n",
       "      <td>59</td>\n",
       "      <td>29</td>\n",
       "      <td>2017-01-20</td>\n",
       "    </tr>\n",
       "    <tr>\n",
       "      <th>5</th>\n",
       "      <td>Bernie</td>\n",
       "      <td>St.Bernard</td>\n",
       "      <td>White</td>\n",
       "      <td>77</td>\n",
       "      <td>74</td>\n",
       "      <td>2018-02-27</td>\n",
       "    </tr>\n",
       "  </tbody>\n",
       "</table>\n",
       "</div>"
      ],
      "text/plain": [
       "      Name       Breed  Color  Height(cm)  Weight(kg) Date of Birth\n",
       "2   Cooper    Schnauze   Gray          49          17    2011-12-11\n",
       "0    Bella    Labrador  Brown          56          24    2013-07-01\n",
       "3     Lucy   Chow Chow  Brown          46          24    2014-08-25\n",
       "1  Charlie      Poodle  Black          43          24    2016-09-16\n",
       "4      Max    Labrador  Black          59          29    2017-01-20\n",
       "5   Bernie  St.Bernard  White          77          74    2018-02-27"
      ]
     },
     "execution_count": 53,
     "metadata": {},
     "output_type": "execute_result"
    }
   ],
   "source": [
    "import pandas as pd\n",
    "dogs = pd.read_csv('dogs.csv')\n",
    "dogs.sort_values([\"Weight(kg)\",\"Height(cm)\"],ascending=[True,False])"
   ]
  },
  {
   "cell_type": "code",
   "execution_count": 55,
   "id": "3e3f9ccd13f28bf6",
   "metadata": {
    "ExecuteTime": {
     "end_time": "2024-11-04T05:12:55.984842Z",
     "start_time": "2024-11-04T05:12:55.967502Z"
    }
   },
   "outputs": [
    {
     "name": "stdout",
     "output_type": "stream",
     "text": [
      "0      Bella\n",
      "1    Charlie\n",
      "2     Cooper\n",
      "3       Lucy\n",
      "4        Max\n",
      "5     Bernie\n",
      "Name: Name, dtype: object\n",
      "\n",
      "0      Labrador\n",
      "1        Poodle\n",
      "2      Schnauze\n",
      "3     Chow Chow\n",
      "4      Labrador\n",
      "5    St.Bernard\n",
      "Name: Breed, dtype: object\n",
      "\n",
      "0    Brown\n",
      "1    Black\n",
      "2     Gray\n",
      "3    Brown\n",
      "4    Black\n",
      "5    White\n",
      "Name: Color, dtype: object\n",
      "\n",
      "0    56\n",
      "1    43\n",
      "2    49\n",
      "3    46\n",
      "4    59\n",
      "5    77\n",
      "Name: Height(cm), dtype: int64\n",
      "\n",
      "0    24\n",
      "1    24\n",
      "2    17\n",
      "3    24\n",
      "4    29\n",
      "5    74\n",
      "Name: Weight(kg), dtype: int64\n",
      "\n",
      "0    2013-07-01\n",
      "1    2016-09-16\n",
      "2    2011-12-11\n",
      "3    2014-08-25\n",
      "4    2017-01-20\n",
      "5    2018-02-27\n",
      "Name: Date of Birth, dtype: object\n",
      "\n"
     ]
    }
   ],
   "source": [
    "import pandas as pd\n",
    "dogs = pd.read_csv('dogs.csv')\n",
    "for column_name in dogs.columns:\n",
    "    print(dogs[column_name])\n",
    "    print()"
   ]
  },
  {
   "cell_type": "code",
   "execution_count": 57,
   "id": "54461ed88e90e73d",
   "metadata": {
    "ExecuteTime": {
     "end_time": "2024-11-04T05:13:44.656945Z",
     "start_time": "2024-11-04T05:13:44.648040Z"
    }
   },
   "outputs": [
    {
     "name": "stdout",
     "output_type": "stream",
     "text": [
      "        Breed     Name\n",
      "0    Labrador    Bella\n",
      "1      Poodle  Charlie\n",
      "2    Schnauze   Cooper\n",
      "3   Chow Chow     Lucy\n",
      "4    Labrador      Max\n",
      "5  St.Bernard   Bernie\n"
     ]
    }
   ],
   "source": [
    "import pandas as pd\n",
    "dogs = pd.read_csv('dogs.csv')\n",
    "print(dogs[[\"Breed\",\"Name\"]])"
   ]
  },
  {
   "cell_type": "code",
   "execution_count": 58,
   "id": "94c334a3f0f09404",
   "metadata": {
    "ExecuteTime": {
     "end_time": "2024-11-04T05:13:57.369356Z",
     "start_time": "2024-11-04T05:13:57.349002Z"
    }
   },
   "outputs": [
    {
     "name": "stdout",
     "output_type": "stream",
     "text": [
      "      Name       Breed\n",
      "0    Bella    Labrador\n",
      "1  Charlie      Poodle\n",
      "2   Cooper    Schnauze\n",
      "3     Lucy   Chow Chow\n",
      "4      Max    Labrador\n",
      "5   Bernie  St.Bernard\n"
     ]
    }
   ],
   "source": [
    "import pandas as pd\n",
    "dogs = pd.read_csv('dogs.csv')\n",
    "print(dogs[[\"Name\",\"Breed\"]])"
   ]
  },
  {
   "cell_type": "code",
   "execution_count": 59,
   "id": "e5a8c37b99ff8a95",
   "metadata": {
    "ExecuteTime": {
     "end_time": "2024-11-04T05:14:49.929906Z",
     "start_time": "2024-11-04T05:14:49.909061Z"
    }
   },
   "outputs": [
    {
     "data": {
      "text/plain": [
       "0     True\n",
       "1    False\n",
       "2    False\n",
       "3    False\n",
       "4     True\n",
       "5     True\n",
       "Name: Height(cm), dtype: bool"
      ]
     },
     "execution_count": 59,
     "metadata": {},
     "output_type": "execute_result"
    }
   ],
   "source": [
    "import pandas as pd\n",
    "dogs = pd.read_csv('dogs.csv')\n",
    "dogs[\"Height(cm)\"] > 50 # the most common way to do this is by creating a logical condition to filter against."
   ]
  },
  {
   "cell_type": "code",
   "execution_count": 62,
   "id": "1f7355c021c0d4c6",
   "metadata": {
    "ExecuteTime": {
     "end_time": "2024-11-04T05:16:43.512402Z",
     "start_time": "2024-11-04T05:16:43.498343Z"
    }
   },
   "outputs": [
    {
     "data": {
      "text/html": [
       "<div>\n",
       "<style scoped>\n",
       "    .dataframe tbody tr th:only-of-type {\n",
       "        vertical-align: middle;\n",
       "    }\n",
       "\n",
       "    .dataframe tbody tr th {\n",
       "        vertical-align: top;\n",
       "    }\n",
       "\n",
       "    .dataframe thead th {\n",
       "        text-align: right;\n",
       "    }\n",
       "</style>\n",
       "<table border=\"1\" class=\"dataframe\">\n",
       "  <thead>\n",
       "    <tr style=\"text-align: right;\">\n",
       "      <th></th>\n",
       "      <th>Name</th>\n",
       "      <th>Breed</th>\n",
       "      <th>Color</th>\n",
       "      <th>Height(cm)</th>\n",
       "      <th>Weight(kg)</th>\n",
       "      <th>Date of Birth</th>\n",
       "    </tr>\n",
       "  </thead>\n",
       "  <tbody>\n",
       "    <tr>\n",
       "      <th>0</th>\n",
       "      <td>Bella</td>\n",
       "      <td>Labrador</td>\n",
       "      <td>Brown</td>\n",
       "      <td>56</td>\n",
       "      <td>24</td>\n",
       "      <td>2013-07-01</td>\n",
       "    </tr>\n",
       "    <tr>\n",
       "      <th>4</th>\n",
       "      <td>Max</td>\n",
       "      <td>Labrador</td>\n",
       "      <td>Black</td>\n",
       "      <td>59</td>\n",
       "      <td>29</td>\n",
       "      <td>2017-01-20</td>\n",
       "    </tr>\n",
       "    <tr>\n",
       "      <th>5</th>\n",
       "      <td>Bernie</td>\n",
       "      <td>St.Bernard</td>\n",
       "      <td>White</td>\n",
       "      <td>77</td>\n",
       "      <td>74</td>\n",
       "      <td>2018-02-27</td>\n",
       "    </tr>\n",
       "  </tbody>\n",
       "</table>\n",
       "</div>"
      ],
      "text/plain": [
       "     Name       Breed  Color  Height(cm)  Weight(kg) Date of Birth\n",
       "0   Bella    Labrador  Brown          56          24    2013-07-01\n",
       "4     Max    Labrador  Black          59          29    2017-01-20\n",
       "5  Bernie  St.Bernard  White          77          74    2018-02-27"
      ]
     },
     "execution_count": 62,
     "metadata": {},
     "output_type": "execute_result"
    }
   ],
   "source": [
    "import pandas as pd\n",
    "dogs = pd.read_csv('dogs.csv')\n",
    "dogs[dogs[\"Height(cm)\"] > 50] # we can use logical condition inside [] to subset the rows"
   ]
  },
  {
   "cell_type": "code",
   "execution_count": 63,
   "id": "6f459c63bda404b8",
   "metadata": {
    "ExecuteTime": {
     "end_time": "2024-11-04T05:17:57.076457Z",
     "start_time": "2024-11-04T05:17:57.044351Z"
    }
   },
   "outputs": [
    {
     "data": {
      "text/html": [
       "<div>\n",
       "<style scoped>\n",
       "    .dataframe tbody tr th:only-of-type {\n",
       "        vertical-align: middle;\n",
       "    }\n",
       "\n",
       "    .dataframe tbody tr th {\n",
       "        vertical-align: top;\n",
       "    }\n",
       "\n",
       "    .dataframe thead th {\n",
       "        text-align: right;\n",
       "    }\n",
       "</style>\n",
       "<table border=\"1\" class=\"dataframe\">\n",
       "  <thead>\n",
       "    <tr style=\"text-align: right;\">\n",
       "      <th></th>\n",
       "      <th>Name</th>\n",
       "      <th>Breed</th>\n",
       "      <th>Color</th>\n",
       "      <th>Height(cm)</th>\n",
       "      <th>Weight(kg)</th>\n",
       "      <th>Date of Birth</th>\n",
       "    </tr>\n",
       "  </thead>\n",
       "  <tbody>\n",
       "    <tr>\n",
       "      <th>0</th>\n",
       "      <td>Bella</td>\n",
       "      <td>Labrador</td>\n",
       "      <td>Brown</td>\n",
       "      <td>56</td>\n",
       "      <td>24</td>\n",
       "      <td>2013-07-01</td>\n",
       "    </tr>\n",
       "    <tr>\n",
       "      <th>4</th>\n",
       "      <td>Max</td>\n",
       "      <td>Labrador</td>\n",
       "      <td>Black</td>\n",
       "      <td>59</td>\n",
       "      <td>29</td>\n",
       "      <td>2017-01-20</td>\n",
       "    </tr>\n",
       "  </tbody>\n",
       "</table>\n",
       "</div>"
      ],
      "text/plain": [
       "    Name     Breed  Color  Height(cm)  Weight(kg) Date of Birth\n",
       "0  Bella  Labrador  Brown          56          24    2013-07-01\n",
       "4    Max  Labrador  Black          59          29    2017-01-20"
      ]
     },
     "execution_count": 63,
     "metadata": {},
     "output_type": "execute_result"
    }
   ],
   "source": [
    "import pandas as pd\n",
    "dogs = pd.read_csv('dogs.csv')\n",
    "dogs[dogs[\"Breed\"] == \"Labrador\"]"
   ]
  },
  {
   "cell_type": "code",
   "execution_count": 65,
   "id": "565e841a3705a30",
   "metadata": {
    "ExecuteTime": {
     "end_time": "2024-11-04T05:18:59.728952Z",
     "start_time": "2024-11-04T05:18:59.712050Z"
    }
   },
   "outputs": [
    {
     "data": {
      "text/html": [
       "<div>\n",
       "<style scoped>\n",
       "    .dataframe tbody tr th:only-of-type {\n",
       "        vertical-align: middle;\n",
       "    }\n",
       "\n",
       "    .dataframe tbody tr th {\n",
       "        vertical-align: top;\n",
       "    }\n",
       "\n",
       "    .dataframe thead th {\n",
       "        text-align: right;\n",
       "    }\n",
       "</style>\n",
       "<table border=\"1\" class=\"dataframe\">\n",
       "  <thead>\n",
       "    <tr style=\"text-align: right;\">\n",
       "      <th></th>\n",
       "      <th>Name</th>\n",
       "      <th>Breed</th>\n",
       "      <th>Color</th>\n",
       "      <th>Height(cm)</th>\n",
       "      <th>Weight(kg)</th>\n",
       "      <th>Date of Birth</th>\n",
       "    </tr>\n",
       "  </thead>\n",
       "  <tbody>\n",
       "    <tr>\n",
       "      <th>2</th>\n",
       "      <td>Cooper</td>\n",
       "      <td>Schnauze</td>\n",
       "      <td>Gray</td>\n",
       "      <td>49</td>\n",
       "      <td>17</td>\n",
       "      <td>2011-12-11</td>\n",
       "    </tr>\n",
       "    <tr>\n",
       "      <th>0</th>\n",
       "      <td>Bella</td>\n",
       "      <td>Labrador</td>\n",
       "      <td>Brown</td>\n",
       "      <td>56</td>\n",
       "      <td>24</td>\n",
       "      <td>2013-07-01</td>\n",
       "    </tr>\n",
       "    <tr>\n",
       "      <th>3</th>\n",
       "      <td>Lucy</td>\n",
       "      <td>Chow Chow</td>\n",
       "      <td>Brown</td>\n",
       "      <td>46</td>\n",
       "      <td>24</td>\n",
       "      <td>2014-08-25</td>\n",
       "    </tr>\n",
       "  </tbody>\n",
       "</table>\n",
       "</div>"
      ],
      "text/plain": [
       "     Name      Breed  Color  Height(cm)  Weight(kg) Date of Birth\n",
       "2  Cooper   Schnauze   Gray          49          17    2011-12-11\n",
       "0   Bella   Labrador  Brown          56          24    2013-07-01\n",
       "3    Lucy  Chow Chow  Brown          46          24    2014-08-25"
      ]
     },
     "execution_count": 65,
     "metadata": {},
     "output_type": "execute_result"
    }
   ],
   "source": [
    "import pandas as pd\n",
    "dogs = pd.read_csv('dogs.csv')\n",
    "dogs[dogs[\"Date of Birth\"] < \"2015-01-01\"].sort_values(\"Date of Birth\") # YYYY - MM - DD is the standard format for date."
   ]
  },
  {
   "cell_type": "code",
   "execution_count": 68,
   "id": "b761b7e5f39cde57",
   "metadata": {
    "ExecuteTime": {
     "end_time": "2024-11-04T05:20:38.031180Z",
     "start_time": "2024-11-04T05:20:38.017373Z"
    }
   },
   "outputs": [
    {
     "data": {
      "text/html": [
       "<div>\n",
       "<style scoped>\n",
       "    .dataframe tbody tr th:only-of-type {\n",
       "        vertical-align: middle;\n",
       "    }\n",
       "\n",
       "    .dataframe tbody tr th {\n",
       "        vertical-align: top;\n",
       "    }\n",
       "\n",
       "    .dataframe thead th {\n",
       "        text-align: right;\n",
       "    }\n",
       "</style>\n",
       "<table border=\"1\" class=\"dataframe\">\n",
       "  <thead>\n",
       "    <tr style=\"text-align: right;\">\n",
       "      <th></th>\n",
       "      <th>Name</th>\n",
       "      <th>Breed</th>\n",
       "      <th>Color</th>\n",
       "      <th>Height(cm)</th>\n",
       "      <th>Weight(kg)</th>\n",
       "      <th>Date of Birth</th>\n",
       "    </tr>\n",
       "  </thead>\n",
       "  <tbody>\n",
       "    <tr>\n",
       "      <th>0</th>\n",
       "      <td>Bella</td>\n",
       "      <td>Labrador</td>\n",
       "      <td>Brown</td>\n",
       "      <td>56</td>\n",
       "      <td>24</td>\n",
       "      <td>2013-07-01</td>\n",
       "    </tr>\n",
       "  </tbody>\n",
       "</table>\n",
       "</div>"
      ],
      "text/plain": [
       "    Name     Breed  Color  Height(cm)  Weight(kg) Date of Birth\n",
       "0  Bella  Labrador  Brown          56          24    2013-07-01"
      ]
     },
     "execution_count": 68,
     "metadata": {},
     "output_type": "execute_result"
    }
   ],
   "source": [
    "import pandas as pd\n",
    "dogs = pd.read_csv('dogs.csv')\n",
    "is_lab = dogs[\"Breed\"] == \"Labrador\"\n",
    "is_brown = dogs[\"Color\"] == \"Brown\" \n",
    "dogs[is_lab & is_brown] #to subset the rows that meet multiple conditions, we're using logical operators."
   ]
  },
  {
   "cell_type": "code",
   "execution_count": 70,
   "id": "308fb94e55c88cf3",
   "metadata": {
    "ExecuteTime": {
     "end_time": "2024-11-04T05:23:21.028411Z",
     "start_time": "2024-11-04T05:23:21.014562Z"
    }
   },
   "outputs": [
    {
     "name": "stdout",
     "output_type": "stream",
     "text": [
      "      Name      Breed  Color  Height(cm)  Weight(kg) Date of Birth\n",
      "0    Bella   Labrador  Brown          56          24    2013-07-01\n",
      "1  Charlie     Poodle  Black          43          24    2016-09-16\n",
      "3     Lucy  Chow Chow  Brown          46          24    2014-08-25\n",
      "4      Max   Labrador  Black          59          29    2017-01-20\n"
     ]
    }
   ],
   "source": [
    "# using isin() to filter on multiple values of a categorical variable.\n",
    "import pandas as pd\n",
    "dogs = pd.read_csv('dogs.csv')\n",
    "is_black_or_brown =  dogs[\"Color\"].isin([\"Black\",\"Brown\"])\n",
    "print(dogs[is_black_or_brown])"
   ]
  },
  {
   "cell_type": "code",
   "execution_count": 1,
   "id": "8800561f430fb205",
   "metadata": {
    "ExecuteTime": {
     "end_time": "2024-11-05T05:26:47.433615Z",
     "start_time": "2024-11-05T05:26:46.576039Z"
    }
   },
   "outputs": [
    {
     "name": "stdout",
     "output_type": "stream",
     "text": [
      "      Name       Breed  Color  Height(cm)  Weight(kg) Date of Birth  height_m\n",
      "0    Bella    Labrador  Brown          56          24    2013-07-01      0.56\n",
      "1  Charlie      Poodle  Black          43          24    2016-09-16      0.43\n",
      "2   Cooper    Schnauze   Gray          49          17    2011-12-11      0.49\n",
      "3     Lucy   Chow Chow  Brown          46          24    2014-08-25      0.46\n",
      "4      Max    Labrador  Black          59          29    2017-01-20      0.59\n",
      "5   Bernie  St.Bernard  White          77          74    2018-02-27      0.77\n"
     ]
    }
   ],
   "source": [
    "import pandas as pd\n",
    "dogs = pd.read_csv('dogs.csv')\n",
    "dogs[\"height_m\"] = dogs[\"Height(cm)\"] / 100\n",
    "print(dogs)\n"
   ]
  },
  {
   "cell_type": "code",
   "execution_count": 6,
   "id": "ab3b88535c1d8147",
   "metadata": {
    "ExecuteTime": {
     "end_time": "2024-11-05T05:28:26.260048Z",
     "start_time": "2024-11-05T05:28:26.242898Z"
    }
   },
   "outputs": [
    {
     "name": "stdout",
     "output_type": "stream",
     "text": [
      "      Name      Breed  Color  Height(cm)  Weight(kg) Date of Birth     bmi\n",
      "0    Bella   Labrador  Brown          56          24    2013-07-01  0.0077\n",
      "1  Charlie     Poodle  Black          43          24    2016-09-16  0.0130\n",
      "2   Cooper   Schnauze   Gray          49          17    2011-12-11  0.0071\n",
      "3     Lucy  Chow Chow  Brown          46          24    2014-08-25  0.0113\n",
      "4      Max   Labrador  Black          59          29    2017-01-20  0.0083\n"
     ]
    }
   ],
   "source": [
    "import pandas as pd\n",
    "dogs = pd.read_csv('dogs.csv')\n",
    "dogs[\"bmi\"] = dogs[\"Weight(kg)\"] / dogs[\"Height(cm)\"] ** 2\n",
    "dogs[\"bmi\"] = dogs[\"bmi\"].astype(float).round(4)\n",
    "print(dogs.head())"
   ]
  },
  {
   "cell_type": "code",
   "execution_count": 27,
   "id": "3075f03ee1a162a7",
   "metadata": {
    "ExecuteTime": {
     "end_time": "2024-11-05T05:34:41.086903Z",
     "start_time": "2024-11-05T05:34:41.074245Z"
    }
   },
   "outputs": [
    {
     "name": "stdout",
     "output_type": "stream",
     "text": [
      "     Name  height_m    bmi\n",
      "4     Max      0.59  83.31\n",
      "0   Bella      0.56  76.53\n",
      "2  Cooper      0.49  70.80\n"
     ]
    }
   ],
   "source": [
    "import pandas as pd\n",
    "dogs = pd.read_csv('dogs.csv')\n",
    "dogs[\"height_m\"] = dogs[\"Height(cm)\"] / 100\n",
    "dogs[\"bmi\"] = dogs[\"Weight(kg)\"] / (dogs[\"height_m\"] ** 2)\n",
    "dogs[\"bmi\"] = dogs[\"bmi\"].astype(float).round(2)\n",
    "bmi_lt_100 = dogs[dogs[\"bmi\"] < 100]\n",
    "bmi_lt_100_height = bmi_lt_100.sort_values(\"height_m\", ascending=False)\n",
    "print(bmi_lt_100_height[[\"Name\",\"height_m\",\"bmi\"]])"
   ]
  },
  {
   "cell_type": "code",
   "execution_count": 51,
   "id": "1ce884c237be204a",
   "metadata": {
    "ExecuteTime": {
     "end_time": "2024-11-05T06:08:47.286568Z",
     "start_time": "2024-11-05T06:08:47.267812Z"
    }
   },
   "outputs": [
    {
     "name": "stdout",
     "output_type": "stream",
     "text": [
      "55.0\n",
      "12.345039489608771\n",
      "2011-12-11\n",
      "24.0\n",
      "47.5\n",
      "0     24\n",
      "1     48\n",
      "2     65\n",
      "3     89\n",
      "4    118\n",
      "5    192\n",
      "Name: Weight(kg), dtype: int64\n",
      "0    24\n",
      "1    24\n",
      "2    24\n",
      "3    24\n",
      "4    29\n",
      "5    74\n",
      "Name: Weight(kg), dtype: int64\n",
      "0    24\n",
      "1    24\n",
      "2    17\n",
      "3    17\n",
      "4    17\n",
      "5    17\n",
      "Name: Weight(kg), dtype: int64\n",
      "0           24\n",
      "1          576\n",
      "2         9792\n",
      "3       235008\n",
      "4      6815232\n",
      "5    504327168\n",
      "Name: Weight(kg), dtype: int64\n"
     ]
    }
   ],
   "source": [
    "import pandas as pd\n",
    "dogs = pd.read_csv('dogs.csv')\n",
    "print(dogs[\"Height(cm)\"].mean())# mean() function tell where the \"center\" of your data is.\n",
    "#'''\n",
    "#We can also use .median() or .mode() or .min() or .max(), .var() , .std() , .sum() , .quantile()\n",
    "#'''\n",
    "print(dogs[\"Height(cm)\"].std())\n",
    "dogs[\"date_of_birth\"] = dogs[\"Date of Birth\"]\n",
    "print(dogs[\"date_of_birth\"].min())\n",
    "# the .agg() method\n",
    "def pct30(column):\n",
    "    return column.quantile(0.3)\n",
    "print(dogs[\"Weight(kg)\"].agg(pct30))\n",
    "print(dogs[\"Height(cm)\"].agg(pct30))\n",
    "def pct40(column):\n",
    "    return column.quantile(0.4)\n",
    "dogs[\"Weight(kg)\"].agg([pct30,pct40])\n",
    "print(dogs[\"Weight(kg)\"].cumsum()) # sum of each one - each one\n",
    "# .cummax()\n",
    "print(dogs[\"Weight(kg)\"].cummax())\n",
    "# .cummin()\n",
    "print(dogs[\"Weight(kg)\"].cummin())\n",
    "# .cumprod()\n",
    "print(dogs[\"Weight(kg)\"].cumprod())\n",
    "\n"
   ]
  },
  {
   "cell_type": "code",
   "execution_count": null,
   "id": "69ec5ccf6e6426de",
   "metadata": {},
   "outputs": [],
   "source": [
    "import pandas as pd\n",
    "# the vet's office wants to know how many dogs of each breed have visited their office. However, some dogs have been to the vet more than once, so we can't just count the number of each breed in the breed column.\n",
    "vet_visits = pd.read_csv('vet_visits.csv')\n",
    "# By removing rows that contain in a dog name already listed earlier, we extract a dog with each name from the data set once. We use drop_duplicates() - take an argument, subset, which is the column we want to find our duplicates based on. We want all the unique names. \n",
    "vet_visits.drop_duplicates(subset = \"name\")\n",
    "# But what if we have 2 dogs - same name - different breed. We use duplicate pairs\n",
    "unique_dogs = vet_visits.drop_duplicates(subset = [\"name\",\"breed\"])\n",
    "unique_dogs['breed'].value_counts() # count the dogs of each breed\n",
    "unique_dogs['breed'].value_counts(normalize = True) # use normalize argument to turn into proportions of the total."
   ]
  },
  {
   "cell_type": "code",
   "execution_count": 63,
   "id": "b7e9d1937936f55a",
   "metadata": {
    "ExecuteTime": {
     "end_time": "2024-11-05T07:13:17.171974Z",
     "start_time": "2024-11-05T07:13:17.137872Z"
    }
   },
   "outputs": [
    {
     "name": "stdout",
     "output_type": "stream",
     "text": [
      "53 48 74.0 17.0 nan\n",
      "Color\n",
      "Black    26.5\n",
      "Brown    24.0\n",
      "Gray     17.0\n",
      "White    74.0\n",
      "Name: Weight(kg), dtype: float64\n"
     ]
    },
    {
     "data": {
      "text/plain": [
       "Color  Breed     \n",
       "Black  Labrador      29.0\n",
       "       Poodle        24.0\n",
       "Brown  Chow Chow     24.0\n",
       "       Labrador      24.0\n",
       "Gray   Schnauze      17.0\n",
       "White  St.Bernard    74.0\n",
       "Name: Weight(kg), dtype: float64"
      ]
     },
     "execution_count": 63,
     "metadata": {},
     "output_type": "execute_result"
    }
   ],
   "source": [
    "# Summaries by group\n",
    "import pandas as pd\n",
    "dogs = pd.read_csv('dogs.csv')\n",
    "print(dogs[dogs[\"Color\"] == \"Black\"][\"Weight(kg)\"].sum()\n",
    ",dogs[dogs[\"Color\"] == \"Brown\"][\"Weight(kg)\"].sum()\n",
    ",dogs[dogs[\"Color\"] == \"White\"][\"Weight(kg)\"].mean()\n",
    ",dogs[dogs[\"Color\"] == \"Gray\"][\"Weight(kg)\"].mean()\n",
    ",dogs[dogs[\"Color\"] == \"Tan\"][\"Weight(kg)\"].mean())\n",
    "print(dogs.groupby(\"Color\")[\"Weight(kg)\"].mean()) # use groupby() \n",
    "dogs.groupby([\"Color\",\"Breed\"])[\"Weight(kg)\"].mean()"
   ]
  },
  {
   "cell_type": "code",
   "execution_count": 78,
   "id": "94e78acdf7a0db6c",
   "metadata": {
    "ExecuteTime": {
     "end_time": "2024-11-05T08:02:37.821615Z",
     "start_time": "2024-11-05T08:02:37.799569Z"
    }
   },
   "outputs": [
    {
     "name": "stdout",
     "output_type": "stream",
     "text": [
      "Color\n",
      "Black    26.5\n",
      "Brown    24.0\n",
      "Gray     17.0\n",
      "White    74.0\n",
      "Name: Weight(kg), dtype: float64\n",
      "       Weight(kg)\n",
      "Color            \n",
      "Black        26.5\n",
      "Brown        24.0\n",
      "Gray         17.0\n",
      "White        74.0\n",
      "            mean     median\n",
      "      Weight(kg) Weight(kg)\n",
      "Color                      \n",
      "Black       26.5       26.5\n",
      "Brown       24.0       24.0\n",
      "Gray        17.0       17.0\n",
      "White       74.0       74.0\n"
     ]
    }
   ],
   "source": [
    "import pandas as pd\n",
    "import numpy as np\n",
    "dogs = pd.read_csv('dogs.csv')\n",
    "print(dogs.groupby('Color')[\"Weight(kg)\"].mean())\n",
    "print(dogs.pivot_table(values = \"Weight(kg)\", index = \"Color\"))\n",
    "print(dogs.pivot_table(values = \"Weight(kg)\", index = \"Color\", aggfunc =[\"mean\",\"median\"]))"
   ]
  },
  {
   "cell_type": "code",
   "execution_count": 83,
   "id": "28fd6ad08d965df8",
   "metadata": {
    "ExecuteTime": {
     "end_time": "2024-11-05T08:06:27.312632Z",
     "start_time": "2024-11-05T08:06:27.269875Z"
    }
   },
   "outputs": [
    {
     "name": "stdout",
     "output_type": "stream",
     "text": [
      "Color  Breed     \n",
      "Black  Labrador      29.0\n",
      "       Poodle        24.0\n",
      "Brown  Chow Chow     24.0\n",
      "       Labrador      24.0\n",
      "Gray   Schnauze      17.0\n",
      "White  St.Bernard    74.0\n",
      "Name: Weight(kg), dtype: float64\n",
      "Breed  Chow Chow  Labrador  Poodle  Schnauze  St.Bernard\n",
      "Color                                                   \n",
      "Black        NaN      29.0    24.0       NaN         NaN\n",
      "Brown       24.0      24.0     NaN       NaN         NaN\n",
      "Gray         NaN       NaN     NaN      17.0         NaN\n",
      "White        NaN       NaN     NaN       NaN        74.0\n",
      "Breed  Chow Chow  Labrador  Poodle  Schnauze  St.Bernard\n",
      "Color                                                   \n",
      "Black        0.0      29.0    24.0       0.0         0.0\n",
      "Brown       24.0      24.0     0.0       0.0         0.0\n",
      "Gray         0.0       0.0     0.0      17.0         0.0\n",
      "White        0.0       0.0     0.0       0.0        74.0\n",
      "Breed  Chow Chow  Labrador  Poodle  Schnauze  St.Bernard   All\n",
      "Color                                                         \n",
      "Black        0.0      29.0    24.0       0.0         0.0  26.5\n",
      "Brown       24.0      24.0     0.0       0.0         0.0  24.0\n",
      "Gray         0.0       0.0     0.0      17.0         0.0  17.0\n",
      "White        0.0       0.0     0.0       0.0        74.0  74.0\n",
      "All         24.0      26.5    24.0      17.0        74.0  32.0\n"
     ]
    }
   ],
   "source": [
    "import pandas as pd\n",
    "dogs = pd.read_csv('dogs.csv')\n",
    "import numpy as np\n",
    "print(dogs.groupby([\"Color\",\"Breed\"])[\"Weight(kg)\"].mean())\n",
    "print(dogs.pivot_table(values = \"Weight(kg)\", index = \"Color\", columns = \"Breed\"))\n",
    "print(dogs.pivot_table(values = \"Weight(kg)\", index = \"Color\", columns = \"Breed\",fill_value=0))\n",
    "print(dogs.pivot_table(values = \"Weight(kg)\", index = \"Color\", columns = \"Breed\", fill_value=0, margins = True))"
   ]
  },
  {
   "cell_type": "code",
   "execution_count": 89,
   "id": "b983db6ad6a4ae3e",
   "metadata": {
    "ExecuteTime": {
     "end_time": "2024-11-05T08:20:52.826008Z",
     "start_time": "2024-11-05T08:20:52.808519Z"
    }
   },
   "outputs": [
    {
     "name": "stdout",
     "output_type": "stream",
     "text": [
      "             Breed  Color  Height(cm)  Weight(kg) Date of Birth\n",
      "Name                                                           \n",
      "Bella     Labrador  Brown          56          24    2013-07-01\n",
      "Charlie     Poodle  Black          43          24    2016-09-16\n",
      "Cooper    Schnauze   Gray          49          17    2011-12-11\n",
      "Lucy     Chow Chow  Brown          46          24    2014-08-25\n",
      "Max       Labrador  Black          59          29    2017-01-20\n",
      "      Name      Breed  Color  Height(cm)  Weight(kg) Date of Birth\n",
      "0    Bella   Labrador  Brown          56          24    2013-07-01\n",
      "1  Charlie     Poodle  Black          43          24    2016-09-16\n",
      "2   Cooper   Schnauze   Gray          49          17    2011-12-11\n",
      "3     Lucy  Chow Chow  Brown          46          24    2014-08-25\n",
      "4      Max   Labrador  Black          59          29    2017-01-20\n",
      "       Breed  Color  Height(cm)  Weight(kg) Date of Birth\n",
      "0   Labrador  Brown          56          24    2013-07-01\n",
      "1     Poodle  Black          43          24    2016-09-16\n",
      "2   Schnauze   Gray          49          17    2011-12-11\n",
      "3  Chow Chow  Brown          46          24    2014-08-25\n",
      "4   Labrador  Black          59          29    2017-01-20\n"
     ]
    }
   ],
   "source": [
    "import pandas as pd\n",
    "dogs = pd.read_csv('dogs.csv')\n",
    "# setting a column as the index\n",
    "dogs_ind = dogs.set_index(\"Name\")\n",
    "print(dogs_ind.head())\n",
    "# To undo what we did, we can reset the index with reset_index()\n",
    "dogs_ind = dogs_ind.reset_index()\n",
    "print(dogs_ind.head())\n",
    "dogs_ind = dogs.set_index(\"Name\")\n",
    "dogs_ind = dogs_ind.reset_index(drop=True) # set `drop` argument to remove the index columns.\n",
    "print(dogs_ind.head())"
   ]
  },
  {
   "cell_type": "code",
   "execution_count": 95,
   "id": "30716cac923d07a5",
   "metadata": {
    "ExecuteTime": {
     "end_time": "2024-11-05T08:23:55.727633Z",
     "start_time": "2024-11-05T08:23:55.712806Z"
    }
   },
   "outputs": [
    {
     "name": "stdout",
     "output_type": "stream",
     "text": [
      "    Name     Breed  Color  Height(cm)  Weight(kg) Date of Birth\n",
      "0  Bella  Labrador  Brown          56          24    2013-07-01\n",
      "4    Max  Labrador  Black          59          29    2017-01-20\n",
      "          Breed  Color  Height(cm)  Weight(kg) Date of Birth\n",
      "Name                                                        \n",
      "Bella  Labrador  Brown          56          24    2013-07-01\n",
      "Max    Labrador  Black          59          29    2017-01-20\n"
     ]
    }
   ],
   "source": [
    "# indexes make subsetting simpler\n",
    "import pandas as pd\n",
    "dogs = pd.read_csv('dogs.csv')\n",
    "# using subsetting in normal way\n",
    "print(dogs[dogs[\"Name\"].isin([\"Bella\",\"Max\"])])\n",
    "# using indexes\n",
    "dogs_ind = dogs.set_index(\"Name\")\n",
    "print(dogs_ind.loc[[\"Bella\",\"Max\"]])"
   ]
  },
  {
   "cell_type": "code",
   "execution_count": 97,
   "id": "ffb6dd2b22ed2f5",
   "metadata": {
    "ExecuteTime": {
     "end_time": "2024-11-05T08:26:55.986217Z",
     "start_time": "2024-11-05T08:26:55.971871Z"
    }
   },
   "outputs": [
    {
     "name": "stdout",
     "output_type": "stream",
     "text": [
      "               Name  Color  Height(cm)  Weight(kg) Date of Birth\n",
      "Breed                                                           \n",
      "Labrador      Bella  Brown          56          24    2013-07-01\n",
      "Poodle      Charlie  Black          43          24    2016-09-16\n",
      "Schnauze     Cooper   Gray          49          17    2011-12-11\n",
      "Chow Chow      Lucy  Brown          46          24    2014-08-25\n",
      "Labrador        Max  Black          59          29    2017-01-20\n",
      "St.Bernard   Bernie  White          77          74    2018-02-27\n",
      "           Name  Color  Height(cm)  Weight(kg) Date of Birth\n",
      "Breed                                                       \n",
      "Labrador  Bella  Brown          56          24    2013-07-01\n",
      "Labrador    Max  Black          59          29    2017-01-20\n"
     ]
    }
   ],
   "source": [
    "import pandas as pd\n",
    "dogs = pd.read_csv('dogs.csv')\n",
    "dogs_ind2 = dogs.set_index(\"Breed\")\n",
    "print(dogs_ind2)\n",
    "# We can see that index values don't need to be unique\n",
    "print(dogs_ind2.loc[\"Labrador\"])"
   ]
  },
  {
   "cell_type": "code",
   "execution_count": 103,
   "id": "de334f16fed2121d",
   "metadata": {
    "ExecuteTime": {
     "end_time": "2024-11-05T08:35:34.117346Z",
     "start_time": "2024-11-05T08:35:34.093648Z"
    }
   },
   "outputs": [
    {
     "name": "stdout",
     "output_type": "stream",
     "text": [
      "                     Name  Height(cm)  Weight(kg) Date of Birth\n",
      "Breed      Color                                               \n",
      "Labrador   Brown    Bella          56          24    2013-07-01\n",
      "Poodle     Black  Charlie          43          24    2016-09-16\n",
      "Schnauze   Gray    Cooper          49          17    2011-12-11\n",
      "Chow Chow  Brown     Lucy          46          24    2014-08-25\n",
      "Labrador   Black      Max          59          29    2017-01-20\n",
      "St.Bernard White   Bernie          77          74    2018-02-27\n",
      "                  Name  Height(cm)  Weight(kg) Date of Birth\n",
      "Breed     Color                                             \n",
      "Labrador  Brown  Bella          56          24    2013-07-01\n",
      "          Black    Max          59          29    2017-01-20\n",
      "Chow Chow Brown   Lucy          46          24    2014-08-25\n",
      "                   Name  Height(cm)  Weight(kg) Date of Birth\n",
      "Breed    Color                                               \n",
      "Labrador Brown    Bella          56          24    2013-07-01\n",
      "Poodle   Black  Charlie          43          24    2016-09-16\n",
      "                     Name  Height(cm)  Weight(kg) Date of Birth\n",
      "Breed      Color                                               \n",
      "Poodle     Black  Charlie          43          24    2016-09-16\n",
      "Labrador   Black      Max          59          29    2017-01-20\n",
      "           Brown    Bella          56          24    2013-07-01\n",
      "Chow Chow  Brown     Lucy          46          24    2014-08-25\n",
      "Schnauze   Gray    Cooper          49          17    2011-12-11\n",
      "St.Bernard White   Bernie          77          74    2018-02-27\n"
     ]
    }
   ],
   "source": [
    "import pandas as pd\n",
    "dogs = pd.read_csv(\"dogs.csv\")\n",
    "# Multi-level indexes a.k.a hierarchical indexes\n",
    "dogs_ind3 = dogs.set_index([\"Breed\", \"Color\"])\n",
    "print(dogs_ind3)\n",
    "print(dogs_ind3.loc[[\"Labrador\",\"Chow Chow\"]]) #use outer level\n",
    "print(dogs_ind3.loc[[(\"Labrador\", \"Brown\"), (\"Poodle\",\"Black\")]]) # use tuple for inner level\n",
    "print(dogs_ind3.sort_index(level = [\"Color\", \"Breed\"], ascending = [True, False]))"
   ]
  },
  {
   "cell_type": "raw",
   "id": "2e69b4c4af983106",
   "metadata": {},
   "source": [
    "Index are controversial. ALthough they simplify subsetting code, there are some downsides. Index values are just data. Storing data in multiple forms makes it harder to think about. There is a concept called \"tidy data\", where data is stored in its own column."
   ]
  },
  {
   "cell_type": "markdown",
   "id": "19df5054a5450c51",
   "metadata": {},
   "source": [
    "#### Slicing and subsetting with `.loc` and `.iloc`\n"
   ]
  },
  {
   "cell_type": "code",
   "execution_count": 9,
   "id": "dde855b422337163",
   "metadata": {
    "ExecuteTime": {
     "end_time": "2024-11-05T12:50:48.121376Z",
     "start_time": "2024-11-05T12:50:48.094859Z"
    }
   },
   "outputs": [
    {
     "name": "stdout",
     "output_type": "stream",
     "text": [
      "                     Name  Height(cm)  Weight(kg) Date of Birth\n",
      "Breed      Color                                               \n",
      "Chow Chow  Brown     Lucy          46          24    2014-08-25\n",
      "Labrador   Black      Max          59          29    2017-01-20\n",
      "           Brown    Bella          56          24    2013-07-01\n",
      "Poodle     Black  Charlie          43          24    2016-09-16\n",
      "Schnauze   Gray    Cooper          49          17    2011-12-11\n",
      "St.Bernard White   Bernie          77          74    2018-02-27\n",
      "                    Name  Height(cm)  Weight(kg) Date of Birth\n",
      "Breed     Color                                               \n",
      "Chow Chow Brown     Lucy          46          24    2014-08-25\n",
      "Labrador  Black      Max          59          29    2017-01-20\n",
      "          Brown    Bella          56          24    2013-07-01\n",
      "Poodle    Black  Charlie          43          24    2016-09-16\n",
      "                   Name  Height(cm)  Weight(kg) Date of Birth\n",
      "Breed    Color                                               \n",
      "Labrador Brown    Bella          56          24    2013-07-01\n",
      "Poodle   Black  Charlie          43          24    2016-09-16\n",
      "Schnauze Gray    Cooper          49          17    2011-12-11\n",
      "                     Name  Height(cm)\n",
      "Breed      Color                     \n",
      "Chow Chow  Brown     Lucy          46\n",
      "Labrador   Black      Max          59\n",
      "           Brown    Bella          56\n",
      "Poodle     Black  Charlie          43\n",
      "Schnauze   Gray    Cooper          49\n",
      "St.Bernard White   Bernie          77\n",
      "                   Name  Height(cm)\n",
      "Breed    Color                     \n",
      "Labrador Brown    Bella          56\n",
      "Poodle   Black  Charlie          43\n",
      "Schnauze Gray    Cooper          49\n"
     ]
    }
   ],
   "source": [
    "# You can slice DataFrames, but first you need to sort the index.\n",
    "import pandas as pd\n",
    "dogs = pd.read_csv('dogs.csv')\n",
    "# Sort the index before you slice\n",
    "dogs_srt = dogs.set_index([\"Breed\",\"Color\"]).sort_index()\n",
    "print(dogs_srt)\n",
    "print(dogs_srt.loc[\"Chow Chow\":\"Poodle\"])\n",
    "# Slicing the inner index levels correctly\n",
    "print(dogs_srt.loc[(\"Labrador\", \"Brown\"):(\"Schnauze\", \"Gray\")])\n",
    "# Slicing columns\n",
    "print(dogs_srt.loc[:, \"Name\":\"Height(cm)\"])\n",
    "# slice twice\n",
    "print(dogs_srt.loc[(\"Labrador\", \"Brown\"):(\"Schnauze\", \"Gray\"),\"Name\":\"Height(cm)\"])"
   ]
  },
  {
   "cell_type": "code",
   "execution_count": 13,
   "id": "596c269a83d180c5",
   "metadata": {
    "ExecuteTime": {
     "end_time": "2024-11-05T12:52:47.358955Z",
     "start_time": "2024-11-05T12:52:47.344767Z"
    }
   },
   "outputs": [
    {
     "name": "stdout",
     "output_type": "stream",
     "text": [
      "                  Name       Breed  Color  Height(cm)  Weight(kg)\n",
      "Date of Birth                                                    \n",
      "2011-12-11      Cooper    Schnauze   Gray          49          17\n",
      "2013-07-01       Bella    Labrador  Brown          56          24\n",
      "2014-08-25        Lucy   Chow Chow  Brown          46          24\n",
      "2016-09-16     Charlie      Poodle  Black          43          24\n",
      "2017-01-20         Max    Labrador  Black          59          29\n",
      "2018-02-27      Bernie  St.Bernard  White          77          74\n",
      "                  Name      Breed  Color  Height(cm)  Weight(kg)\n",
      "Date of Birth                                                   \n",
      "2014-08-25        Lucy  Chow Chow  Brown          46          24\n",
      "2016-09-16     Charlie     Poodle  Black          43          24\n",
      "                   Breed  Color  Height(cm)\n",
      "Date of Birth                              \n",
      "2014-08-25     Chow Chow  Brown          46\n",
      "2016-09-16        Poodle  Black          43\n",
      "2017-01-20      Labrador  Black          59\n"
     ]
    }
   ],
   "source": [
    "import pandas as pd\n",
    "dogs = pd.read_csv('dogs.csv')\n",
    "dogs = dogs.set_index(\"Date of Birth\").sort_index()\n",
    "print(dogs)\n",
    "print(dogs.loc[\"2014-08-25\":\"2016-09-16\"])\n",
    "# Subsetting by row/column number\n",
    "print(dogs.iloc[2:5,1:4])"
   ]
  },
  {
   "cell_type": "markdown",
   "id": "44ccd7d12286ff46",
   "metadata": {},
   "source": [
    "#### Working with pivot tables"
   ]
  },
  {
   "cell_type": "code",
   "execution_count": null,
   "id": "2ca7cd879ba8f250",
   "metadata": {},
   "outputs": [],
   "source": [
    "# pivot tables are just DataFrames with sorted indexes. That means the loc and slicing combination is ideal for subsetting pivot tables, like so.\n",
    "import pandas as pd\n",
    "dogs = pd.read_csv('dogs.csv')\n",
    "dogs_height_by_breed_vs_color = dogs.pivot_table(values = \"Height(cm)\", index = \"Breed\", columns = \"Color\")\n",
    "dogs_height_by_breed_vs_color.mean(axis = \"index\") #which means \"calculate the statistic across rows\".\n",
    "dogs_height_by_breed_vs_color.mean(axis = \"columns\") # across the columns"
   ]
  },
  {
   "cell_type": "markdown",
   "id": "1080ac8befb0451e",
   "metadata": {},
   "source": [
    "### Creating and Visualizing DataFrames"
   ]
  },
  {
   "cell_type": "code",
   "execution_count": 8,
   "id": "cc59944d85ac6bc6",
   "metadata": {
    "ExecuteTime": {
     "end_time": "2024-11-06T04:26:35.642861Z",
     "start_time": "2024-11-06T04:26:35.478305Z"
    }
   },
   "outputs": [
    {
     "name": "stdout",
     "output_type": "stream",
     "text": [
      "Breed\n",
      "Chow Chow     24.0\n",
      "Labrador      26.5\n",
      "Poodle        24.0\n",
      "Schnauze      17.0\n",
      "St.Bernard    74.0\n",
      "Name: Weight(kg), dtype: float64\n"
     ]
    },
    {
     "data": {
      "image/png": "[encoded data removed]",
      "text/plain": [
       "<Figure size 640x480 with 1 Axes>"
      ]
     },
     "metadata": {},
     "output_type": "display_data"
    }
   ],
   "source": [
    "import matplotlib.pyplot as plt\n",
    "import pandas as pd\n",
    "dogs = pd.read_csv('dogs.csv')\n",
    "dogs[\"Height(cm)\"].hist() # Draw Histograms of the input series\n",
    "dogs[\"Height(cm)\"].hist(bins = 20) # bins argument for increasing or decreasing the numbers of bars.\n",
    "avg_weight_by_breed = dogs.groupby(\"Breed\")[\"Weight(kg)\"].mean()\n",
    "print(avg_weight_by_breed)\n",
    "avg_weight_by_breed.plot(kind = \"bar\", title = \"Mean Weight by Dog Breed\")\n",
    "plt.show()\n"
   ]
  },
  {
   "cell_type": "code",
   "execution_count": 11,
   "id": "c2695933ee7daf3",
   "metadata": {
    "ExecuteTime": {
     "end_time": "2024-11-06T04:30:12.724301Z",
     "start_time": "2024-11-06T04:30:12.621718Z"
    }
   },
   "outputs": [
    {
     "data": {
      "image/png": "[encoded data removed]",
      "text/plain": [
       "<Figure size 640x480 with 1 Axes>"
      ]
     },
     "metadata": {},
     "output_type": "display_data"
    }
   ],
   "source": [
    "# assume we have a Labrador named Sully has been weighed by his owner every month - let's see how his weight has changed over the year.\n",
    "import matplotlib.pyplot as plt\n",
    "import pandas as pd\n",
    "sully = pd.read_csv('sully.csv')\n",
    "sully.plot(x = \"date\", y = \"weight_kg\", kind = \"line\", rot = 45)\n",
    "plt.show()"
   ]
  },
  {
   "cell_type": "code",
   "execution_count": null,
   "id": "c53baabf0f7a77af",
   "metadata": {},
   "outputs": [],
   "source": [
    "# Scatter plots are great for visualizing relationships between two numeric variables. To plot each dog's height versus their weight, we call the plot method with x equal to height_cm.\n",
    "dogs.plot(x = \"height_cm\",y = \"weight_kg\",kind = \"scatter\")\n",
    "plot.show()"
   ]
  },
  {
   "cell_type": "code",
   "execution_count": null,
   "id": "9ba8b6d9c71291d",
   "metadata": {},
   "outputs": [],
   "source": [
    "# Layering plots \n",
    "dog_pack[dog_pack[\"sex\"] == \"F\"][\"height_cm\"].hist(alpha = 0.7) # alpha argument for transparency\n",
    "dog_pack[dog_pack[\"sex\"] == \"M\"][\"height_cm\"].hist(alpha = 0.7)\n",
    "plt.legend([\"F\",\"M\"])\n",
    "plt.show()"
   ]
  },
  {
   "cell_type": "markdown",
   "id": "64261b9997739705",
   "metadata": {},
   "source": [
    "##### Deal with DataFrames which has a missing value.\n",
    "##### In pandas DataFrame, missing values are indicated with N-a-N, which stands for \"not a number\".\n",
    "##### When first get a DataFrame, it's good to get a sense of whether it contains any missing values and if so, how many. We can use isna() method. We get Boolean for every singly value indicating whether the value is missing or not.\n",
    "##### If we use `.isna()` and `.any()` we get one value for each variable that tells us if there are any missing values in that column.\n",
    "##### Since taking the sum of Booleans is the same thing as couting the number of Trues, we can combine sum with 'isna()' to count the number of NaNs in each column."
   ]
  },
  {
   "cell_type": "code",
   "execution_count": null,
   "id": "d81736ba60684504",
   "metadata": {},
   "outputs": [],
   "source": [
    "# One option is to remove the rows in the DataFrame that contain missing values. This can be done using the `.dropna()` method. But it is not optimal because if you have a lot of missing data, since that means losing a lot of observations.\n",
    "dogs.dropna()"
   ]
  },
  {
   "cell_type": "code",
   "execution_count": 12,
   "id": "683ecc5ec6ec4281",
   "metadata": {
    "ExecuteTime": {
     "end_time": "2024-11-06T04:55:50.880463Z",
     "start_time": "2024-11-06T04:55:50.806391Z"
    }
   },
   "outputs": [],
   "source": [
    "# Another one is replacing missing values with another value. The `fillna()` method takes in a value, and all NaNs will be replaced with this value. \n",
    "dogs.fillna(0)"
   ]
  },
  {
   "cell_type": "raw",
   "id": "b34b936751aa956",
   "metadata": {},
   "source": [
    "There are also many sophisticated techniques for replacing missing values."
   ]
  },
  {
   "cell_type": "markdown",
   "id": "436c5e7d702c65e1",
   "metadata": {},
   "source": [
    "# Creating DataFrames\n",
    "## From a list of dictionaries\n",
    "- Constructed row by row\n",
    "## From a dictionary of lists\n",
    "- Constructed column by column"
   ]
  },
  {
   "cell_type": "code",
   "execution_count": 13,
   "id": "3451114082a9b614",
   "metadata": {
    "ExecuteTime": {
     "end_time": "2024-11-06T05:06:14.622035Z",
     "start_time": "2024-11-06T05:06:14.565318Z"
    }
   },
   "outputs": [
    {
     "name": "stdout",
     "output_type": "stream",
     "text": [
      "     name      breed  height(cm)  weight(kg) date of birth\n",
      "0  Ginger  Dachshund          22          10    2019-03-14\n",
      "1   Scout  Dalmatian          59          25    2019-05-09\n"
     ]
    }
   ],
   "source": [
    "# First method - From a list of dictionaries\n",
    "import pandas as pd\n",
    "lists_of_dicts = [\n",
    "    {\"name\": \"Ginger\",\n",
    "     \"breed\": \"Dachshund\",\n",
    "     \"height(cm)\": 22,\n",
    "     \"weight(kg)\": 10,\n",
    "     \"date of birth\": \"2019-03-14\"},\n",
    "    {\"name\": \"Scout\",\n",
    "     \"breed\": \"Dalmatian\",\n",
    "     \"height(cm)\": 59,\n",
    "     \"weight(kg)\": 25,\n",
    "     \"date of birth\": \"2019-05-09\"}\n",
    "]\n",
    "new_dogs = pd.DataFrame(lists_of_dicts)\n",
    "print(new_dogs)\n"
   ]
  },
  {
   "cell_type": "code",
   "execution_count": 14,
   "id": "b734b3cedf16f44",
   "metadata": {
    "ExecuteTime": {
     "end_time": "2024-11-06T05:08:13.036798Z",
     "start_time": "2024-11-06T05:08:13.015916Z"
    }
   },
   "outputs": [
    {
     "name": "stdout",
     "output_type": "stream",
     "text": [
      "     name      breed  height(cm)  weight(kg) date of birth\n",
      "0  Ginger  Dachshund          22          10    2019-03-14\n",
      "1   Scout  Dalmatian          59          25    2019-05-09\n"
     ]
    }
   ],
   "source": [
    "# Method 2 - From a dictionary of lists\n",
    "dictionary_of_lists = {\n",
    "    \"name\": [\"Ginger\", \"Scout\"],\n",
    "    \"breed\": [\"Dachshund\", \"Dalmatian\"],\n",
    "    \"height(cm)\": [22, 59],\n",
    "    \"weight(kg)\": [10, 25],\n",
    "    \"date of birth\": [\"2019-03-14\",\"2019-05-09\"]\n",
    "}\n",
    "new_dogs = pd.DataFrame(dictionary_of_lists)\n",
    "print(new_dogs)"
   ]
  },
  {
   "cell_type": "markdown",
   "id": "2868e46b3d4c8e7d",
   "metadata": {},
   "source": [
    "# Reading and writing CSVs\n",
    "CSV = comma-separated values <p>\n",
    "Designed for DataFrame-like data <p>\n",
    "Most database and spreadsheet programs can use them or create them"
   ]
  },
  {
   "cell_type": "code",
   "execution_count": null,
   "id": "424e9f3dbae261ca",
   "metadata": {},
   "outputs": [],
   "source": [
    "# writing csvs\n",
    "dogs.to_csv(\"dogs.csv\")"
   ]
  }
 ],
 "metadata": {
  "kernelspec": {
   "display_name": "Python 3 (ipykernel)",
   "language": "python",
   "name": "python3"
  },
  "language_info": {
   "codemirror_mode": {
    "name": "ipython",
    "version": 3
   },
   "file_extension": ".py",
   "mimetype": "text/x-python",
   "name": "python",
   "nbconvert_exporter": "python",
   "pygments_lexer": "ipython3",
   "version": "3.12.6"
  }
 },
 "nbformat": 4,
 "nbformat_minor": 5
}
