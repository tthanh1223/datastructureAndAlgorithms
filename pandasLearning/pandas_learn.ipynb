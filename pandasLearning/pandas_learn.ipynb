{
 "cells": [
  {
   "metadata": {},
   "cell_type": "raw",
   "source": "pandas is built on Numpy and Matplotlib",
   "id": "7f512d462dcb09f7"
  },
  {
   "cell_type": "code",
   "id": "initial_id",
   "metadata": {
    "collapsed": true,
    "ExecuteTime": {
     "end_time": "2024-11-04T05:10:52.590893Z",
     "start_time": "2024-11-04T05:10:52.579498Z"
    }
   },
   "source": [
    "import pandas as pd\n",
    "from debugpy.launcher.debuggee import describe\n",
    "\n",
    "dogs = pd.read_csv('dogs.csv')\n",
    "print(dogs)"
   ],
   "outputs": [
    {
     "name": "stdout",
     "output_type": "stream",
     "text": [
      "      Name       Breed  Color  Height(cm)  Weight(kg) Date of Birth\n",
      "0    Bella    Labrador  Brown          56          24    2013-07-01\n",
      "1  Charlie      Poodle  Black          43          24    2016-09-16\n",
      "2   Cooper    Schnauze   Gray          49          17    2011-12-11\n",
      "3     Lucy   Chow Chow  Brown          46          24    2014-08-25\n",
      "4      Max    Labrador  Black          59          29    2017-01-20\n",
      "5   Bernie  St.Bernard  White          77          74    2018-02-27\n"
     ]
    }
   ],
   "execution_count": 42
  },
  {
   "metadata": {
    "ExecuteTime": {
     "end_time": "2024-11-04T05:10:52.625257Z",
     "start_time": "2024-11-04T05:10:52.613706Z"
    }
   },
   "cell_type": "code",
   "source": [
    "import pandas as pd\n",
    "dogs = pd.read_csv('dogs.csv')\n",
    "print(dogs.head()) # for a few first rows for better understanding "
   ],
   "id": "25c6e7c612c20e34",
   "outputs": [
    {
     "name": "stdout",
     "output_type": "stream",
     "text": [
      "      Name      Breed  Color  Height(cm)  Weight(kg) Date of Birth\n",
      "0    Bella   Labrador  Brown          56          24    2013-07-01\n",
      "1  Charlie     Poodle  Black          43          24    2016-09-16\n",
      "2   Cooper   Schnauze   Gray          49          17    2011-12-11\n",
      "3     Lucy  Chow Chow  Brown          46          24    2014-08-25\n",
      "4      Max   Labrador  Black          59          29    2017-01-20\n"
     ]
    }
   ],
   "execution_count": 43
  },
  {
   "metadata": {
    "ExecuteTime": {
     "end_time": "2024-11-04T05:10:52.691955Z",
     "start_time": "2024-11-04T05:10:52.669574Z"
    }
   },
   "cell_type": "code",
   "source": [
    "import pandas as pd\n",
    "dogs = pd.read_csv('dogs.csv')\n",
    "print(dogs.info())  # display the names of columns, the data types they contain and whether they have any missing values"
   ],
   "id": "46bdef2db4249d0d",
   "outputs": [
    {
     "name": "stdout",
     "output_type": "stream",
     "text": [
      "<class 'pandas.core.frame.DataFrame'>\n",
      "RangeIndex: 6 entries, 0 to 5\n",
      "Data columns (total 6 columns):\n",
      " #   Column         Non-Null Count  Dtype \n",
      "---  ------         --------------  ----- \n",
      " 0   Name           6 non-null      object\n",
      " 1   Breed          6 non-null      object\n",
      " 2   Color          6 non-null      object\n",
      " 3   Height(cm)     6 non-null      int64 \n",
      " 4   Weight(kg)     6 non-null      int64 \n",
      " 5   Date of Birth  6 non-null      object\n",
      "dtypes: int64(2), object(4)\n",
      "memory usage: 420.0+ bytes\n",
      "None\n"
     ]
    }
   ],
   "execution_count": 44
  },
  {
   "metadata": {
    "ExecuteTime": {
     "end_time": "2024-11-04T05:10:52.742355Z",
     "start_time": "2024-11-04T05:10:52.734693Z"
    }
   },
   "cell_type": "code",
   "source": [
    "import pandas as pd\n",
    "dogs = pd.read_csv('dogs.csv')\n",
    "print(dogs.shape)  # a attribute contains a tuple that holds the number of rows followed by the number of columns."
   ],
   "id": "b0149352bdb05498",
   "outputs": [
    {
     "name": "stdout",
     "output_type": "stream",
     "text": [
      "(6, 6)\n"
     ]
    }
   ],
   "execution_count": 45
  },
  {
   "metadata": {
    "ExecuteTime": {
     "end_time": "2024-11-04T05:10:52.792668Z",
     "start_time": "2024-11-04T05:10:52.766285Z"
    }
   },
   "cell_type": "code",
   "source": [
    "import pandas as pd\n",
    "dogs = pd.read_csv('dogs.csv')\n",
    "print(dogs.describe()) # computes some summary statistics for numerical columns like mean and median. \"count\" is the number of non-missing values in each column.\n",
    "# `describe()` is good for a quick overview of numeric variables."
   ],
   "id": "64d1fc4a3fa6df3b",
   "outputs": [
    {
     "name": "stdout",
     "output_type": "stream",
     "text": [
      "       Height(cm)  Weight(kg)\n",
      "count    6.000000     6.00000\n",
      "mean    55.000000    32.00000\n",
      "std     12.345039    20.92845\n",
      "min     43.000000    17.00000\n",
      "25%     46.750000    24.00000\n",
      "50%     52.500000    24.00000\n",
      "75%     58.250000    27.75000\n",
      "max     77.000000    74.00000\n"
     ]
    }
   ],
   "execution_count": 46
  },
  {
   "metadata": {
    "ExecuteTime": {
     "end_time": "2024-11-04T05:10:52.833Z",
     "start_time": "2024-11-04T05:10:52.815681Z"
    }
   },
   "cell_type": "code",
   "source": [
    "import pandas as pd\n",
    "import numpy as np\n",
    "dogs = pd.read_csv('dogs.csv')\n",
    "print(np.array(dogs.values))  # contains the data values in a 2-dimensional Numpy array."
   ],
   "id": "c24532bdeef4e399",
   "outputs": [
    {
     "name": "stdout",
     "output_type": "stream",
     "text": [
      "[['Bella' 'Labrador' 'Brown' 56 24 '2013-07-01']\n",
      " ['Charlie' 'Poodle' 'Black' 43 24 '2016-09-16']\n",
      " ['Cooper' 'Schnauze' 'Gray' 49 17 '2011-12-11']\n",
      " ['Lucy' 'Chow Chow' 'Brown' 46 24 '2014-08-25']\n",
      " ['Max' 'Labrador' 'Black' 59 29 '2017-01-20']\n",
      " ['Bernie' 'St.Bernard' 'White' 77 74 '2018-02-27']]\n"
     ]
    }
   ],
   "execution_count": 47
  },
  {
   "metadata": {
    "ExecuteTime": {
     "end_time": "2024-11-04T05:10:52.880741Z",
     "start_time": "2024-11-04T05:10:52.859134Z"
    }
   },
   "cell_type": "code",
   "source": [
    "import pandas as pd\n",
    "dogs = pd.read_csv('dogs.csv')\n",
    "print(dogs.columns) # contains column names\n",
    "for i in dogs.columns:\n",
    "    print(type(i),end=\" \")\n",
    "    print(i)\n",
    "print(dogs.index) #contains row numbers or row names."
   ],
   "id": "102aed73effe399",
   "outputs": [
    {
     "name": "stdout",
     "output_type": "stream",
     "text": [
      "Index(['Name', 'Breed', 'Color', 'Height(cm)', 'Weight(kg)', 'Date of Birth'], dtype='object')\n",
      "<class 'str'> Name\n",
      "<class 'str'> Breed\n",
      "<class 'str'> Color\n",
      "<class 'str'> Height(cm)\n",
      "<class 'str'> Weight(kg)\n",
      "<class 'str'> Date of Birth\n",
      "RangeIndex(start=0, stop=6, step=1)\n"
     ]
    }
   ],
   "execution_count": 48
  },
  {
   "metadata": {
    "ExecuteTime": {
     "end_time": "2024-11-04T05:10:53.047964Z",
     "start_time": "2024-11-04T05:10:52.973579Z"
    }
   },
   "cell_type": "code",
   "source": [
    "import pandas as pd\n",
    "dogs = pd.read_csv('dogs.csv')\n",
    "dogs.sort_values(\"Weight(kg)\") # change the order ò the rows by sorting with sort_values()"
   ],
   "id": "51824e2e1291f9f5",
   "outputs": [
    {
     "data": {
      "text/plain": [
       "      Name       Breed  Color  Height(cm)  Weight(kg) Date of Birth\n",
       "2   Cooper    Schnauze   Gray          49          17    2011-12-11\n",
       "0    Bella    Labrador  Brown          56          24    2013-07-01\n",
       "1  Charlie      Poodle  Black          43          24    2016-09-16\n",
       "3     Lucy   Chow Chow  Brown          46          24    2014-08-25\n",
       "4      Max    Labrador  Black          59          29    2017-01-20\n",
       "5   Bernie  St.Bernard  White          77          74    2018-02-27"
      ],
      "text/html": [
       "<div>\n",
       "<style scoped>\n",
       "    .dataframe tbody tr th:only-of-type {\n",
       "        vertical-align: middle;\n",
       "    }\n",
       "\n",
       "    .dataframe tbody tr th {\n",
       "        vertical-align: top;\n",
       "    }\n",
       "\n",
       "    .dataframe thead th {\n",
       "        text-align: right;\n",
       "    }\n",
       "</style>\n",
       "<table border=\"1\" class=\"dataframe\">\n",
       "  <thead>\n",
       "    <tr style=\"text-align: right;\">\n",
       "      <th></th>\n",
       "      <th>Name</th>\n",
       "      <th>Breed</th>\n",
       "      <th>Color</th>\n",
       "      <th>Height(cm)</th>\n",
       "      <th>Weight(kg)</th>\n",
       "      <th>Date of Birth</th>\n",
       "    </tr>\n",
       "  </thead>\n",
       "  <tbody>\n",
       "    <tr>\n",
       "      <th>2</th>\n",
       "      <td>Cooper</td>\n",
       "      <td>Schnauze</td>\n",
       "      <td>Gray</td>\n",
       "      <td>49</td>\n",
       "      <td>17</td>\n",
       "      <td>2011-12-11</td>\n",
       "    </tr>\n",
       "    <tr>\n",
       "      <th>0</th>\n",
       "      <td>Bella</td>\n",
       "      <td>Labrador</td>\n",
       "      <td>Brown</td>\n",
       "      <td>56</td>\n",
       "      <td>24</td>\n",
       "      <td>2013-07-01</td>\n",
       "    </tr>\n",
       "    <tr>\n",
       "      <th>1</th>\n",
       "      <td>Charlie</td>\n",
       "      <td>Poodle</td>\n",
       "      <td>Black</td>\n",
       "      <td>43</td>\n",
       "      <td>24</td>\n",
       "      <td>2016-09-16</td>\n",
       "    </tr>\n",
       "    <tr>\n",
       "      <th>3</th>\n",
       "      <td>Lucy</td>\n",
       "      <td>Chow Chow</td>\n",
       "      <td>Brown</td>\n",
       "      <td>46</td>\n",
       "      <td>24</td>\n",
       "      <td>2014-08-25</td>\n",
       "    </tr>\n",
       "    <tr>\n",
       "      <th>4</th>\n",
       "      <td>Max</td>\n",
       "      <td>Labrador</td>\n",
       "      <td>Black</td>\n",
       "      <td>59</td>\n",
       "      <td>29</td>\n",
       "      <td>2017-01-20</td>\n",
       "    </tr>\n",
       "    <tr>\n",
       "      <th>5</th>\n",
       "      <td>Bernie</td>\n",
       "      <td>St.Bernard</td>\n",
       "      <td>White</td>\n",
       "      <td>77</td>\n",
       "      <td>74</td>\n",
       "      <td>2018-02-27</td>\n",
       "    </tr>\n",
       "  </tbody>\n",
       "</table>\n",
       "</div>"
      ]
     },
     "execution_count": 49,
     "metadata": {},
     "output_type": "execute_result"
    }
   ],
   "execution_count": 49
  },
  {
   "metadata": {
    "ExecuteTime": {
     "end_time": "2024-11-04T05:10:53.190104Z",
     "start_time": "2024-11-04T05:10:53.170054Z"
    }
   },
   "cell_type": "code",
   "source": [
    "import pandas as pd\n",
    "dogs = pd.read_csv('dogs.csv')\n",
    "dogs.sort_values(\"Weight(kg)\", ascending=False) # set ascending = False to reverse the order"
   ],
   "id": "a60c174a34fa030c",
   "outputs": [
    {
     "data": {
      "text/plain": [
       "      Name       Breed  Color  Height(cm)  Weight(kg) Date of Birth\n",
       "5   Bernie  St.Bernard  White          77          74    2018-02-27\n",
       "4      Max    Labrador  Black          59          29    2017-01-20\n",
       "1  Charlie      Poodle  Black          43          24    2016-09-16\n",
       "0    Bella    Labrador  Brown          56          24    2013-07-01\n",
       "3     Lucy   Chow Chow  Brown          46          24    2014-08-25\n",
       "2   Cooper    Schnauze   Gray          49          17    2011-12-11"
      ],
      "text/html": [
       "<div>\n",
       "<style scoped>\n",
       "    .dataframe tbody tr th:only-of-type {\n",
       "        vertical-align: middle;\n",
       "    }\n",
       "\n",
       "    .dataframe tbody tr th {\n",
       "        vertical-align: top;\n",
       "    }\n",
       "\n",
       "    .dataframe thead th {\n",
       "        text-align: right;\n",
       "    }\n",
       "</style>\n",
       "<table border=\"1\" class=\"dataframe\">\n",
       "  <thead>\n",
       "    <tr style=\"text-align: right;\">\n",
       "      <th></th>\n",
       "      <th>Name</th>\n",
       "      <th>Breed</th>\n",
       "      <th>Color</th>\n",
       "      <th>Height(cm)</th>\n",
       "      <th>Weight(kg)</th>\n",
       "      <th>Date of Birth</th>\n",
       "    </tr>\n",
       "  </thead>\n",
       "  <tbody>\n",
       "    <tr>\n",
       "      <th>5</th>\n",
       "      <td>Bernie</td>\n",
       "      <td>St.Bernard</td>\n",
       "      <td>White</td>\n",
       "      <td>77</td>\n",
       "      <td>74</td>\n",
       "      <td>2018-02-27</td>\n",
       "    </tr>\n",
       "    <tr>\n",
       "      <th>4</th>\n",
       "      <td>Max</td>\n",
       "      <td>Labrador</td>\n",
       "      <td>Black</td>\n",
       "      <td>59</td>\n",
       "      <td>29</td>\n",
       "      <td>2017-01-20</td>\n",
       "    </tr>\n",
       "    <tr>\n",
       "      <th>1</th>\n",
       "      <td>Charlie</td>\n",
       "      <td>Poodle</td>\n",
       "      <td>Black</td>\n",
       "      <td>43</td>\n",
       "      <td>24</td>\n",
       "      <td>2016-09-16</td>\n",
       "    </tr>\n",
       "    <tr>\n",
       "      <th>0</th>\n",
       "      <td>Bella</td>\n",
       "      <td>Labrador</td>\n",
       "      <td>Brown</td>\n",
       "      <td>56</td>\n",
       "      <td>24</td>\n",
       "      <td>2013-07-01</td>\n",
       "    </tr>\n",
       "    <tr>\n",
       "      <th>3</th>\n",
       "      <td>Lucy</td>\n",
       "      <td>Chow Chow</td>\n",
       "      <td>Brown</td>\n",
       "      <td>46</td>\n",
       "      <td>24</td>\n",
       "      <td>2014-08-25</td>\n",
       "    </tr>\n",
       "    <tr>\n",
       "      <th>2</th>\n",
       "      <td>Cooper</td>\n",
       "      <td>Schnauze</td>\n",
       "      <td>Gray</td>\n",
       "      <td>49</td>\n",
       "      <td>17</td>\n",
       "      <td>2011-12-11</td>\n",
       "    </tr>\n",
       "  </tbody>\n",
       "</table>\n",
       "</div>"
      ]
     },
     "execution_count": 50,
     "metadata": {},
     "output_type": "execute_result"
    }
   ],
   "execution_count": 50
  },
  {
   "metadata": {
    "ExecuteTime": {
     "end_time": "2024-11-04T05:10:53.337509Z",
     "start_time": "2024-11-04T05:10:53.320052Z"
    }
   },
   "cell_type": "code",
   "source": [
    "import pandas as pd\n",
    "dogs = pd.read_csv('dogs.csv')\n",
    "dogs.sort_values([\"Weight(kg)\",\"Height(cm)\"]) # We can sort by multiple variables by passing a list of column names to the function. We sort first by weight, then by height."
   ],
   "id": "49b664de8d85b555",
   "outputs": [
    {
     "data": {
      "text/plain": [
       "      Name       Breed  Color  Height(cm)  Weight(kg) Date of Birth\n",
       "2   Cooper    Schnauze   Gray          49          17    2011-12-11\n",
       "1  Charlie      Poodle  Black          43          24    2016-09-16\n",
       "3     Lucy   Chow Chow  Brown          46          24    2014-08-25\n",
       "0    Bella    Labrador  Brown          56          24    2013-07-01\n",
       "4      Max    Labrador  Black          59          29    2017-01-20\n",
       "5   Bernie  St.Bernard  White          77          74    2018-02-27"
      ],
      "text/html": [
       "<div>\n",
       "<style scoped>\n",
       "    .dataframe tbody tr th:only-of-type {\n",
       "        vertical-align: middle;\n",
       "    }\n",
       "\n",
       "    .dataframe tbody tr th {\n",
       "        vertical-align: top;\n",
       "    }\n",
       "\n",
       "    .dataframe thead th {\n",
       "        text-align: right;\n",
       "    }\n",
       "</style>\n",
       "<table border=\"1\" class=\"dataframe\">\n",
       "  <thead>\n",
       "    <tr style=\"text-align: right;\">\n",
       "      <th></th>\n",
       "      <th>Name</th>\n",
       "      <th>Breed</th>\n",
       "      <th>Color</th>\n",
       "      <th>Height(cm)</th>\n",
       "      <th>Weight(kg)</th>\n",
       "      <th>Date of Birth</th>\n",
       "    </tr>\n",
       "  </thead>\n",
       "  <tbody>\n",
       "    <tr>\n",
       "      <th>2</th>\n",
       "      <td>Cooper</td>\n",
       "      <td>Schnauze</td>\n",
       "      <td>Gray</td>\n",
       "      <td>49</td>\n",
       "      <td>17</td>\n",
       "      <td>2011-12-11</td>\n",
       "    </tr>\n",
       "    <tr>\n",
       "      <th>1</th>\n",
       "      <td>Charlie</td>\n",
       "      <td>Poodle</td>\n",
       "      <td>Black</td>\n",
       "      <td>43</td>\n",
       "      <td>24</td>\n",
       "      <td>2016-09-16</td>\n",
       "    </tr>\n",
       "    <tr>\n",
       "      <th>3</th>\n",
       "      <td>Lucy</td>\n",
       "      <td>Chow Chow</td>\n",
       "      <td>Brown</td>\n",
       "      <td>46</td>\n",
       "      <td>24</td>\n",
       "      <td>2014-08-25</td>\n",
       "    </tr>\n",
       "    <tr>\n",
       "      <th>0</th>\n",
       "      <td>Bella</td>\n",
       "      <td>Labrador</td>\n",
       "      <td>Brown</td>\n",
       "      <td>56</td>\n",
       "      <td>24</td>\n",
       "      <td>2013-07-01</td>\n",
       "    </tr>\n",
       "    <tr>\n",
       "      <th>4</th>\n",
       "      <td>Max</td>\n",
       "      <td>Labrador</td>\n",
       "      <td>Black</td>\n",
       "      <td>59</td>\n",
       "      <td>29</td>\n",
       "      <td>2017-01-20</td>\n",
       "    </tr>\n",
       "    <tr>\n",
       "      <th>5</th>\n",
       "      <td>Bernie</td>\n",
       "      <td>St.Bernard</td>\n",
       "      <td>White</td>\n",
       "      <td>77</td>\n",
       "      <td>74</td>\n",
       "      <td>2018-02-27</td>\n",
       "    </tr>\n",
       "  </tbody>\n",
       "</table>\n",
       "</div>"
      ]
     },
     "execution_count": 51,
     "metadata": {},
     "output_type": "execute_result"
    }
   ],
   "execution_count": 51
  },
  {
   "metadata": {
    "ExecuteTime": {
     "end_time": "2024-11-04T05:11:25.909505Z",
     "start_time": "2024-11-04T05:11:25.895739Z"
    }
   },
   "cell_type": "code",
   "source": [
    "import pandas as pd\n",
    "dogs = pd.read_csv('dogs.csv')\n",
    "dogs.sort_values([\"Weight(kg)\",\"Height(cm)\"],ascending=[True,False])"
   ],
   "id": "fcad369251cae590",
   "outputs": [
    {
     "data": {
      "text/plain": [
       "      Name       Breed  Color  Height(cm)  Weight(kg) Date of Birth\n",
       "2   Cooper    Schnauze   Gray          49          17    2011-12-11\n",
       "0    Bella    Labrador  Brown          56          24    2013-07-01\n",
       "3     Lucy   Chow Chow  Brown          46          24    2014-08-25\n",
       "1  Charlie      Poodle  Black          43          24    2016-09-16\n",
       "4      Max    Labrador  Black          59          29    2017-01-20\n",
       "5   Bernie  St.Bernard  White          77          74    2018-02-27"
      ],
      "text/html": [
       "<div>\n",
       "<style scoped>\n",
       "    .dataframe tbody tr th:only-of-type {\n",
       "        vertical-align: middle;\n",
       "    }\n",
       "\n",
       "    .dataframe tbody tr th {\n",
       "        vertical-align: top;\n",
       "    }\n",
       "\n",
       "    .dataframe thead th {\n",
       "        text-align: right;\n",
       "    }\n",
       "</style>\n",
       "<table border=\"1\" class=\"dataframe\">\n",
       "  <thead>\n",
       "    <tr style=\"text-align: right;\">\n",
       "      <th></th>\n",
       "      <th>Name</th>\n",
       "      <th>Breed</th>\n",
       "      <th>Color</th>\n",
       "      <th>Height(cm)</th>\n",
       "      <th>Weight(kg)</th>\n",
       "      <th>Date of Birth</th>\n",
       "    </tr>\n",
       "  </thead>\n",
       "  <tbody>\n",
       "    <tr>\n",
       "      <th>2</th>\n",
       "      <td>Cooper</td>\n",
       "      <td>Schnauze</td>\n",
       "      <td>Gray</td>\n",
       "      <td>49</td>\n",
       "      <td>17</td>\n",
       "      <td>2011-12-11</td>\n",
       "    </tr>\n",
       "    <tr>\n",
       "      <th>0</th>\n",
       "      <td>Bella</td>\n",
       "      <td>Labrador</td>\n",
       "      <td>Brown</td>\n",
       "      <td>56</td>\n",
       "      <td>24</td>\n",
       "      <td>2013-07-01</td>\n",
       "    </tr>\n",
       "    <tr>\n",
       "      <th>3</th>\n",
       "      <td>Lucy</td>\n",
       "      <td>Chow Chow</td>\n",
       "      <td>Brown</td>\n",
       "      <td>46</td>\n",
       "      <td>24</td>\n",
       "      <td>2014-08-25</td>\n",
       "    </tr>\n",
       "    <tr>\n",
       "      <th>1</th>\n",
       "      <td>Charlie</td>\n",
       "      <td>Poodle</td>\n",
       "      <td>Black</td>\n",
       "      <td>43</td>\n",
       "      <td>24</td>\n",
       "      <td>2016-09-16</td>\n",
       "    </tr>\n",
       "    <tr>\n",
       "      <th>4</th>\n",
       "      <td>Max</td>\n",
       "      <td>Labrador</td>\n",
       "      <td>Black</td>\n",
       "      <td>59</td>\n",
       "      <td>29</td>\n",
       "      <td>2017-01-20</td>\n",
       "    </tr>\n",
       "    <tr>\n",
       "      <th>5</th>\n",
       "      <td>Bernie</td>\n",
       "      <td>St.Bernard</td>\n",
       "      <td>White</td>\n",
       "      <td>77</td>\n",
       "      <td>74</td>\n",
       "      <td>2018-02-27</td>\n",
       "    </tr>\n",
       "  </tbody>\n",
       "</table>\n",
       "</div>"
      ]
     },
     "execution_count": 53,
     "metadata": {},
     "output_type": "execute_result"
    }
   ],
   "execution_count": 53
  },
  {
   "metadata": {
    "ExecuteTime": {
     "end_time": "2024-11-04T05:12:55.984842Z",
     "start_time": "2024-11-04T05:12:55.967502Z"
    }
   },
   "cell_type": "code",
   "source": [
    "import pandas as pd\n",
    "dogs = pd.read_csv('dogs.csv')\n",
    "for column_name in dogs.columns:\n",
    "    print(dogs[column_name])\n",
    "    print()"
   ],
   "id": "3e3f9ccd13f28bf6",
   "outputs": [
    {
     "name": "stdout",
     "output_type": "stream",
     "text": [
      "0      Bella\n",
      "1    Charlie\n",
      "2     Cooper\n",
      "3       Lucy\n",
      "4        Max\n",
      "5     Bernie\n",
      "Name: Name, dtype: object\n",
      "\n",
      "0      Labrador\n",
      "1        Poodle\n",
      "2      Schnauze\n",
      "3     Chow Chow\n",
      "4      Labrador\n",
      "5    St.Bernard\n",
      "Name: Breed, dtype: object\n",
      "\n",
      "0    Brown\n",
      "1    Black\n",
      "2     Gray\n",
      "3    Brown\n",
      "4    Black\n",
      "5    White\n",
      "Name: Color, dtype: object\n",
      "\n",
      "0    56\n",
      "1    43\n",
      "2    49\n",
      "3    46\n",
      "4    59\n",
      "5    77\n",
      "Name: Height(cm), dtype: int64\n",
      "\n",
      "0    24\n",
      "1    24\n",
      "2    17\n",
      "3    24\n",
      "4    29\n",
      "5    74\n",
      "Name: Weight(kg), dtype: int64\n",
      "\n",
      "0    2013-07-01\n",
      "1    2016-09-16\n",
      "2    2011-12-11\n",
      "3    2014-08-25\n",
      "4    2017-01-20\n",
      "5    2018-02-27\n",
      "Name: Date of Birth, dtype: object\n",
      "\n"
     ]
    }
   ],
   "execution_count": 55
  },
  {
   "metadata": {
    "ExecuteTime": {
     "end_time": "2024-11-04T05:13:44.656945Z",
     "start_time": "2024-11-04T05:13:44.648040Z"
    }
   },
   "cell_type": "code",
   "source": [
    "import pandas as pd\n",
    "dogs = pd.read_csv('dogs.csv')\n",
    "print(dogs[[\"Breed\",\"Name\"]])"
   ],
   "id": "54461ed88e90e73d",
   "outputs": [
    {
     "name": "stdout",
     "output_type": "stream",
     "text": [
      "        Breed     Name\n",
      "0    Labrador    Bella\n",
      "1      Poodle  Charlie\n",
      "2    Schnauze   Cooper\n",
      "3   Chow Chow     Lucy\n",
      "4    Labrador      Max\n",
      "5  St.Bernard   Bernie\n"
     ]
    }
   ],
   "execution_count": 57
  },
  {
   "metadata": {
    "ExecuteTime": {
     "end_time": "2024-11-04T05:13:57.369356Z",
     "start_time": "2024-11-04T05:13:57.349002Z"
    }
   },
   "cell_type": "code",
   "source": [
    "import pandas as pd\n",
    "dogs = pd.read_csv('dogs.csv')\n",
    "print(dogs[[\"Name\",\"Breed\"]])"
   ],
   "id": "94c334a3f0f09404",
   "outputs": [
    {
     "name": "stdout",
     "output_type": "stream",
     "text": [
      "      Name       Breed\n",
      "0    Bella    Labrador\n",
      "1  Charlie      Poodle\n",
      "2   Cooper    Schnauze\n",
      "3     Lucy   Chow Chow\n",
      "4      Max    Labrador\n",
      "5   Bernie  St.Bernard\n"
     ]
    }
   ],
   "execution_count": 58
  },
  {
   "metadata": {
    "ExecuteTime": {
     "end_time": "2024-11-04T05:14:49.929906Z",
     "start_time": "2024-11-04T05:14:49.909061Z"
    }
   },
   "cell_type": "code",
   "source": [
    "import pandas as pd\n",
    "dogs = pd.read_csv('dogs.csv')\n",
    "dogs[\"Height(cm)\"] > 50 # the most common way to do this is by creating a logical condition to filter against."
   ],
   "id": "e5a8c37b99ff8a95",
   "outputs": [
    {
     "data": {
      "text/plain": [
       "0     True\n",
       "1    False\n",
       "2    False\n",
       "3    False\n",
       "4     True\n",
       "5     True\n",
       "Name: Height(cm), dtype: bool"
      ]
     },
     "execution_count": 59,
     "metadata": {},
     "output_type": "execute_result"
    }
   ],
   "execution_count": 59
  },
  {
   "metadata": {
    "ExecuteTime": {
     "end_time": "2024-11-04T05:16:43.512402Z",
     "start_time": "2024-11-04T05:16:43.498343Z"
    }
   },
   "cell_type": "code",
   "source": [
    "import pandas as pd\n",
    "dogs = pd.read_csv('dogs.csv')\n",
    "dogs[dogs[\"Height(cm)\"] > 50] # we can use logical condition inside [] to subset the rows"
   ],
   "id": "1f7355c021c0d4c6",
   "outputs": [
    {
     "data": {
      "text/plain": [
       "     Name       Breed  Color  Height(cm)  Weight(kg) Date of Birth\n",
       "0   Bella    Labrador  Brown          56          24    2013-07-01\n",
       "4     Max    Labrador  Black          59          29    2017-01-20\n",
       "5  Bernie  St.Bernard  White          77          74    2018-02-27"
      ],
      "text/html": [
       "<div>\n",
       "<style scoped>\n",
       "    .dataframe tbody tr th:only-of-type {\n",
       "        vertical-align: middle;\n",
       "    }\n",
       "\n",
       "    .dataframe tbody tr th {\n",
       "        vertical-align: top;\n",
       "    }\n",
       "\n",
       "    .dataframe thead th {\n",
       "        text-align: right;\n",
       "    }\n",
       "</style>\n",
       "<table border=\"1\" class=\"dataframe\">\n",
       "  <thead>\n",
       "    <tr style=\"text-align: right;\">\n",
       "      <th></th>\n",
       "      <th>Name</th>\n",
       "      <th>Breed</th>\n",
       "      <th>Color</th>\n",
       "      <th>Height(cm)</th>\n",
       "      <th>Weight(kg)</th>\n",
       "      <th>Date of Birth</th>\n",
       "    </tr>\n",
       "  </thead>\n",
       "  <tbody>\n",
       "    <tr>\n",
       "      <th>0</th>\n",
       "      <td>Bella</td>\n",
       "      <td>Labrador</td>\n",
       "      <td>Brown</td>\n",
       "      <td>56</td>\n",
       "      <td>24</td>\n",
       "      <td>2013-07-01</td>\n",
       "    </tr>\n",
       "    <tr>\n",
       "      <th>4</th>\n",
       "      <td>Max</td>\n",
       "      <td>Labrador</td>\n",
       "      <td>Black</td>\n",
       "      <td>59</td>\n",
       "      <td>29</td>\n",
       "      <td>2017-01-20</td>\n",
       "    </tr>\n",
       "    <tr>\n",
       "      <th>5</th>\n",
       "      <td>Bernie</td>\n",
       "      <td>St.Bernard</td>\n",
       "      <td>White</td>\n",
       "      <td>77</td>\n",
       "      <td>74</td>\n",
       "      <td>2018-02-27</td>\n",
       "    </tr>\n",
       "  </tbody>\n",
       "</table>\n",
       "</div>"
      ]
     },
     "execution_count": 62,
     "metadata": {},
     "output_type": "execute_result"
    }
   ],
   "execution_count": 62
  },
  {
   "metadata": {
    "ExecuteTime": {
     "end_time": "2024-11-04T05:17:57.076457Z",
     "start_time": "2024-11-04T05:17:57.044351Z"
    }
   },
   "cell_type": "code",
   "source": [
    "import pandas as pd\n",
    "dogs = pd.read_csv('dogs.csv')\n",
    "dogs[dogs[\"Breed\"] == \"Labrador\"]"
   ],
   "id": "6f459c63bda404b8",
   "outputs": [
    {
     "data": {
      "text/plain": [
       "    Name     Breed  Color  Height(cm)  Weight(kg) Date of Birth\n",
       "0  Bella  Labrador  Brown          56          24    2013-07-01\n",
       "4    Max  Labrador  Black          59          29    2017-01-20"
      ],
      "text/html": [
       "<div>\n",
       "<style scoped>\n",
       "    .dataframe tbody tr th:only-of-type {\n",
       "        vertical-align: middle;\n",
       "    }\n",
       "\n",
       "    .dataframe tbody tr th {\n",
       "        vertical-align: top;\n",
       "    }\n",
       "\n",
       "    .dataframe thead th {\n",
       "        text-align: right;\n",
       "    }\n",
       "</style>\n",
       "<table border=\"1\" class=\"dataframe\">\n",
       "  <thead>\n",
       "    <tr style=\"text-align: right;\">\n",
       "      <th></th>\n",
       "      <th>Name</th>\n",
       "      <th>Breed</th>\n",
       "      <th>Color</th>\n",
       "      <th>Height(cm)</th>\n",
       "      <th>Weight(kg)</th>\n",
       "      <th>Date of Birth</th>\n",
       "    </tr>\n",
       "  </thead>\n",
       "  <tbody>\n",
       "    <tr>\n",
       "      <th>0</th>\n",
       "      <td>Bella</td>\n",
       "      <td>Labrador</td>\n",
       "      <td>Brown</td>\n",
       "      <td>56</td>\n",
       "      <td>24</td>\n",
       "      <td>2013-07-01</td>\n",
       "    </tr>\n",
       "    <tr>\n",
       "      <th>4</th>\n",
       "      <td>Max</td>\n",
       "      <td>Labrador</td>\n",
       "      <td>Black</td>\n",
       "      <td>59</td>\n",
       "      <td>29</td>\n",
       "      <td>2017-01-20</td>\n",
       "    </tr>\n",
       "  </tbody>\n",
       "</table>\n",
       "</div>"
      ]
     },
     "execution_count": 63,
     "metadata": {},
     "output_type": "execute_result"
    }
   ],
   "execution_count": 63
  },
  {
   "metadata": {
    "ExecuteTime": {
     "end_time": "2024-11-04T05:18:59.728952Z",
     "start_time": "2024-11-04T05:18:59.712050Z"
    }
   },
   "cell_type": "code",
   "source": [
    "import pandas as pd\n",
    "dogs = pd.read_csv('dogs.csv')\n",
    "dogs[dogs[\"Date of Birth\"] < \"2015-01-01\"].sort_values(\"Date of Birth\") # YYYY - MM - DD is the standard format for date."
   ],
   "id": "565e841a3705a30",
   "outputs": [
    {
     "data": {
      "text/plain": [
       "     Name      Breed  Color  Height(cm)  Weight(kg) Date of Birth\n",
       "2  Cooper   Schnauze   Gray          49          17    2011-12-11\n",
       "0   Bella   Labrador  Brown          56          24    2013-07-01\n",
       "3    Lucy  Chow Chow  Brown          46          24    2014-08-25"
      ],
      "text/html": [
       "<div>\n",
       "<style scoped>\n",
       "    .dataframe tbody tr th:only-of-type {\n",
       "        vertical-align: middle;\n",
       "    }\n",
       "\n",
       "    .dataframe tbody tr th {\n",
       "        vertical-align: top;\n",
       "    }\n",
       "\n",
       "    .dataframe thead th {\n",
       "        text-align: right;\n",
       "    }\n",
       "</style>\n",
       "<table border=\"1\" class=\"dataframe\">\n",
       "  <thead>\n",
       "    <tr style=\"text-align: right;\">\n",
       "      <th></th>\n",
       "      <th>Name</th>\n",
       "      <th>Breed</th>\n",
       "      <th>Color</th>\n",
       "      <th>Height(cm)</th>\n",
       "      <th>Weight(kg)</th>\n",
       "      <th>Date of Birth</th>\n",
       "    </tr>\n",
       "  </thead>\n",
       "  <tbody>\n",
       "    <tr>\n",
       "      <th>2</th>\n",
       "      <td>Cooper</td>\n",
       "      <td>Schnauze</td>\n",
       "      <td>Gray</td>\n",
       "      <td>49</td>\n",
       "      <td>17</td>\n",
       "      <td>2011-12-11</td>\n",
       "    </tr>\n",
       "    <tr>\n",
       "      <th>0</th>\n",
       "      <td>Bella</td>\n",
       "      <td>Labrador</td>\n",
       "      <td>Brown</td>\n",
       "      <td>56</td>\n",
       "      <td>24</td>\n",
       "      <td>2013-07-01</td>\n",
       "    </tr>\n",
       "    <tr>\n",
       "      <th>3</th>\n",
       "      <td>Lucy</td>\n",
       "      <td>Chow Chow</td>\n",
       "      <td>Brown</td>\n",
       "      <td>46</td>\n",
       "      <td>24</td>\n",
       "      <td>2014-08-25</td>\n",
       "    </tr>\n",
       "  </tbody>\n",
       "</table>\n",
       "</div>"
      ]
     },
     "execution_count": 65,
     "metadata": {},
     "output_type": "execute_result"
    }
   ],
   "execution_count": 65
  },
  {
   "metadata": {
    "ExecuteTime": {
     "end_time": "2024-11-04T05:20:38.031180Z",
     "start_time": "2024-11-04T05:20:38.017373Z"
    }
   },
   "cell_type": "code",
   "source": [
    "import pandas as pd\n",
    "dogs = pd.read_csv('dogs.csv')\n",
    "is_lab = dogs[\"Breed\"] == \"Labrador\"\n",
    "is_brown = dogs[\"Color\"] == \"Brown\" \n",
    "dogs[is_lab & is_brown] #to subset the rows that meet multiple conditions we using logical operators."
   ],
   "id": "b761b7e5f39cde57",
   "outputs": [
    {
     "data": {
      "text/plain": [
       "    Name     Breed  Color  Height(cm)  Weight(kg) Date of Birth\n",
       "0  Bella  Labrador  Brown          56          24    2013-07-01"
      ],
      "text/html": [
       "<div>\n",
       "<style scoped>\n",
       "    .dataframe tbody tr th:only-of-type {\n",
       "        vertical-align: middle;\n",
       "    }\n",
       "\n",
       "    .dataframe tbody tr th {\n",
       "        vertical-align: top;\n",
       "    }\n",
       "\n",
       "    .dataframe thead th {\n",
       "        text-align: right;\n",
       "    }\n",
       "</style>\n",
       "<table border=\"1\" class=\"dataframe\">\n",
       "  <thead>\n",
       "    <tr style=\"text-align: right;\">\n",
       "      <th></th>\n",
       "      <th>Name</th>\n",
       "      <th>Breed</th>\n",
       "      <th>Color</th>\n",
       "      <th>Height(cm)</th>\n",
       "      <th>Weight(kg)</th>\n",
       "      <th>Date of Birth</th>\n",
       "    </tr>\n",
       "  </thead>\n",
       "  <tbody>\n",
       "    <tr>\n",
       "      <th>0</th>\n",
       "      <td>Bella</td>\n",
       "      <td>Labrador</td>\n",
       "      <td>Brown</td>\n",
       "      <td>56</td>\n",
       "      <td>24</td>\n",
       "      <td>2013-07-01</td>\n",
       "    </tr>\n",
       "  </tbody>\n",
       "</table>\n",
       "</div>"
      ]
     },
     "execution_count": 68,
     "metadata": {},
     "output_type": "execute_result"
    }
   ],
   "execution_count": 68
  },
  {
   "metadata": {
    "ExecuteTime": {
     "end_time": "2024-11-04T05:23:21.028411Z",
     "start_time": "2024-11-04T05:23:21.014562Z"
    }
   },
   "cell_type": "code",
   "source": [
    "# using isin() to filter on multiple values of a categorical variable.\n",
    "import pandas as pd\n",
    "dogs = pd.read_csv('dogs.csv')\n",
    "is_black_or_brown =  dogs[\"Color\"].isin([\"Black\",\"Brown\"])\n",
    "print(dogs[is_black_or_brown])"
   ],
   "id": "308fb94e55c88cf3",
   "outputs": [
    {
     "name": "stdout",
     "output_type": "stream",
     "text": [
      "      Name      Breed  Color  Height(cm)  Weight(kg) Date of Birth\n",
      "0    Bella   Labrador  Brown          56          24    2013-07-01\n",
      "1  Charlie     Poodle  Black          43          24    2016-09-16\n",
      "3     Lucy  Chow Chow  Brown          46          24    2014-08-25\n",
      "4      Max   Labrador  Black          59          29    2017-01-20\n"
     ]
    }
   ],
   "execution_count": 70
  },
  {
   "metadata": {},
   "cell_type": "code",
   "outputs": [],
   "execution_count": null,
   "source": "",
   "id": "8800561f430fb205"
  }
 ],
 "metadata": {
  "kernelspec": {
   "display_name": "Python 3",
   "language": "python",
   "name": "python3"
  },
  "language_info": {
   "codemirror_mode": {
    "name": "ipython",
    "version": 2
   },
   "file_extension": ".py",
   "mimetype": "text/x-python",
   "name": "python",
   "nbconvert_exporter": "python",
   "pygments_lexer": "ipython2",
   "version": "2.7.6"
  }
 },
 "nbformat": 4,
 "nbformat_minor": 5
}
