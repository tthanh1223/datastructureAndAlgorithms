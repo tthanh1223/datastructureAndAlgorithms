{
 "cells": [
  {
   "metadata": {},
   "cell_type": "raw",
   "source": "pandas is built on Numpy and Matplotlib",
   "id": "7f512d462dcb09f7"
  },
  {
   "cell_type": "code",
   "id": "initial_id",
   "metadata": {
    "collapsed": true,
    "ExecuteTime": {
     "end_time": "2024-11-04T05:10:52.590893Z",
     "start_time": "2024-11-04T05:10:52.579498Z"
    }
   },
   "source": [
    "import pandas as pd\n",
    "dogs = pd.read_csv('dogs.csv')\n",
    "print(dogs)"
   ],
   "outputs": [
    {
     "name": "stdout",
     "output_type": "stream",
     "text": [
      "      Name       Breed  Color  Height(cm)  Weight(kg) Date of Birth\n",
      "0    Bella    Labrador  Brown          56          24    2013-07-01\n",
      "1  Charlie      Poodle  Black          43          24    2016-09-16\n",
      "2   Cooper    Schnauze   Gray          49          17    2011-12-11\n",
      "3     Lucy   Chow Chow  Brown          46          24    2014-08-25\n",
      "4      Max    Labrador  Black          59          29    2017-01-20\n",
      "5   Bernie  St.Bernard  White          77          74    2018-02-27\n"
     ]
    }
   ],
   "execution_count": 42
  },
  {
   "metadata": {
    "ExecuteTime": {
     "end_time": "2024-11-04T05:10:52.625257Z",
     "start_time": "2024-11-04T05:10:52.613706Z"
    }
   },
   "cell_type": "code",
   "source": [
    "import pandas as pd\n",
    "dogs = pd.read_csv('dogs.csv')\n",
    "print(dogs.head()) # for a few first rows for better understanding "
   ],
   "id": "25c6e7c612c20e34",
   "outputs": [
    {
     "name": "stdout",
     "output_type": "stream",
     "text": [
      "      Name      Breed  Color  Height(cm)  Weight(kg) Date of Birth\n",
      "0    Bella   Labrador  Brown          56          24    2013-07-01\n",
      "1  Charlie     Poodle  Black          43          24    2016-09-16\n",
      "2   Cooper   Schnauze   Gray          49          17    2011-12-11\n",
      "3     Lucy  Chow Chow  Brown          46          24    2014-08-25\n",
      "4      Max   Labrador  Black          59          29    2017-01-20\n"
     ]
    }
   ],
   "execution_count": 43
  },
  {
   "metadata": {
    "ExecuteTime": {
     "end_time": "2024-11-04T05:10:52.691955Z",
     "start_time": "2024-11-04T05:10:52.669574Z"
    }
   },
   "cell_type": "code",
   "source": [
    "import pandas as pd\n",
    "dogs = pd.read_csv('dogs.csv')\n",
    "print(dogs.info())  # display the names of columns, the data types they contain and whether they have any missing values"
   ],
   "id": "46bdef2db4249d0d",
   "outputs": [
    {
     "name": "stdout",
     "output_type": "stream",
     "text": [
      "<class 'pandas.core.frame.DataFrame'>\n",
      "RangeIndex: 6 entries, 0 to 5\n",
      "Data columns (total 6 columns):\n",
      " #   Column         Non-Null Count  Dtype \n",
      "---  ------         --------------  ----- \n",
      " 0   Name           6 non-null      object\n",
      " 1   Breed          6 non-null      object\n",
      " 2   Color          6 non-null      object\n",
      " 3   Height(cm)     6 non-null      int64 \n",
      " 4   Weight(kg)     6 non-null      int64 \n",
      " 5   Date of Birth  6 non-null      object\n",
      "dtypes: int64(2), object(4)\n",
      "memory usage: 420.0+ bytes\n",
      "None\n"
     ]
    }
   ],
   "execution_count": 44
  },
  {
   "metadata": {
    "ExecuteTime": {
     "end_time": "2024-11-04T05:10:52.742355Z",
     "start_time": "2024-11-04T05:10:52.734693Z"
    }
   },
   "cell_type": "code",
   "source": [
    "import pandas as pd\n",
    "dogs = pd.read_csv('dogs.csv')\n",
    "print(dogs.shape)  # an attribute contains a tuple that holds the number of rows followed by the number of columns."
   ],
   "id": "b0149352bdb05498",
   "outputs": [
    {
     "name": "stdout",
     "output_type": "stream",
     "text": [
      "(6, 6)\n"
     ]
    }
   ],
   "execution_count": 45
  },
  {
   "metadata": {
    "ExecuteTime": {
     "end_time": "2024-11-04T05:10:52.792668Z",
     "start_time": "2024-11-04T05:10:52.766285Z"
    }
   },
   "cell_type": "code",
   "source": [
    "import pandas as pd\n",
    "dogs = pd.read_csv('dogs.csv')\n",
    "print(dogs.describe()) # computes some summary statistics for numerical columns like mean and median. \"count\" is the number of non-missing values in each column.\n",
    "# `describe()` is good for a quick overview of numeric variables."
   ],
   "id": "64d1fc4a3fa6df3b",
   "outputs": [
    {
     "name": "stdout",
     "output_type": "stream",
     "text": [
      "       Height(cm)  Weight(kg)\n",
      "count    6.000000     6.00000\n",
      "mean    55.000000    32.00000\n",
      "std     12.345039    20.92845\n",
      "min     43.000000    17.00000\n",
      "25%     46.750000    24.00000\n",
      "50%     52.500000    24.00000\n",
      "75%     58.250000    27.75000\n",
      "max     77.000000    74.00000\n"
     ]
    }
   ],
   "execution_count": 46
  },
  {
   "metadata": {
    "ExecuteTime": {
     "end_time": "2024-11-04T05:10:52.833Z",
     "start_time": "2024-11-04T05:10:52.815681Z"
    }
   },
   "cell_type": "code",
   "source": [
    "import pandas as pd\n",
    "import numpy as np\n",
    "dogs = pd.read_csv('dogs.csv')\n",
    "print(np.array(dogs.values))  # contains the data values in a 2-dimensional Numpy array."
   ],
   "id": "c24532bdeef4e399",
   "outputs": [
    {
     "name": "stdout",
     "output_type": "stream",
     "text": [
      "[['Bella' 'Labrador' 'Brown' 56 24 '2013-07-01']\n",
      " ['Charlie' 'Poodle' 'Black' 43 24 '2016-09-16']\n",
      " ['Cooper' 'Schnauze' 'Gray' 49 17 '2011-12-11']\n",
      " ['Lucy' 'Chow Chow' 'Brown' 46 24 '2014-08-25']\n",
      " ['Max' 'Labrador' 'Black' 59 29 '2017-01-20']\n",
      " ['Bernie' 'St.Bernard' 'White' 77 74 '2018-02-27']]\n"
     ]
    }
   ],
   "execution_count": 47
  },
  {
   "metadata": {
    "ExecuteTime": {
     "end_time": "2024-11-04T05:10:52.880741Z",
     "start_time": "2024-11-04T05:10:52.859134Z"
    }
   },
   "cell_type": "code",
   "source": [
    "import pandas as pd\n",
    "dogs = pd.read_csv('dogs.csv')\n",
    "print(dogs.columns) # contains column names\n",
    "for i in dogs.columns:\n",
    "    print(type(i),end=\" \")\n",
    "    print(i)\n",
    "print(dogs.index) #contains row numbers or row names."
   ],
   "id": "102aed73effe399",
   "outputs": [
    {
     "name": "stdout",
     "output_type": "stream",
     "text": [
      "Index(['Name', 'Breed', 'Color', 'Height(cm)', 'Weight(kg)', 'Date of Birth'], dtype='object')\n",
      "<class 'str'> Name\n",
      "<class 'str'> Breed\n",
      "<class 'str'> Color\n",
      "<class 'str'> Height(cm)\n",
      "<class 'str'> Weight(kg)\n",
      "<class 'str'> Date of Birth\n",
      "RangeIndex(start=0, stop=6, step=1)\n"
     ]
    }
   ],
   "execution_count": 48
  },
  {
   "metadata": {
    "ExecuteTime": {
     "end_time": "2024-11-04T05:10:53.047964Z",
     "start_time": "2024-11-04T05:10:52.973579Z"
    }
   },
   "cell_type": "code",
   "source": [
    "import pandas as pd\n",
    "dogs = pd.read_csv('dogs.csv')\n",
    "dogs.sort_values(\"Weight(kg)\") # change the order ò the rows by sorting with sort_values()"
   ],
   "id": "51824e2e1291f9f5",
   "outputs": [
    {
     "data": {
      "text/plain": [
       "      Name       Breed  Color  Height(cm)  Weight(kg) Date of Birth\n",
       "2   Cooper    Schnauze   Gray          49          17    2011-12-11\n",
       "0    Bella    Labrador  Brown          56          24    2013-07-01\n",
       "1  Charlie      Poodle  Black          43          24    2016-09-16\n",
       "3     Lucy   Chow Chow  Brown          46          24    2014-08-25\n",
       "4      Max    Labrador  Black          59          29    2017-01-20\n",
       "5   Bernie  St.Bernard  White          77          74    2018-02-27"
      ],
      "text/html": [
       "<div>\n",
       "<style scoped>\n",
       "    .dataframe tbody tr th:only-of-type {\n",
       "        vertical-align: middle;\n",
       "    }\n",
       "\n",
       "    .dataframe tbody tr th {\n",
       "        vertical-align: top;\n",
       "    }\n",
       "\n",
       "    .dataframe thead th {\n",
       "        text-align: right;\n",
       "    }\n",
       "</style>\n",
       "<table border=\"1\" class=\"dataframe\">\n",
       "  <thead>\n",
       "    <tr style=\"text-align: right;\">\n",
       "      <th></th>\n",
       "      <th>Name</th>\n",
       "      <th>Breed</th>\n",
       "      <th>Color</th>\n",
       "      <th>Height(cm)</th>\n",
       "      <th>Weight(kg)</th>\n",
       "      <th>Date of Birth</th>\n",
       "    </tr>\n",
       "  </thead>\n",
       "  <tbody>\n",
       "    <tr>\n",
       "      <th>2</th>\n",
       "      <td>Cooper</td>\n",
       "      <td>Schnauze</td>\n",
       "      <td>Gray</td>\n",
       "      <td>49</td>\n",
       "      <td>17</td>\n",
       "      <td>2011-12-11</td>\n",
       "    </tr>\n",
       "    <tr>\n",
       "      <th>0</th>\n",
       "      <td>Bella</td>\n",
       "      <td>Labrador</td>\n",
       "      <td>Brown</td>\n",
       "      <td>56</td>\n",
       "      <td>24</td>\n",
       "      <td>2013-07-01</td>\n",
       "    </tr>\n",
       "    <tr>\n",
       "      <th>1</th>\n",
       "      <td>Charlie</td>\n",
       "      <td>Poodle</td>\n",
       "      <td>Black</td>\n",
       "      <td>43</td>\n",
       "      <td>24</td>\n",
       "      <td>2016-09-16</td>\n",
       "    </tr>\n",
       "    <tr>\n",
       "      <th>3</th>\n",
       "      <td>Lucy</td>\n",
       "      <td>Chow Chow</td>\n",
       "      <td>Brown</td>\n",
       "      <td>46</td>\n",
       "      <td>24</td>\n",
       "      <td>2014-08-25</td>\n",
       "    </tr>\n",
       "    <tr>\n",
       "      <th>4</th>\n",
       "      <td>Max</td>\n",
       "      <td>Labrador</td>\n",
       "      <td>Black</td>\n",
       "      <td>59</td>\n",
       "      <td>29</td>\n",
       "      <td>2017-01-20</td>\n",
       "    </tr>\n",
       "    <tr>\n",
       "      <th>5</th>\n",
       "      <td>Bernie</td>\n",
       "      <td>St.Bernard</td>\n",
       "      <td>White</td>\n",
       "      <td>77</td>\n",
       "      <td>74</td>\n",
       "      <td>2018-02-27</td>\n",
       "    </tr>\n",
       "  </tbody>\n",
       "</table>\n",
       "</div>"
      ]
     },
     "execution_count": 49,
     "metadata": {},
     "output_type": "execute_result"
    }
   ],
   "execution_count": 49
  },
  {
   "metadata": {
    "ExecuteTime": {
     "end_time": "2024-11-04T05:10:53.190104Z",
     "start_time": "2024-11-04T05:10:53.170054Z"
    }
   },
   "cell_type": "code",
   "source": [
    "import pandas as pd\n",
    "dogs = pd.read_csv('dogs.csv')\n",
    "dogs.sort_values(\"Weight(kg)\", ascending=False) # set ascending = False to reverse the order"
   ],
   "id": "a60c174a34fa030c",
   "outputs": [
    {
     "data": {
      "text/plain": [
       "      Name       Breed  Color  Height(cm)  Weight(kg) Date of Birth\n",
       "5   Bernie  St.Bernard  White          77          74    2018-02-27\n",
       "4      Max    Labrador  Black          59          29    2017-01-20\n",
       "1  Charlie      Poodle  Black          43          24    2016-09-16\n",
       "0    Bella    Labrador  Brown          56          24    2013-07-01\n",
       "3     Lucy   Chow Chow  Brown          46          24    2014-08-25\n",
       "2   Cooper    Schnauze   Gray          49          17    2011-12-11"
      ],
      "text/html": [
       "<div>\n",
       "<style scoped>\n",
       "    .dataframe tbody tr th:only-of-type {\n",
       "        vertical-align: middle;\n",
       "    }\n",
       "\n",
       "    .dataframe tbody tr th {\n",
       "        vertical-align: top;\n",
       "    }\n",
       "\n",
       "    .dataframe thead th {\n",
       "        text-align: right;\n",
       "    }\n",
       "</style>\n",
       "<table border=\"1\" class=\"dataframe\">\n",
       "  <thead>\n",
       "    <tr style=\"text-align: right;\">\n",
       "      <th></th>\n",
       "      <th>Name</th>\n",
       "      <th>Breed</th>\n",
       "      <th>Color</th>\n",
       "      <th>Height(cm)</th>\n",
       "      <th>Weight(kg)</th>\n",
       "      <th>Date of Birth</th>\n",
       "    </tr>\n",
       "  </thead>\n",
       "  <tbody>\n",
       "    <tr>\n",
       "      <th>5</th>\n",
       "      <td>Bernie</td>\n",
       "      <td>St.Bernard</td>\n",
       "      <td>White</td>\n",
       "      <td>77</td>\n",
       "      <td>74</td>\n",
       "      <td>2018-02-27</td>\n",
       "    </tr>\n",
       "    <tr>\n",
       "      <th>4</th>\n",
       "      <td>Max</td>\n",
       "      <td>Labrador</td>\n",
       "      <td>Black</td>\n",
       "      <td>59</td>\n",
       "      <td>29</td>\n",
       "      <td>2017-01-20</td>\n",
       "    </tr>\n",
       "    <tr>\n",
       "      <th>1</th>\n",
       "      <td>Charlie</td>\n",
       "      <td>Poodle</td>\n",
       "      <td>Black</td>\n",
       "      <td>43</td>\n",
       "      <td>24</td>\n",
       "      <td>2016-09-16</td>\n",
       "    </tr>\n",
       "    <tr>\n",
       "      <th>0</th>\n",
       "      <td>Bella</td>\n",
       "      <td>Labrador</td>\n",
       "      <td>Brown</td>\n",
       "      <td>56</td>\n",
       "      <td>24</td>\n",
       "      <td>2013-07-01</td>\n",
       "    </tr>\n",
       "    <tr>\n",
       "      <th>3</th>\n",
       "      <td>Lucy</td>\n",
       "      <td>Chow Chow</td>\n",
       "      <td>Brown</td>\n",
       "      <td>46</td>\n",
       "      <td>24</td>\n",
       "      <td>2014-08-25</td>\n",
       "    </tr>\n",
       "    <tr>\n",
       "      <th>2</th>\n",
       "      <td>Cooper</td>\n",
       "      <td>Schnauze</td>\n",
       "      <td>Gray</td>\n",
       "      <td>49</td>\n",
       "      <td>17</td>\n",
       "      <td>2011-12-11</td>\n",
       "    </tr>\n",
       "  </tbody>\n",
       "</table>\n",
       "</div>"
      ]
     },
     "execution_count": 50,
     "metadata": {},
     "output_type": "execute_result"
    }
   ],
   "execution_count": 50
  },
  {
   "metadata": {
    "ExecuteTime": {
     "end_time": "2024-11-04T05:10:53.337509Z",
     "start_time": "2024-11-04T05:10:53.320052Z"
    }
   },
   "cell_type": "code",
   "source": [
    "import pandas as pd\n",
    "dogs = pd.read_csv('dogs.csv')\n",
    "dogs.sort_values([\"Weight(kg)\",\"Height(cm)\"]) # We can sort by multiple variables by passing a list of column names to the function. We sort first by weight, then by height."
   ],
   "id": "49b664de8d85b555",
   "outputs": [
    {
     "data": {
      "text/plain": [
       "      Name       Breed  Color  Height(cm)  Weight(kg) Date of Birth\n",
       "2   Cooper    Schnauze   Gray          49          17    2011-12-11\n",
       "1  Charlie      Poodle  Black          43          24    2016-09-16\n",
       "3     Lucy   Chow Chow  Brown          46          24    2014-08-25\n",
       "0    Bella    Labrador  Brown          56          24    2013-07-01\n",
       "4      Max    Labrador  Black          59          29    2017-01-20\n",
       "5   Bernie  St.Bernard  White          77          74    2018-02-27"
      ],
      "text/html": [
       "<div>\n",
       "<style scoped>\n",
       "    .dataframe tbody tr th:only-of-type {\n",
       "        vertical-align: middle;\n",
       "    }\n",
       "\n",
       "    .dataframe tbody tr th {\n",
       "        vertical-align: top;\n",
       "    }\n",
       "\n",
       "    .dataframe thead th {\n",
       "        text-align: right;\n",
       "    }\n",
       "</style>\n",
       "<table border=\"1\" class=\"dataframe\">\n",
       "  <thead>\n",
       "    <tr style=\"text-align: right;\">\n",
       "      <th></th>\n",
       "      <th>Name</th>\n",
       "      <th>Breed</th>\n",
       "      <th>Color</th>\n",
       "      <th>Height(cm)</th>\n",
       "      <th>Weight(kg)</th>\n",
       "      <th>Date of Birth</th>\n",
       "    </tr>\n",
       "  </thead>\n",
       "  <tbody>\n",
       "    <tr>\n",
       "      <th>2</th>\n",
       "      <td>Cooper</td>\n",
       "      <td>Schnauze</td>\n",
       "      <td>Gray</td>\n",
       "      <td>49</td>\n",
       "      <td>17</td>\n",
       "      <td>2011-12-11</td>\n",
       "    </tr>\n",
       "    <tr>\n",
       "      <th>1</th>\n",
       "      <td>Charlie</td>\n",
       "      <td>Poodle</td>\n",
       "      <td>Black</td>\n",
       "      <td>43</td>\n",
       "      <td>24</td>\n",
       "      <td>2016-09-16</td>\n",
       "    </tr>\n",
       "    <tr>\n",
       "      <th>3</th>\n",
       "      <td>Lucy</td>\n",
       "      <td>Chow Chow</td>\n",
       "      <td>Brown</td>\n",
       "      <td>46</td>\n",
       "      <td>24</td>\n",
       "      <td>2014-08-25</td>\n",
       "    </tr>\n",
       "    <tr>\n",
       "      <th>0</th>\n",
       "      <td>Bella</td>\n",
       "      <td>Labrador</td>\n",
       "      <td>Brown</td>\n",
       "      <td>56</td>\n",
       "      <td>24</td>\n",
       "      <td>2013-07-01</td>\n",
       "    </tr>\n",
       "    <tr>\n",
       "      <th>4</th>\n",
       "      <td>Max</td>\n",
       "      <td>Labrador</td>\n",
       "      <td>Black</td>\n",
       "      <td>59</td>\n",
       "      <td>29</td>\n",
       "      <td>2017-01-20</td>\n",
       "    </tr>\n",
       "    <tr>\n",
       "      <th>5</th>\n",
       "      <td>Bernie</td>\n",
       "      <td>St.Bernard</td>\n",
       "      <td>White</td>\n",
       "      <td>77</td>\n",
       "      <td>74</td>\n",
       "      <td>2018-02-27</td>\n",
       "    </tr>\n",
       "  </tbody>\n",
       "</table>\n",
       "</div>"
      ]
     },
     "execution_count": 51,
     "metadata": {},
     "output_type": "execute_result"
    }
   ],
   "execution_count": 51
  },
  {
   "metadata": {
    "ExecuteTime": {
     "end_time": "2024-11-04T05:11:25.909505Z",
     "start_time": "2024-11-04T05:11:25.895739Z"
    }
   },
   "cell_type": "code",
   "source": [
    "import pandas as pd\n",
    "dogs = pd.read_csv('dogs.csv')\n",
    "dogs.sort_values([\"Weight(kg)\",\"Height(cm)\"],ascending=[True,False])"
   ],
   "id": "fcad369251cae590",
   "outputs": [
    {
     "data": {
      "text/plain": [
       "      Name       Breed  Color  Height(cm)  Weight(kg) Date of Birth\n",
       "2   Cooper    Schnauze   Gray          49          17    2011-12-11\n",
       "0    Bella    Labrador  Brown          56          24    2013-07-01\n",
       "3     Lucy   Chow Chow  Brown          46          24    2014-08-25\n",
       "1  Charlie      Poodle  Black          43          24    2016-09-16\n",
       "4      Max    Labrador  Black          59          29    2017-01-20\n",
       "5   Bernie  St.Bernard  White          77          74    2018-02-27"
      ],
      "text/html": [
       "<div>\n",
       "<style scoped>\n",
       "    .dataframe tbody tr th:only-of-type {\n",
       "        vertical-align: middle;\n",
       "    }\n",
       "\n",
       "    .dataframe tbody tr th {\n",
       "        vertical-align: top;\n",
       "    }\n",
       "\n",
       "    .dataframe thead th {\n",
       "        text-align: right;\n",
       "    }\n",
       "</style>\n",
       "<table border=\"1\" class=\"dataframe\">\n",
       "  <thead>\n",
       "    <tr style=\"text-align: right;\">\n",
       "      <th></th>\n",
       "      <th>Name</th>\n",
       "      <th>Breed</th>\n",
       "      <th>Color</th>\n",
       "      <th>Height(cm)</th>\n",
       "      <th>Weight(kg)</th>\n",
       "      <th>Date of Birth</th>\n",
       "    </tr>\n",
       "  </thead>\n",
       "  <tbody>\n",
       "    <tr>\n",
       "      <th>2</th>\n",
       "      <td>Cooper</td>\n",
       "      <td>Schnauze</td>\n",
       "      <td>Gray</td>\n",
       "      <td>49</td>\n",
       "      <td>17</td>\n",
       "      <td>2011-12-11</td>\n",
       "    </tr>\n",
       "    <tr>\n",
       "      <th>0</th>\n",
       "      <td>Bella</td>\n",
       "      <td>Labrador</td>\n",
       "      <td>Brown</td>\n",
       "      <td>56</td>\n",
       "      <td>24</td>\n",
       "      <td>2013-07-01</td>\n",
       "    </tr>\n",
       "    <tr>\n",
       "      <th>3</th>\n",
       "      <td>Lucy</td>\n",
       "      <td>Chow Chow</td>\n",
       "      <td>Brown</td>\n",
       "      <td>46</td>\n",
       "      <td>24</td>\n",
       "      <td>2014-08-25</td>\n",
       "    </tr>\n",
       "    <tr>\n",
       "      <th>1</th>\n",
       "      <td>Charlie</td>\n",
       "      <td>Poodle</td>\n",
       "      <td>Black</td>\n",
       "      <td>43</td>\n",
       "      <td>24</td>\n",
       "      <td>2016-09-16</td>\n",
       "    </tr>\n",
       "    <tr>\n",
       "      <th>4</th>\n",
       "      <td>Max</td>\n",
       "      <td>Labrador</td>\n",
       "      <td>Black</td>\n",
       "      <td>59</td>\n",
       "      <td>29</td>\n",
       "      <td>2017-01-20</td>\n",
       "    </tr>\n",
       "    <tr>\n",
       "      <th>5</th>\n",
       "      <td>Bernie</td>\n",
       "      <td>St.Bernard</td>\n",
       "      <td>White</td>\n",
       "      <td>77</td>\n",
       "      <td>74</td>\n",
       "      <td>2018-02-27</td>\n",
       "    </tr>\n",
       "  </tbody>\n",
       "</table>\n",
       "</div>"
      ]
     },
     "execution_count": 53,
     "metadata": {},
     "output_type": "execute_result"
    }
   ],
   "execution_count": 53
  },
  {
   "metadata": {
    "ExecuteTime": {
     "end_time": "2024-11-04T05:12:55.984842Z",
     "start_time": "2024-11-04T05:12:55.967502Z"
    }
   },
   "cell_type": "code",
   "source": [
    "import pandas as pd\n",
    "dogs = pd.read_csv('dogs.csv')\n",
    "for column_name in dogs.columns:\n",
    "    print(dogs[column_name])\n",
    "    print()"
   ],
   "id": "3e3f9ccd13f28bf6",
   "outputs": [
    {
     "name": "stdout",
     "output_type": "stream",
     "text": [
      "0      Bella\n",
      "1    Charlie\n",
      "2     Cooper\n",
      "3       Lucy\n",
      "4        Max\n",
      "5     Bernie\n",
      "Name: Name, dtype: object\n",
      "\n",
      "0      Labrador\n",
      "1        Poodle\n",
      "2      Schnauze\n",
      "3     Chow Chow\n",
      "4      Labrador\n",
      "5    St.Bernard\n",
      "Name: Breed, dtype: object\n",
      "\n",
      "0    Brown\n",
      "1    Black\n",
      "2     Gray\n",
      "3    Brown\n",
      "4    Black\n",
      "5    White\n",
      "Name: Color, dtype: object\n",
      "\n",
      "0    56\n",
      "1    43\n",
      "2    49\n",
      "3    46\n",
      "4    59\n",
      "5    77\n",
      "Name: Height(cm), dtype: int64\n",
      "\n",
      "0    24\n",
      "1    24\n",
      "2    17\n",
      "3    24\n",
      "4    29\n",
      "5    74\n",
      "Name: Weight(kg), dtype: int64\n",
      "\n",
      "0    2013-07-01\n",
      "1    2016-09-16\n",
      "2    2011-12-11\n",
      "3    2014-08-25\n",
      "4    2017-01-20\n",
      "5    2018-02-27\n",
      "Name: Date of Birth, dtype: object\n",
      "\n"
     ]
    }
   ],
   "execution_count": 55
  },
  {
   "metadata": {
    "ExecuteTime": {
     "end_time": "2024-11-04T05:13:44.656945Z",
     "start_time": "2024-11-04T05:13:44.648040Z"
    }
   },
   "cell_type": "code",
   "source": [
    "import pandas as pd\n",
    "dogs = pd.read_csv('dogs.csv')\n",
    "print(dogs[[\"Breed\",\"Name\"]])"
   ],
   "id": "54461ed88e90e73d",
   "outputs": [
    {
     "name": "stdout",
     "output_type": "stream",
     "text": [
      "        Breed     Name\n",
      "0    Labrador    Bella\n",
      "1      Poodle  Charlie\n",
      "2    Schnauze   Cooper\n",
      "3   Chow Chow     Lucy\n",
      "4    Labrador      Max\n",
      "5  St.Bernard   Bernie\n"
     ]
    }
   ],
   "execution_count": 57
  },
  {
   "metadata": {
    "ExecuteTime": {
     "end_time": "2024-11-04T05:13:57.369356Z",
     "start_time": "2024-11-04T05:13:57.349002Z"
    }
   },
   "cell_type": "code",
   "source": [
    "import pandas as pd\n",
    "dogs = pd.read_csv('dogs.csv')\n",
    "print(dogs[[\"Name\",\"Breed\"]])"
   ],
   "id": "94c334a3f0f09404",
   "outputs": [
    {
     "name": "stdout",
     "output_type": "stream",
     "text": [
      "      Name       Breed\n",
      "0    Bella    Labrador\n",
      "1  Charlie      Poodle\n",
      "2   Cooper    Schnauze\n",
      "3     Lucy   Chow Chow\n",
      "4      Max    Labrador\n",
      "5   Bernie  St.Bernard\n"
     ]
    }
   ],
   "execution_count": 58
  },
  {
   "metadata": {
    "ExecuteTime": {
     "end_time": "2024-11-04T05:14:49.929906Z",
     "start_time": "2024-11-04T05:14:49.909061Z"
    }
   },
   "cell_type": "code",
   "source": [
    "import pandas as pd\n",
    "dogs = pd.read_csv('dogs.csv')\n",
    "dogs[\"Height(cm)\"] > 50 # the most common way to do this is by creating a logical condition to filter against."
   ],
   "id": "e5a8c37b99ff8a95",
   "outputs": [
    {
     "data": {
      "text/plain": [
       "0     True\n",
       "1    False\n",
       "2    False\n",
       "3    False\n",
       "4     True\n",
       "5     True\n",
       "Name: Height(cm), dtype: bool"
      ]
     },
     "execution_count": 59,
     "metadata": {},
     "output_type": "execute_result"
    }
   ],
   "execution_count": 59
  },
  {
   "metadata": {
    "ExecuteTime": {
     "end_time": "2024-11-04T05:16:43.512402Z",
     "start_time": "2024-11-04T05:16:43.498343Z"
    }
   },
   "cell_type": "code",
   "source": [
    "import pandas as pd\n",
    "dogs = pd.read_csv('dogs.csv')\n",
    "dogs[dogs[\"Height(cm)\"] > 50] # we can use logical condition inside [] to subset the rows"
   ],
   "id": "1f7355c021c0d4c6",
   "outputs": [
    {
     "data": {
      "text/plain": [
       "     Name       Breed  Color  Height(cm)  Weight(kg) Date of Birth\n",
       "0   Bella    Labrador  Brown          56          24    2013-07-01\n",
       "4     Max    Labrador  Black          59          29    2017-01-20\n",
       "5  Bernie  St.Bernard  White          77          74    2018-02-27"
      ],
      "text/html": [
       "<div>\n",
       "<style scoped>\n",
       "    .dataframe tbody tr th:only-of-type {\n",
       "        vertical-align: middle;\n",
       "    }\n",
       "\n",
       "    .dataframe tbody tr th {\n",
       "        vertical-align: top;\n",
       "    }\n",
       "\n",
       "    .dataframe thead th {\n",
       "        text-align: right;\n",
       "    }\n",
       "</style>\n",
       "<table border=\"1\" class=\"dataframe\">\n",
       "  <thead>\n",
       "    <tr style=\"text-align: right;\">\n",
       "      <th></th>\n",
       "      <th>Name</th>\n",
       "      <th>Breed</th>\n",
       "      <th>Color</th>\n",
       "      <th>Height(cm)</th>\n",
       "      <th>Weight(kg)</th>\n",
       "      <th>Date of Birth</th>\n",
       "    </tr>\n",
       "  </thead>\n",
       "  <tbody>\n",
       "    <tr>\n",
       "      <th>0</th>\n",
       "      <td>Bella</td>\n",
       "      <td>Labrador</td>\n",
       "      <td>Brown</td>\n",
       "      <td>56</td>\n",
       "      <td>24</td>\n",
       "      <td>2013-07-01</td>\n",
       "    </tr>\n",
       "    <tr>\n",
       "      <th>4</th>\n",
       "      <td>Max</td>\n",
       "      <td>Labrador</td>\n",
       "      <td>Black</td>\n",
       "      <td>59</td>\n",
       "      <td>29</td>\n",
       "      <td>2017-01-20</td>\n",
       "    </tr>\n",
       "    <tr>\n",
       "      <th>5</th>\n",
       "      <td>Bernie</td>\n",
       "      <td>St.Bernard</td>\n",
       "      <td>White</td>\n",
       "      <td>77</td>\n",
       "      <td>74</td>\n",
       "      <td>2018-02-27</td>\n",
       "    </tr>\n",
       "  </tbody>\n",
       "</table>\n",
       "</div>"
      ]
     },
     "execution_count": 62,
     "metadata": {},
     "output_type": "execute_result"
    }
   ],
   "execution_count": 62
  },
  {
   "metadata": {
    "ExecuteTime": {
     "end_time": "2024-11-04T05:17:57.076457Z",
     "start_time": "2024-11-04T05:17:57.044351Z"
    }
   },
   "cell_type": "code",
   "source": [
    "import pandas as pd\n",
    "dogs = pd.read_csv('dogs.csv')\n",
    "dogs[dogs[\"Breed\"] == \"Labrador\"]"
   ],
   "id": "6f459c63bda404b8",
   "outputs": [
    {
     "data": {
      "text/plain": [
       "    Name     Breed  Color  Height(cm)  Weight(kg) Date of Birth\n",
       "0  Bella  Labrador  Brown          56          24    2013-07-01\n",
       "4    Max  Labrador  Black          59          29    2017-01-20"
      ],
      "text/html": [
       "<div>\n",
       "<style scoped>\n",
       "    .dataframe tbody tr th:only-of-type {\n",
       "        vertical-align: middle;\n",
       "    }\n",
       "\n",
       "    .dataframe tbody tr th {\n",
       "        vertical-align: top;\n",
       "    }\n",
       "\n",
       "    .dataframe thead th {\n",
       "        text-align: right;\n",
       "    }\n",
       "</style>\n",
       "<table border=\"1\" class=\"dataframe\">\n",
       "  <thead>\n",
       "    <tr style=\"text-align: right;\">\n",
       "      <th></th>\n",
       "      <th>Name</th>\n",
       "      <th>Breed</th>\n",
       "      <th>Color</th>\n",
       "      <th>Height(cm)</th>\n",
       "      <th>Weight(kg)</th>\n",
       "      <th>Date of Birth</th>\n",
       "    </tr>\n",
       "  </thead>\n",
       "  <tbody>\n",
       "    <tr>\n",
       "      <th>0</th>\n",
       "      <td>Bella</td>\n",
       "      <td>Labrador</td>\n",
       "      <td>Brown</td>\n",
       "      <td>56</td>\n",
       "      <td>24</td>\n",
       "      <td>2013-07-01</td>\n",
       "    </tr>\n",
       "    <tr>\n",
       "      <th>4</th>\n",
       "      <td>Max</td>\n",
       "      <td>Labrador</td>\n",
       "      <td>Black</td>\n",
       "      <td>59</td>\n",
       "      <td>29</td>\n",
       "      <td>2017-01-20</td>\n",
       "    </tr>\n",
       "  </tbody>\n",
       "</table>\n",
       "</div>"
      ]
     },
     "execution_count": 63,
     "metadata": {},
     "output_type": "execute_result"
    }
   ],
   "execution_count": 63
  },
  {
   "metadata": {
    "ExecuteTime": {
     "end_time": "2024-11-04T05:18:59.728952Z",
     "start_time": "2024-11-04T05:18:59.712050Z"
    }
   },
   "cell_type": "code",
   "source": [
    "import pandas as pd\n",
    "dogs = pd.read_csv('dogs.csv')\n",
    "dogs[dogs[\"Date of Birth\"] < \"2015-01-01\"].sort_values(\"Date of Birth\") # YYYY - MM - DD is the standard format for date."
   ],
   "id": "565e841a3705a30",
   "outputs": [
    {
     "data": {
      "text/plain": [
       "     Name      Breed  Color  Height(cm)  Weight(kg) Date of Birth\n",
       "2  Cooper   Schnauze   Gray          49          17    2011-12-11\n",
       "0   Bella   Labrador  Brown          56          24    2013-07-01\n",
       "3    Lucy  Chow Chow  Brown          46          24    2014-08-25"
      ],
      "text/html": [
       "<div>\n",
       "<style scoped>\n",
       "    .dataframe tbody tr th:only-of-type {\n",
       "        vertical-align: middle;\n",
       "    }\n",
       "\n",
       "    .dataframe tbody tr th {\n",
       "        vertical-align: top;\n",
       "    }\n",
       "\n",
       "    .dataframe thead th {\n",
       "        text-align: right;\n",
       "    }\n",
       "</style>\n",
       "<table border=\"1\" class=\"dataframe\">\n",
       "  <thead>\n",
       "    <tr style=\"text-align: right;\">\n",
       "      <th></th>\n",
       "      <th>Name</th>\n",
       "      <th>Breed</th>\n",
       "      <th>Color</th>\n",
       "      <th>Height(cm)</th>\n",
       "      <th>Weight(kg)</th>\n",
       "      <th>Date of Birth</th>\n",
       "    </tr>\n",
       "  </thead>\n",
       "  <tbody>\n",
       "    <tr>\n",
       "      <th>2</th>\n",
       "      <td>Cooper</td>\n",
       "      <td>Schnauze</td>\n",
       "      <td>Gray</td>\n",
       "      <td>49</td>\n",
       "      <td>17</td>\n",
       "      <td>2011-12-11</td>\n",
       "    </tr>\n",
       "    <tr>\n",
       "      <th>0</th>\n",
       "      <td>Bella</td>\n",
       "      <td>Labrador</td>\n",
       "      <td>Brown</td>\n",
       "      <td>56</td>\n",
       "      <td>24</td>\n",
       "      <td>2013-07-01</td>\n",
       "    </tr>\n",
       "    <tr>\n",
       "      <th>3</th>\n",
       "      <td>Lucy</td>\n",
       "      <td>Chow Chow</td>\n",
       "      <td>Brown</td>\n",
       "      <td>46</td>\n",
       "      <td>24</td>\n",
       "      <td>2014-08-25</td>\n",
       "    </tr>\n",
       "  </tbody>\n",
       "</table>\n",
       "</div>"
      ]
     },
     "execution_count": 65,
     "metadata": {},
     "output_type": "execute_result"
    }
   ],
   "execution_count": 65
  },
  {
   "metadata": {
    "ExecuteTime": {
     "end_time": "2024-11-04T05:20:38.031180Z",
     "start_time": "2024-11-04T05:20:38.017373Z"
    }
   },
   "cell_type": "code",
   "source": [
    "import pandas as pd\n",
    "dogs = pd.read_csv('dogs.csv')\n",
    "is_lab = dogs[\"Breed\"] == \"Labrador\"\n",
    "is_brown = dogs[\"Color\"] == \"Brown\" \n",
    "dogs[is_lab & is_brown] #to subset the rows that meet multiple conditions, we're using logical operators."
   ],
   "id": "b761b7e5f39cde57",
   "outputs": [
    {
     "data": {
      "text/plain": [
       "    Name     Breed  Color  Height(cm)  Weight(kg) Date of Birth\n",
       "0  Bella  Labrador  Brown          56          24    2013-07-01"
      ],
      "text/html": [
       "<div>\n",
       "<style scoped>\n",
       "    .dataframe tbody tr th:only-of-type {\n",
       "        vertical-align: middle;\n",
       "    }\n",
       "\n",
       "    .dataframe tbody tr th {\n",
       "        vertical-align: top;\n",
       "    }\n",
       "\n",
       "    .dataframe thead th {\n",
       "        text-align: right;\n",
       "    }\n",
       "</style>\n",
       "<table border=\"1\" class=\"dataframe\">\n",
       "  <thead>\n",
       "    <tr style=\"text-align: right;\">\n",
       "      <th></th>\n",
       "      <th>Name</th>\n",
       "      <th>Breed</th>\n",
       "      <th>Color</th>\n",
       "      <th>Height(cm)</th>\n",
       "      <th>Weight(kg)</th>\n",
       "      <th>Date of Birth</th>\n",
       "    </tr>\n",
       "  </thead>\n",
       "  <tbody>\n",
       "    <tr>\n",
       "      <th>0</th>\n",
       "      <td>Bella</td>\n",
       "      <td>Labrador</td>\n",
       "      <td>Brown</td>\n",
       "      <td>56</td>\n",
       "      <td>24</td>\n",
       "      <td>2013-07-01</td>\n",
       "    </tr>\n",
       "  </tbody>\n",
       "</table>\n",
       "</div>"
      ]
     },
     "execution_count": 68,
     "metadata": {},
     "output_type": "execute_result"
    }
   ],
   "execution_count": 68
  },
  {
   "metadata": {
    "ExecuteTime": {
     "end_time": "2024-11-04T05:23:21.028411Z",
     "start_time": "2024-11-04T05:23:21.014562Z"
    }
   },
   "cell_type": "code",
   "source": [
    "# using isin() to filter on multiple values of a categorical variable.\n",
    "import pandas as pd\n",
    "dogs = pd.read_csv('dogs.csv')\n",
    "is_black_or_brown =  dogs[\"Color\"].isin([\"Black\",\"Brown\"])\n",
    "print(dogs[is_black_or_brown])"
   ],
   "id": "308fb94e55c88cf3",
   "outputs": [
    {
     "name": "stdout",
     "output_type": "stream",
     "text": [
      "      Name      Breed  Color  Height(cm)  Weight(kg) Date of Birth\n",
      "0    Bella   Labrador  Brown          56          24    2013-07-01\n",
      "1  Charlie     Poodle  Black          43          24    2016-09-16\n",
      "3     Lucy  Chow Chow  Brown          46          24    2014-08-25\n",
      "4      Max   Labrador  Black          59          29    2017-01-20\n"
     ]
    }
   ],
   "execution_count": 70
  },
  {
   "metadata": {
    "ExecuteTime": {
     "end_time": "2024-11-05T05:26:47.433615Z",
     "start_time": "2024-11-05T05:26:46.576039Z"
    }
   },
   "cell_type": "code",
   "source": [
    "import pandas as pd\n",
    "dogs = pd.read_csv('dogs.csv')\n",
    "dogs[\"height_m\"] = dogs[\"Height(cm)\"] / 100\n",
    "print(dogs)\n"
   ],
   "id": "8800561f430fb205",
   "outputs": [
    {
     "name": "stdout",
     "output_type": "stream",
     "text": [
      "      Name       Breed  Color  Height(cm)  Weight(kg) Date of Birth  height_m\n",
      "0    Bella    Labrador  Brown          56          24    2013-07-01      0.56\n",
      "1  Charlie      Poodle  Black          43          24    2016-09-16      0.43\n",
      "2   Cooper    Schnauze   Gray          49          17    2011-12-11      0.49\n",
      "3     Lucy   Chow Chow  Brown          46          24    2014-08-25      0.46\n",
      "4      Max    Labrador  Black          59          29    2017-01-20      0.59\n",
      "5   Bernie  St.Bernard  White          77          74    2018-02-27      0.77\n"
     ]
    }
   ],
   "execution_count": 1
  },
  {
   "metadata": {
    "ExecuteTime": {
     "end_time": "2024-11-05T05:28:26.260048Z",
     "start_time": "2024-11-05T05:28:26.242898Z"
    }
   },
   "cell_type": "code",
   "source": [
    "import pandas as pd\n",
    "dogs = pd.read_csv('dogs.csv')\n",
    "dogs[\"bmi\"] = dogs[\"Weight(kg)\"] / dogs[\"Height(cm)\"] ** 2\n",
    "dogs[\"bmi\"] = dogs[\"bmi\"].astype(float).round(4)\n",
    "print(dogs.head())"
   ],
   "id": "ab3b88535c1d8147",
   "outputs": [
    {
     "name": "stdout",
     "output_type": "stream",
     "text": [
      "      Name      Breed  Color  Height(cm)  Weight(kg) Date of Birth     bmi\n",
      "0    Bella   Labrador  Brown          56          24    2013-07-01  0.0077\n",
      "1  Charlie     Poodle  Black          43          24    2016-09-16  0.0130\n",
      "2   Cooper   Schnauze   Gray          49          17    2011-12-11  0.0071\n",
      "3     Lucy  Chow Chow  Brown          46          24    2014-08-25  0.0113\n",
      "4      Max   Labrador  Black          59          29    2017-01-20  0.0083\n"
     ]
    }
   ],
   "execution_count": 6
  },
  {
   "metadata": {
    "ExecuteTime": {
     "end_time": "2024-11-05T05:34:41.086903Z",
     "start_time": "2024-11-05T05:34:41.074245Z"
    }
   },
   "cell_type": "code",
   "source": [
    "import pandas as pd\n",
    "dogs = pd.read_csv('dogs.csv')\n",
    "dogs[\"height_m\"] = dogs[\"Height(cm)\"] / 100\n",
    "dogs[\"bmi\"] = dogs[\"Weight(kg)\"] / (dogs[\"height_m\"] ** 2)\n",
    "dogs[\"bmi\"] = dogs[\"bmi\"].astype(float).round(2)\n",
    "bmi_lt_100 = dogs[dogs[\"bmi\"] < 100]\n",
    "bmi_lt_100_height = bmi_lt_100.sort_values(\"height_m\", ascending=False)\n",
    "print(bmi_lt_100_height[[\"Name\",\"height_m\",\"bmi\"]])"
   ],
   "id": "3075f03ee1a162a7",
   "outputs": [
    {
     "name": "stdout",
     "output_type": "stream",
     "text": [
      "     Name  height_m    bmi\n",
      "4     Max      0.59  83.31\n",
      "0   Bella      0.56  76.53\n",
      "2  Cooper      0.49  70.80\n"
     ]
    }
   ],
   "execution_count": 27
  },
  {
   "metadata": {
    "ExecuteTime": {
     "end_time": "2024-11-05T06:08:47.286568Z",
     "start_time": "2024-11-05T06:08:47.267812Z"
    }
   },
   "cell_type": "code",
   "source": [
    "import pandas as pd\n",
    "dogs = pd.read_csv('dogs.csv')\n",
    "print(dogs[\"Height(cm)\"].mean())# mean() function tell where the \"center\" of your data is.\n",
    "#'''\n",
    "#We can also use .median() or .mode() or .min() or .max(), .var() , .std() , .sum() , .quantile()\n",
    "#'''\n",
    "print(dogs[\"Height(cm)\"].std())\n",
    "dogs[\"date_of_birth\"] = dogs[\"Date of Birth\"]\n",
    "print(dogs[\"date_of_birth\"].min())\n",
    "# the .agg() method\n",
    "def pct30(column):\n",
    "    return column.quantile(0.3)\n",
    "print(dogs[\"Weight(kg)\"].agg(pct30))\n",
    "print(dogs[\"Height(cm)\"].agg(pct30))\n",
    "def pct40(column):\n",
    "    return column.quantile(0.4)\n",
    "dogs[\"Weight(kg)\"].agg([pct30,pct40])\n",
    "print(dogs[\"Weight(kg)\"].cumsum()) # sum of each one - each one\n",
    "# .cummax()\n",
    "print(dogs[\"Weight(kg)\"].cummax())\n",
    "# .cummin()\n",
    "print(dogs[\"Weight(kg)\"].cummin())\n",
    "# .cumprod()\n",
    "print(dogs[\"Weight(kg)\"].cumprod())\n",
    "\n"
   ],
   "id": "1ce884c237be204a",
   "outputs": [
    {
     "name": "stdout",
     "output_type": "stream",
     "text": [
      "55.0\n",
      "12.345039489608771\n",
      "2011-12-11\n",
      "24.0\n",
      "47.5\n",
      "0     24\n",
      "1     48\n",
      "2     65\n",
      "3     89\n",
      "4    118\n",
      "5    192\n",
      "Name: Weight(kg), dtype: int64\n",
      "0    24\n",
      "1    24\n",
      "2    24\n",
      "3    24\n",
      "4    29\n",
      "5    74\n",
      "Name: Weight(kg), dtype: int64\n",
      "0    24\n",
      "1    24\n",
      "2    17\n",
      "3    17\n",
      "4    17\n",
      "5    17\n",
      "Name: Weight(kg), dtype: int64\n",
      "0           24\n",
      "1          576\n",
      "2         9792\n",
      "3       235008\n",
      "4      6815232\n",
      "5    504327168\n",
      "Name: Weight(kg), dtype: int64\n"
     ]
    }
   ],
   "execution_count": 51
  },
  {
   "metadata": {},
   "cell_type": "code",
   "source": [
    "import pandas as pd\n",
    "# the vet's office wants to know how many dogs of each breed have visited their office. However, some dogs have been to the vet more than once, so we can't just count the number of each breed in the breed column.\n",
    "vet_visits = pd.read_csv('vet_visits.csv')\n",
    "# By removing rows that contain in a dog name already listed earlier, we extract a dog with each name from the data set once. We use drop_duplicates() - take an argument, subset, which is the column we want to find our duplicates based on. We want all the unique names. \n",
    "vet_visits.drop_duplicates(subset = \"name\")\n",
    "# But what if we have 2 dogs - same name - different breed. We use duplicate pairs\n",
    "unique_dogs = vet_visits.drop_duplicates(subset = [\"name\",\"breed\"])\n",
    "unique_dogs['breed'].value_counts() # count the dogs of each breed\n",
    "unique_dogs['breed'].value_counts(normalize = True) # use normalize argument to turn into proportions of the total."
   ],
   "id": "69ec5ccf6e6426de",
   "outputs": [],
   "execution_count": null
  },
  {
   "metadata": {
    "ExecuteTime": {
     "end_time": "2024-11-05T07:13:17.171974Z",
     "start_time": "2024-11-05T07:13:17.137872Z"
    }
   },
   "cell_type": "code",
   "source": [
    "# Summaries by group\n",
    "import pandas as pd\n",
    "dogs = pd.read_csv('dogs.csv')\n",
    "print(dogs[dogs[\"Color\"] == \"Black\"][\"Weight(kg)\"].sum()\n",
    ",dogs[dogs[\"Color\"] == \"Brown\"][\"Weight(kg)\"].sum()\n",
    ",dogs[dogs[\"Color\"] == \"White\"][\"Weight(kg)\"].mean()\n",
    ",dogs[dogs[\"Color\"] == \"Gray\"][\"Weight(kg)\"].mean()\n",
    ",dogs[dogs[\"Color\"] == \"Tan\"][\"Weight(kg)\"].mean())\n",
    "print(dogs.groupby(\"Color\")[\"Weight(kg)\"].mean()) # use groupby() \n",
    "dogs.groupby([\"Color\",\"Breed\"])[\"Weight(kg)\"].mean()"
   ],
   "id": "b7e9d1937936f55a",
   "outputs": [
    {
     "name": "stdout",
     "output_type": "stream",
     "text": [
      "53 48 74.0 17.0 nan\n",
      "Color\n",
      "Black    26.5\n",
      "Brown    24.0\n",
      "Gray     17.0\n",
      "White    74.0\n",
      "Name: Weight(kg), dtype: float64\n"
     ]
    },
    {
     "data": {
      "text/plain": [
       "Color  Breed     \n",
       "Black  Labrador      29.0\n",
       "       Poodle        24.0\n",
       "Brown  Chow Chow     24.0\n",
       "       Labrador      24.0\n",
       "Gray   Schnauze      17.0\n",
       "White  St.Bernard    74.0\n",
       "Name: Weight(kg), dtype: float64"
      ]
     },
     "execution_count": 63,
     "metadata": {},
     "output_type": "execute_result"
    }
   ],
   "execution_count": 63
  },
  {
   "metadata": {
    "ExecuteTime": {
     "end_time": "2024-11-05T08:02:37.821615Z",
     "start_time": "2024-11-05T08:02:37.799569Z"
    }
   },
   "cell_type": "code",
   "source": [
    "import pandas as pd\n",
    "import numpy as np\n",
    "dogs = pd.read_csv('dogs.csv')\n",
    "print(dogs.groupby('Color')[\"Weight(kg)\"].mean())\n",
    "print(dogs.pivot_table(values = \"Weight(kg)\", index = \"Color\"))\n",
    "print(dogs.pivot_table(values = \"Weight(kg)\", index = \"Color\", aggfunc =[\"mean\",\"median\"]))"
   ],
   "id": "94e78acdf7a0db6c",
   "outputs": [
    {
     "name": "stdout",
     "output_type": "stream",
     "text": [
      "Color\n",
      "Black    26.5\n",
      "Brown    24.0\n",
      "Gray     17.0\n",
      "White    74.0\n",
      "Name: Weight(kg), dtype: float64\n",
      "       Weight(kg)\n",
      "Color            \n",
      "Black        26.5\n",
      "Brown        24.0\n",
      "Gray         17.0\n",
      "White        74.0\n",
      "            mean     median\n",
      "      Weight(kg) Weight(kg)\n",
      "Color                      \n",
      "Black       26.5       26.5\n",
      "Brown       24.0       24.0\n",
      "Gray        17.0       17.0\n",
      "White       74.0       74.0\n"
     ]
    }
   ],
   "execution_count": 78
  },
  {
   "metadata": {
    "ExecuteTime": {
     "end_time": "2024-11-05T08:06:27.312632Z",
     "start_time": "2024-11-05T08:06:27.269875Z"
    }
   },
   "cell_type": "code",
   "source": [
    "import pandas as pd\n",
    "dogs = pd.read_csv('dogs.csv')\n",
    "import numpy as np\n",
    "print(dogs.groupby([\"Color\",\"Breed\"])[\"Weight(kg)\"].mean())\n",
    "print(dogs.pivot_table(values = \"Weight(kg)\", index = \"Color\", columns = \"Breed\"))\n",
    "print(dogs.pivot_table(values = \"Weight(kg)\", index = \"Color\", columns = \"Breed\",fill_value=0))\n",
    "print(dogs.pivot_table(values = \"Weight(kg)\", index = \"Color\", columns = \"Breed\", fill_value=0, margins = True))"
   ],
   "id": "28fd6ad08d965df8",
   "outputs": [
    {
     "name": "stdout",
     "output_type": "stream",
     "text": [
      "Color  Breed     \n",
      "Black  Labrador      29.0\n",
      "       Poodle        24.0\n",
      "Brown  Chow Chow     24.0\n",
      "       Labrador      24.0\n",
      "Gray   Schnauze      17.0\n",
      "White  St.Bernard    74.0\n",
      "Name: Weight(kg), dtype: float64\n",
      "Breed  Chow Chow  Labrador  Poodle  Schnauze  St.Bernard\n",
      "Color                                                   \n",
      "Black        NaN      29.0    24.0       NaN         NaN\n",
      "Brown       24.0      24.0     NaN       NaN         NaN\n",
      "Gray         NaN       NaN     NaN      17.0         NaN\n",
      "White        NaN       NaN     NaN       NaN        74.0\n",
      "Breed  Chow Chow  Labrador  Poodle  Schnauze  St.Bernard\n",
      "Color                                                   \n",
      "Black        0.0      29.0    24.0       0.0         0.0\n",
      "Brown       24.0      24.0     0.0       0.0         0.0\n",
      "Gray         0.0       0.0     0.0      17.0         0.0\n",
      "White        0.0       0.0     0.0       0.0        74.0\n",
      "Breed  Chow Chow  Labrador  Poodle  Schnauze  St.Bernard   All\n",
      "Color                                                         \n",
      "Black        0.0      29.0    24.0       0.0         0.0  26.5\n",
      "Brown       24.0      24.0     0.0       0.0         0.0  24.0\n",
      "Gray         0.0       0.0     0.0      17.0         0.0  17.0\n",
      "White        0.0       0.0     0.0       0.0        74.0  74.0\n",
      "All         24.0      26.5    24.0      17.0        74.0  32.0\n"
     ]
    }
   ],
   "execution_count": 83
  },
  {
   "metadata": {
    "ExecuteTime": {
     "end_time": "2024-11-05T08:20:52.826008Z",
     "start_time": "2024-11-05T08:20:52.808519Z"
    }
   },
   "cell_type": "code",
   "source": [
    "import pandas as pd\n",
    "dogs = pd.read_csv('dogs.csv')\n",
    "# setting a column as the index\n",
    "dogs_ind = dogs.set_index(\"Name\")\n",
    "print(dogs_ind.head())\n",
    "# To undo what we did, we can reset the index with reset_index()\n",
    "dogs_ind = dogs_ind.reset_index()\n",
    "print(dogs_ind.head())\n",
    "dogs_ind = dogs.set_index(\"Name\")\n",
    "dogs_ind = dogs_ind.reset_index(drop=True) # set `drop` argument to remove the index columns.\n",
    "print(dogs_ind.head())"
   ],
   "id": "b983db6ad6a4ae3e",
   "outputs": [
    {
     "name": "stdout",
     "output_type": "stream",
     "text": [
      "             Breed  Color  Height(cm)  Weight(kg) Date of Birth\n",
      "Name                                                           \n",
      "Bella     Labrador  Brown          56          24    2013-07-01\n",
      "Charlie     Poodle  Black          43          24    2016-09-16\n",
      "Cooper    Schnauze   Gray          49          17    2011-12-11\n",
      "Lucy     Chow Chow  Brown          46          24    2014-08-25\n",
      "Max       Labrador  Black          59          29    2017-01-20\n",
      "      Name      Breed  Color  Height(cm)  Weight(kg) Date of Birth\n",
      "0    Bella   Labrador  Brown          56          24    2013-07-01\n",
      "1  Charlie     Poodle  Black          43          24    2016-09-16\n",
      "2   Cooper   Schnauze   Gray          49          17    2011-12-11\n",
      "3     Lucy  Chow Chow  Brown          46          24    2014-08-25\n",
      "4      Max   Labrador  Black          59          29    2017-01-20\n",
      "       Breed  Color  Height(cm)  Weight(kg) Date of Birth\n",
      "0   Labrador  Brown          56          24    2013-07-01\n",
      "1     Poodle  Black          43          24    2016-09-16\n",
      "2   Schnauze   Gray          49          17    2011-12-11\n",
      "3  Chow Chow  Brown          46          24    2014-08-25\n",
      "4   Labrador  Black          59          29    2017-01-20\n"
     ]
    }
   ],
   "execution_count": 89
  },
  {
   "metadata": {
    "ExecuteTime": {
     "end_time": "2024-11-05T08:23:55.727633Z",
     "start_time": "2024-11-05T08:23:55.712806Z"
    }
   },
   "cell_type": "code",
   "source": [
    "# indexes make subsetting simpler\n",
    "import pandas as pd\n",
    "dogs = pd.read_csv('dogs.csv')\n",
    "# using subsetting in normal way\n",
    "print(dogs[dogs[\"Name\"].isin([\"Bella\",\"Max\"])])\n",
    "# using indexes\n",
    "dogs_ind = dogs.set_index(\"Name\")\n",
    "print(dogs_ind.loc[[\"Bella\",\"Max\"]])"
   ],
   "id": "30716cac923d07a5",
   "outputs": [
    {
     "name": "stdout",
     "output_type": "stream",
     "text": [
      "    Name     Breed  Color  Height(cm)  Weight(kg) Date of Birth\n",
      "0  Bella  Labrador  Brown          56          24    2013-07-01\n",
      "4    Max  Labrador  Black          59          29    2017-01-20\n",
      "          Breed  Color  Height(cm)  Weight(kg) Date of Birth\n",
      "Name                                                        \n",
      "Bella  Labrador  Brown          56          24    2013-07-01\n",
      "Max    Labrador  Black          59          29    2017-01-20\n"
     ]
    }
   ],
   "execution_count": 95
  },
  {
   "metadata": {
    "ExecuteTime": {
     "end_time": "2024-11-05T08:26:55.986217Z",
     "start_time": "2024-11-05T08:26:55.971871Z"
    }
   },
   "cell_type": "code",
   "source": [
    "import pandas as pd\n",
    "dogs = pd.read_csv('dogs.csv')\n",
    "dogs_ind2 = dogs.set_index(\"Breed\")\n",
    "print(dogs_ind2)\n",
    "# We can see that index values don't need to be unique\n",
    "print(dogs_ind2.loc[\"Labrador\"])"
   ],
   "id": "ffb6dd2b22ed2f5",
   "outputs": [
    {
     "name": "stdout",
     "output_type": "stream",
     "text": [
      "               Name  Color  Height(cm)  Weight(kg) Date of Birth\n",
      "Breed                                                           \n",
      "Labrador      Bella  Brown          56          24    2013-07-01\n",
      "Poodle      Charlie  Black          43          24    2016-09-16\n",
      "Schnauze     Cooper   Gray          49          17    2011-12-11\n",
      "Chow Chow      Lucy  Brown          46          24    2014-08-25\n",
      "Labrador        Max  Black          59          29    2017-01-20\n",
      "St.Bernard   Bernie  White          77          74    2018-02-27\n",
      "           Name  Color  Height(cm)  Weight(kg) Date of Birth\n",
      "Breed                                                       \n",
      "Labrador  Bella  Brown          56          24    2013-07-01\n",
      "Labrador    Max  Black          59          29    2017-01-20\n"
     ]
    }
   ],
   "execution_count": 97
  },
  {
   "metadata": {
    "ExecuteTime": {
     "end_time": "2024-11-05T08:35:34.117346Z",
     "start_time": "2024-11-05T08:35:34.093648Z"
    }
   },
   "cell_type": "code",
   "source": [
    "import pandas as pd\n",
    "dogs = pd.read_csv(\"dogs.csv\")\n",
    "# Multi-level indexes a.k.a hierarchical indexes\n",
    "dogs_ind3 = dogs.set_index([\"Breed\", \"Color\"])\n",
    "print(dogs_ind3)\n",
    "print(dogs_ind3.loc[[\"Labrador\",\"Chow Chow\"]]) #use outer level\n",
    "print(dogs_ind3.loc[[(\"Labrador\", \"Brown\"), (\"Poodle\",\"Black\")]]) # use tuple for inner level\n",
    "print(dogs_ind3.sort_index(level = [\"Color\", \"Breed\"], ascending = [True, False]))"
   ],
   "id": "de334f16fed2121d",
   "outputs": [
    {
     "name": "stdout",
     "output_type": "stream",
     "text": [
      "                     Name  Height(cm)  Weight(kg) Date of Birth\n",
      "Breed      Color                                               \n",
      "Labrador   Brown    Bella          56          24    2013-07-01\n",
      "Poodle     Black  Charlie          43          24    2016-09-16\n",
      "Schnauze   Gray    Cooper          49          17    2011-12-11\n",
      "Chow Chow  Brown     Lucy          46          24    2014-08-25\n",
      "Labrador   Black      Max          59          29    2017-01-20\n",
      "St.Bernard White   Bernie          77          74    2018-02-27\n",
      "                  Name  Height(cm)  Weight(kg) Date of Birth\n",
      "Breed     Color                                             \n",
      "Labrador  Brown  Bella          56          24    2013-07-01\n",
      "          Black    Max          59          29    2017-01-20\n",
      "Chow Chow Brown   Lucy          46          24    2014-08-25\n",
      "                   Name  Height(cm)  Weight(kg) Date of Birth\n",
      "Breed    Color                                               \n",
      "Labrador Brown    Bella          56          24    2013-07-01\n",
      "Poodle   Black  Charlie          43          24    2016-09-16\n",
      "                     Name  Height(cm)  Weight(kg) Date of Birth\n",
      "Breed      Color                                               \n",
      "Poodle     Black  Charlie          43          24    2016-09-16\n",
      "Labrador   Black      Max          59          29    2017-01-20\n",
      "           Brown    Bella          56          24    2013-07-01\n",
      "Chow Chow  Brown     Lucy          46          24    2014-08-25\n",
      "Schnauze   Gray    Cooper          49          17    2011-12-11\n",
      "St.Bernard White   Bernie          77          74    2018-02-27\n"
     ]
    }
   ],
   "execution_count": 103
  },
  {
   "metadata": {},
   "cell_type": "raw",
   "source": "Index are controversial. ALthough they simplify subsetting code, there are some downsides. Index values are just data. Storing data in multiple forms makes it harder to think about. There is a concept called \"tidy data\", where data is stored in its own column.",
   "id": "2e69b4c4af983106"
  },
  {
   "metadata": {},
   "cell_type": "markdown",
   "source": "#### Slicing and subsetting with `.loc` and `.iloc`\n",
   "id": "19df5054a5450c51"
  },
  {
   "metadata": {
    "ExecuteTime": {
     "end_time": "2024-11-05T12:50:48.121376Z",
     "start_time": "2024-11-05T12:50:48.094859Z"
    }
   },
   "cell_type": "code",
   "source": [
    "# You can slice DataFrames, but first you need to sort the index.\n",
    "import pandas as pd\n",
    "dogs = pd.read_csv('dogs.csv')\n",
    "# Sort the index before you slice\n",
    "dogs_srt = dogs.set_index([\"Breed\",\"Color\"]).sort_index()\n",
    "print(dogs_srt)\n",
    "print(dogs_srt.loc[\"Chow Chow\":\"Poodle\"])\n",
    "# Slicing the inner index levels correctly\n",
    "print(dogs_srt.loc[(\"Labrador\", \"Brown\"):(\"Schnauze\", \"Gray\")])\n",
    "# Slicing columns\n",
    "print(dogs_srt.loc[:, \"Name\":\"Height(cm)\"])\n",
    "# slice twice\n",
    "print(dogs_srt.loc[(\"Labrador\", \"Brown\"):(\"Schnauze\", \"Gray\"),\"Name\":\"Height(cm)\"])"
   ],
   "id": "dde855b422337163",
   "outputs": [
    {
     "name": "stdout",
     "output_type": "stream",
     "text": [
      "                     Name  Height(cm)  Weight(kg) Date of Birth\n",
      "Breed      Color                                               \n",
      "Chow Chow  Brown     Lucy          46          24    2014-08-25\n",
      "Labrador   Black      Max          59          29    2017-01-20\n",
      "           Brown    Bella          56          24    2013-07-01\n",
      "Poodle     Black  Charlie          43          24    2016-09-16\n",
      "Schnauze   Gray    Cooper          49          17    2011-12-11\n",
      "St.Bernard White   Bernie          77          74    2018-02-27\n",
      "                    Name  Height(cm)  Weight(kg) Date of Birth\n",
      "Breed     Color                                               \n",
      "Chow Chow Brown     Lucy          46          24    2014-08-25\n",
      "Labrador  Black      Max          59          29    2017-01-20\n",
      "          Brown    Bella          56          24    2013-07-01\n",
      "Poodle    Black  Charlie          43          24    2016-09-16\n",
      "                   Name  Height(cm)  Weight(kg) Date of Birth\n",
      "Breed    Color                                               \n",
      "Labrador Brown    Bella          56          24    2013-07-01\n",
      "Poodle   Black  Charlie          43          24    2016-09-16\n",
      "Schnauze Gray    Cooper          49          17    2011-12-11\n",
      "                     Name  Height(cm)\n",
      "Breed      Color                     \n",
      "Chow Chow  Brown     Lucy          46\n",
      "Labrador   Black      Max          59\n",
      "           Brown    Bella          56\n",
      "Poodle     Black  Charlie          43\n",
      "Schnauze   Gray    Cooper          49\n",
      "St.Bernard White   Bernie          77\n",
      "                   Name  Height(cm)\n",
      "Breed    Color                     \n",
      "Labrador Brown    Bella          56\n",
      "Poodle   Black  Charlie          43\n",
      "Schnauze Gray    Cooper          49\n"
     ]
    }
   ],
   "execution_count": 9
  },
  {
   "metadata": {
    "ExecuteTime": {
     "end_time": "2024-11-05T12:52:47.358955Z",
     "start_time": "2024-11-05T12:52:47.344767Z"
    }
   },
   "cell_type": "code",
   "source": [
    "import pandas as pd\n",
    "dogs = pd.read_csv('dogs.csv')\n",
    "dogs = dogs.set_index(\"Date of Birth\").sort_index()\n",
    "print(dogs)\n",
    "print(dogs.loc[\"2014-08-25\":\"2016-09-16\"])\n",
    "# Subsetting by row/column number\n",
    "print(dogs.iloc[2:5,1:4])"
   ],
   "id": "596c269a83d180c5",
   "outputs": [
    {
     "name": "stdout",
     "output_type": "stream",
     "text": [
      "                  Name       Breed  Color  Height(cm)  Weight(kg)\n",
      "Date of Birth                                                    \n",
      "2011-12-11      Cooper    Schnauze   Gray          49          17\n",
      "2013-07-01       Bella    Labrador  Brown          56          24\n",
      "2014-08-25        Lucy   Chow Chow  Brown          46          24\n",
      "2016-09-16     Charlie      Poodle  Black          43          24\n",
      "2017-01-20         Max    Labrador  Black          59          29\n",
      "2018-02-27      Bernie  St.Bernard  White          77          74\n",
      "                  Name      Breed  Color  Height(cm)  Weight(kg)\n",
      "Date of Birth                                                   \n",
      "2014-08-25        Lucy  Chow Chow  Brown          46          24\n",
      "2016-09-16     Charlie     Poodle  Black          43          24\n",
      "                   Breed  Color  Height(cm)\n",
      "Date of Birth                              \n",
      "2014-08-25     Chow Chow  Brown          46\n",
      "2016-09-16        Poodle  Black          43\n",
      "2017-01-20      Labrador  Black          59\n"
     ]
    }
   ],
   "execution_count": 13
  },
  {
   "metadata": {},
   "cell_type": "markdown",
   "source": "#### Working with pivot tables",
   "id": "44ccd7d12286ff46"
  },
  {
   "metadata": {},
   "cell_type": "code",
   "outputs": [],
   "execution_count": null,
   "source": [
    "# pivot tables are just DataFrames with sorted indexes. That means the loc and slicing combination is ideal for subsetting pivot tables, like so.\n",
    "import pandas as pd\n",
    "dogs = pd.read_csv('dogs.csv')\n",
    "dogs_height_by_breed_vs_color = dogs.pivot_table(values = \"Height(cm)\", index = \"Breed\", columns = \"Color\")\n",
    "dogs_height_by_breed_vs_color.mean(axis = \"index\") #which means \"calculate the statistic across rows\".\n",
    "dogs_height_by_breed_vs_color.mean(axis = \"columns\") # across the columns"
   ],
   "id": "2ca7cd879ba8f250"
  }
 ],
 "metadata": {
  "kernelspec": {
   "display_name": "Python 3",
   "language": "python",
   "name": "python3"
  },
  "language_info": {
   "codemirror_mode": {
    "name": "ipython",
    "version": 2
   },
   "file_extension": ".py",
   "mimetype": "text/x-python",
   "name": "python",
   "nbconvert_exporter": "python",
   "pygments_lexer": "ipython2",
   "version": "2.7.6"
  }
 },
 "nbformat": 4,
 "nbformat_minor": 5
}
